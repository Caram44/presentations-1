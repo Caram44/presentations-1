{
 "metadata": {
  "name": ""
 },
 "nbformat": 3,
 "nbformat_minor": 0,
 "worksheets": [
  {
   "cells": [
    {
     "cell_type": "markdown",
     "metadata": {
      "slideshow": {
       "slide_type": "slide"
      }
     },
     "source": [
      "# IPython\n",
      "## Python Magic on the Command Line and Web\n",
      "\n",
      "Austin Godber  \n",
      "@godber  \n",
      "\n",
      "DesertPy - 3/26/2014"
     ]
    },
    {
     "cell_type": "markdown",
     "metadata": {
      "slideshow": {
       "slide_type": "slide"
      }
     },
     "source": [
      "# IPython REPL\n",
      "\n",
      "An enhanced command line with these features\n",
      "\n",
      "```text\n",
      "+------------------+----------------------------+\n",
      "| Python Help      | Magic                      |\n",
      "| Sytem Aliases    | Dynamic Object Information |\n",
      "| Tab Completion   | Searchable History         |\n",
      "| Logging          | Session save and restore   |\n",
      "| System Commands  | Colorized output           |\n",
      "| Input Caching    | Output Caching             |\n",
      "+------------------+----------------------------+\n",
      "```"
     ]
    },
    {
     "cell_type": "markdown",
     "metadata": {
      "slideshow": {
       "slide_type": "slide"
      }
     },
     "source": [
      "# IPython Installation\n",
      "\n",
      "* System Pacakages - `sudo apt-get update && sudo apt-get upgrade`\n",
      "* OS X - Homebrew - `brew install ipython`\n",
      "* PIP - `pip install ipython`\n",
      "* Get it bundled\n",
      "  * Commercial Pythons - [anaconda](https://store.continuum.io/cshop/anaconda/), [canopy](https://www.enthought.com/products/canopy/)\n",
      "  * [python(x,y)](https://code.google.com/p/pythonxy/)\n",
      "  * Use the [DesertPy Salt Stack setup](https://github.com/godber/ipynb)\n"
     ]
    },
    {
     "cell_type": "markdown",
     "metadata": {
      "slideshow": {
       "slide_type": "slide"
      }
     },
     "source": [
      "# IPython REPL Examples\n",
      "\n",
      "* `help`, `help(obj)`"
     ]
    },
    {
     "cell_type": "markdown",
     "metadata": {
      "slideshow": {
       "slide_type": "subslide"
      }
     },
     "source": [
      "```text\n",
      ">>> import inspect\n",
      "# see help on the inspect module\n",
      ">>> help(inspect)\n",
      "```"
     ]
    },
    {
     "cell_type": "markdown",
     "metadata": {
      "slideshow": {
       "slide_type": "subslide"
      }
     },
     "source": [
      "```text\n",
      ">>> import re\n",
      "# see help on an object\n",
      ">>> r = re.compile('^Austin Rocks.*$')\n",
      ">>> type(r)\n",
      "_sre.SRE_Pattern\n",
      "# shows help on SRE_Pattern\n",
      ">>> help(r)\n",
      "```"
     ]
    },
    {
     "cell_type": "markdown",
     "metadata": {
      "slideshow": {
       "slide_type": "slide"
      }
     },
     "source": [
      "# Other Notebook Tips"
     ]
    },
    {
     "cell_type": "markdown",
     "metadata": {
      "slideshow": {
       "slide_type": "slide"
      }
     },
     "source": [
      "# Notebook Conversion - nbconvert\n",
      "\n",
      "* A saved notebook is a JSON file ending with .ipynb.\n",
      "* It can be converted to other formats with the `nbconvert` subcommand of ipython (it had been a separate tool but was merged)."
     ]
    },
    {
     "cell_type": "markdown",
     "metadata": {
      "slideshow": {
       "slide_type": "subslide"
      }
     },
     "source": [
      "## Generate HTML\n",
      "\n",
      "```bash\n",
      "ipython nbconvert mynotebook.ipynb --to html --template basic\n",
      "```"
     ]
    },
    {
     "cell_type": "markdown",
     "metadata": {
      "slideshow": {
       "slide_type": "subslide"
      }
     },
     "source": [
      "## Generate LaTeX\n",
      "```bash\n",
      "ipython nbconvert mynotebook.ipynb --to latex\n",
      "```"
     ]
    },
    {
     "cell_type": "markdown",
     "metadata": {
      "slideshow": {
       "slide_type": "subslide"
      }
     },
     "source": [
      "## Generate LaTeX and make a PDF\n",
      "```bash\n",
      "ipython nbconvert mynotebook.ipynb --to latex --post PDF\n",
      "```"
     ]
    },
    {
     "cell_type": "markdown",
     "metadata": {
      "slideshow": {
       "slide_type": "subslide"
      }
     },
     "source": [
      "## Generate Restructured Text\n",
      "```bash\n",
      "ipython nbconvert mynotebook.ipynb --to rst\n",
      "```"
     ]
    },
    {
     "cell_type": "markdown",
     "metadata": {
      "slideshow": {
       "slide_type": "subslide"
      }
     },
     "source": [
      "## You can even make presentations!\n",
      "\n",
      "```bash\n",
      "ipython nbconvert IPython_Presentation.ipynb --to slides\n",
      "```"
     ]
    },
    {
     "cell_type": "markdown",
     "metadata": {
      "slideshow": {
       "slide_type": "slide"
      }
     },
     "source": [
      "# Remote Access Trick - ngrok\n",
      "\n",
      "My notebook runs on my desktop but I'm not home?\n",
      "\n",
      "Make it accessible using [ngrok](http://ngrok.com)"
     ]
    },
    {
     "cell_type": "code",
     "collapsed": false,
     "input": [],
     "language": "python",
     "metadata": {},
     "outputs": []
    }
   ],
   "metadata": {}
  }
 ]
}
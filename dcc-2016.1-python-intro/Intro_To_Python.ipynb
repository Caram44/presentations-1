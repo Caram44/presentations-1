{
 "cells": [
  {
   "cell_type": "markdown",
   "metadata": {
    "slideshow": {
     "slide_type": "slide"
    }
   },
   "source": [
    "<img src=\"python-logo-generic.svg\" alt=\"Python Logo\">\n",
    "\n",
    "# Introduction to Python: The language, ecosystem and community\n",
    "\n",
    "**Austin Godber**  \n",
    "**@godber**  \n",
    "DesertPy Co-Organizer  \n",
    "Meetup, Github and http://desertpy.com\n",
    "\n",
    "\n",
    "Desert Code Camp 2016.1 - 10/08/2016"
   ]
  },
  {
   "cell_type": "markdown",
   "metadata": {
    "slideshow": {
     "slide_type": "slide"
    }
   },
   "source": [
    "# Python 2 vs Python 3\n",
    "\n",
    "### Simple - Use Python 3 unless you have a convincing reason not to.\n",
    "\n",
    "* https://docs.python.org/3/\n",
    "* https://docs.python.org/2.7/"
   ]
  },
  {
   "cell_type": "markdown",
   "metadata": {
    "slideshow": {
     "slide_type": "slide"
    }
   },
   "source": [
    "# Python Language Syntax"
   ]
  },
  {
   "cell_type": "code",
   "execution_count": 14,
   "metadata": {
    "collapsed": false,
    "slideshow": {
     "slide_type": "-"
    }
   },
   "outputs": [
    {
     "name": "stdout",
     "output_type": "stream",
     "text": [
      "Hello, World!\n"
     ]
    }
   ],
   "source": [
    "print(\"Hello, World!\")"
   ]
  },
  {
   "cell_type": "code",
   "execution_count": 16,
   "metadata": {
    "collapsed": false,
    "slideshow": {
     "slide_type": "subslide"
    }
   },
   "outputs": [
    {
     "name": "stdout",
     "output_type": "stream",
     "text": [
      "Hello, World!\n"
     ]
    }
   ],
   "source": [
    "def hello1():\n",
    "    print(\"Hello, World!\")\n",
    "    \n",
    "hello1()"
   ]
  },
  {
   "cell_type": "code",
   "execution_count": 25,
   "metadata": {
    "collapsed": false,
    "slideshow": {
     "slide_type": "subslide"
    }
   },
   "outputs": [
    {
     "name": "stdout",
     "output_type": "stream",
     "text": [
      "Hello, World!\n",
      "Hello, Skippy!\n"
     ]
    }
   ],
   "source": [
    "def hello2(name=None):\n",
    "    if not name:\n",
    "        name = \"World\"\n",
    "    print(\"Hello, %s!\" % name)\n",
    "    \n",
    "hello2()\n",
    "hello2(\"Skippy\")"
   ]
  },
  {
   "cell_type": "code",
   "execution_count": 38,
   "metadata": {
    "collapsed": true,
    "slideshow": {
     "slide_type": "subslide"
    }
   },
   "outputs": [],
   "source": [
    "class Person1(object):\n",
    "    \"\"\"Class representing a person, usually used for providing Greetings.\"\"\"\n",
    "    \n",
    "    def __init__(self, name):\n",
    "        self.name = name\n",
    "        \n",
    "    def greet(self):\n",
    "        print(\"Hello, %s!\" % self.name)"
   ]
  },
  {
   "cell_type": "code",
   "execution_count": 39,
   "metadata": {
    "collapsed": false
   },
   "outputs": [
    {
     "name": "stdout",
     "output_type": "stream",
     "text": [
      "Hello, Skippy!\n",
      "Hello, Skippy!\n"
     ]
    }
   ],
   "source": [
    "skippy = Person1(\"Skippy\")\n",
    "skippy.greet()\n",
    "hello2(skippy.name)"
   ]
  },
  {
   "cell_type": "code",
   "execution_count": 64,
   "metadata": {
    "collapsed": true,
    "slideshow": {
     "slide_type": "subslide"
    }
   },
   "outputs": [],
   "source": [
    "class Person2(object):\n",
    "    \"\"\"Class representing a person, usually used for providing Greetings.\"\"\"\n",
    "    \n",
    "    def __init__(self, name, height):\n",
    "        self.name = name\n",
    "        self.height = height  # Height of person in inches\n",
    "\n",
    "    def greet(self):\n",
    "        print(\"Hello, %s!\" % self.name)\n",
    "    \n",
    "    @property\n",
    "    def height_ft(self):\n",
    "        return self.height / 12.0"
   ]
  },
  {
   "cell_type": "code",
   "execution_count": 65,
   "metadata": {
    "collapsed": false
   },
   "outputs": [
    {
     "name": "stdout",
     "output_type": "stream",
     "text": [
      "Hello, Chip!\n"
     ]
    },
    {
     "data": {
      "text/plain": [
       "6.0"
      ]
     },
     "execution_count": 65,
     "metadata": {},
     "output_type": "execute_result"
    }
   ],
   "source": [
    "chip = Person2('Chip', 72)\n",
    "chip.greet()\n",
    "chip.height_ft"
   ]
  },
  {
   "cell_type": "markdown",
   "metadata": {},
   "source": [
    "Great post on OOP in Python\n",
    "\n",
    "https://jeffknupp.com/blog/2014/06/18/improve-your-python-python-classes-and-object-oriented-programming/"
   ]
  },
  {
   "cell_type": "code",
   "execution_count": null,
   "metadata": {
    "collapsed": true
   },
   "outputs": [],
   "source": [
    "# types?`"
   ]
  },
  {
   "cell_type": "markdown",
   "metadata": {
    "slideshow": {
     "slide_type": "slide"
    }
   },
   "source": [
    "# Python Language\n",
    "\n",
    "* Python Language Reference - https://docs.python.org/3/reference/index.html\n",
    "* Python Standard Library - https://docs.python.org/3/library/index.html\n",
    "* 3rd Party Modules - https://pypi.python.org/pypi"
   ]
  },
  {
   "cell_type": "markdown",
   "metadata": {},
   "source": [
    "# Python Tools\n",
    "\n",
    "* REPL - python, IPython\n",
    "* Docstrings -> Sphinx -> Read The Docs\n",
    "* Packages - pip (wheel), cookiecutter\n",
    "* Interactive Environments - Spyder, Jupyter (IPython) Notebook\n",
    "* Editors - sublimetext, atom, spyder, PyCharm, vim\n",
    "* Syntax/Code Checkers - pylint, pep8, autopep8"
   ]
  },
  {
   "cell_type": "markdown",
   "metadata": {},
   "source": [
    "# Style and Idiomatic ???\n",
    "\n",
    "* PEP 8\n",
    "* The Python Way ... `import this`\n",
    "* some idiomatic examples??\n",
    "  * http://python.net/~goodger/projects/pycon/2007/idiomatic/handout.html"
   ]
  },
  {
   "cell_type": "markdown",
   "metadata": {},
   "source": [
    "# Getting Python\n",
    "\n",
    "* Windows - Anaconda/miniconda, Enthought Canopy\n",
    "* OS X - Default install, or Homebrew\n",
    "* Linux - Default install"
   ]
  },
  {
   "cell_type": "markdown",
   "metadata": {
    "slideshow": {
     "slide_type": "slide"
    }
   },
   "source": [
    "# Use Cases\n",
    "\n",
    "* Web Applications\n",
    "  * Flask\n",
    "  * Django\n",
    "  * CherryPy, Pyramid, Web2py, etc\n",
    "* Numerical, Scientific Applications\n",
    "  * IPython/Jupyter\n",
    "  * Pandas\n",
    "  * Numpy\n",
    "  * Scipy\n",
    "  * Scikit-learn\n",
    "  * AstroPY\n",
    "* Plotting\n",
    "  * Matplotlib\n",
    "  * Bokeh\n",
    "  * Altair\n",
    "  * etc\n",
    "  * Comparison\n",
    "      * https://dansaber.wordpress.com/2016/10/02/a-dramatic-tour-through-pythons-data-visualization-landscape-including-ggplot-and-altair/\n",
    "* Image manipulation and Image Processing\n",
    "  * PIL/Pillow, Imageio\n",
    "  * scikit-image\n",
    "* Python as an embedded scripting platform\n",
    "  * Blender\n",
    "  * ArcGIS\n",
    "  * QGIS"
   ]
  },
  {
   "cell_type": "code",
   "execution_count": null,
   "metadata": {
    "collapsed": true
   },
   "outputs": [],
   "source": []
  }
 ],
 "metadata": {
  "celltoolbar": "Slideshow",
  "kernelspec": {
   "display_name": "Python 3",
   "language": "python",
   "name": "python3"
  },
  "language_info": {
   "codemirror_mode": {
    "name": "ipython",
    "version": 3
   },
   "file_extension": ".py",
   "mimetype": "text/x-python",
   "name": "python",
   "nbconvert_exporter": "python",
   "pygments_lexer": "ipython3",
   "version": "3.5.1"
  }
 },
 "nbformat": 4,
 "nbformat_minor": 0
}

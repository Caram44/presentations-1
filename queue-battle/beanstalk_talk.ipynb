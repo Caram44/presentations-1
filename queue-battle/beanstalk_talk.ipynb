{
 "metadata": {
  "celltoolbar": "Slideshow",
  "name": "",
  "signature": "sha256:500a1ed2d25121668a99ead27cb6c726fd97073f6dfa283094727b5d4529e35e"
 },
 "nbformat": 3,
 "nbformat_minor": 0,
 "worksheets": [
  {
   "cells": [
    {
     "cell_type": "markdown",
     "metadata": {
      "slideshow": {
       "slide_type": "slide"
      }
     },
     "source": [
      "# Battle of the Queues\n",
      "## Beanstalkd\n",
      "\n",
      "Sarah Braden\n",
      "\n",
      "@ifmoonwascookie\n",
      "\n",
      "\n",
      "DesertPy - 25 February 2015"
     ]
    },
    {
     "cell_type": "markdown",
     "metadata": {
      "slideshow": {
       "slide_type": "slide"
      }
     },
     "source": [
      "##We are not here to talk about\n",
      "\n",
      "a) AWS Elastic Beanstalk: http://aws.amazon.com/elasticbeanstalk/\n",
      "\n",
      "b) Git workflow thingy: http://beanstalkapp.com/"
     ]
    },
    {
     "cell_type": "markdown",
     "metadata": {
      "slideshow": {
       "slide_type": "slide"
      }
     },
     "source": [
      "# Why Beanstalkd?\n",
      "\n",
      "Philotic, Inc. developed beanstalk to improve the response time (reducing the latency of page views) for the Causes on Facebook application (with over 9.5 million users)\n",
      "\n",
      "Designed from the ground up to be a work queue running tasks asynchronously\n",
      "\n",
      "http://kr.github.io/beanstalkd/"
     ]
    },
    {
     "cell_type": "markdown",
     "metadata": {
      "slideshow": {
       "slide_type": "slide"
      }
     },
     "source": [
      "#Client Libraries\n",
      "In 23 different languages\n",
      "https://github.com/kr/beanstalkd/wiki/client-libraries\n",
      "\n",
      "###Python\n",
      "\n",
      "pybeanstalk\n",
      "\n",
      "beanstalkc - The one I use\n",
      "\n",
      "beanstalkt - An async beanstalkd client for Tornado (a Python web framework and asynchronous networking library)"
     ]
    },
    {
     "cell_type": "markdown",
     "metadata": {
      "slideshow": {
       "slide_type": "slide"
      }
     },
     "source": [
      "#beanstalkc\n",
      "A simple beanstalkd client library for Python:\n",
      "https://github.com/earl/beanstalkc\n",
      "\n",
      "Caveat: beanstalkc is currently only supported on Python 2 and automatically tested against Python 2.6 and 2.7. Python 3 is not (yet) supported."
     ]
    },
    {
     "cell_type": "markdown",
     "metadata": {
      "slideshow": {
       "slide_type": "slide"
      }
     },
     "source": [
      "#How to install\n",
      "\n",
      "###Debian and Ubuntu\n",
      "\n",
      "<code>sudo apt-get install beanstalkd</code>\n",
      "\n",
      "###Homebrew for Mac\n",
      "\n",
      "<code>brew install beanstalkd</code>\n",
      "   \n",
      "###Windows\n",
      "\n",
      "<code>no</code>"
     ]
    },
    {
     "cell_type": "markdown",
     "metadata": {
      "slideshow": {
       "slide_type": "slide"
      }
     },
     "source": [
      "# Overview"
     ]
    },
    {
     "cell_type": "markdown",
     "metadata": {
      "slideshow": {
       "slide_type": "subslide"
      }
     },
     "source": [
      "##Beanstalkd Terminology\n",
      "\n",
      "Worker - a client which connects to the message server to reserve, delete and bury jobs.\n",
      "\n",
      "Provider - a client which connects to the message server to create jobs."
     ]
    },
    {
     "cell_type": "markdown",
     "metadata": {
      "slideshow": {
       "slide_type": "subslide"
      }
     },
     "source": [
      "###Persistency\n",
      "\n",
      "Redundancy is handled on the client side and if a server goes down you will lose jobs.\n",
      "\n",
      "Beanstalkd does include an option to store jobs in a binary log, by launching Beanstalkd with the -b option. \n",
      "\n",
      "You can restoring the queue manually by restarting beanstalkd with the -b option and it will recover the contents of the log (requires access to the server disks). \n",
      "\n",
      "###Communication\n",
      "Event based networking - can handle lots of incoming connections.\n",
      "\n",
      "Communicates via PUSH sockets providing communication between providers and workers. \n",
      "\n",
      "When a provider enqueues a job, a worker can reserve it immediately if it is connected and ready. \n",
      "\n",
      "Jobs are reserved until a worker has sent a response (delete, bury, etc.)\n",
      "\n"
     ]
    },
    {
     "cell_type": "markdown",
     "metadata": {
      "slideshow": {
       "slide_type": "subslide"
      }
     },
     "source": [
      "###Fidelity\n",
      "\n",
      "Queues are FIFO (first in, first out). \n",
      "\n",
      "A reserved job reaches only 1 worker. If the connection is lost or the work returns it, only then it will be available to other workers to be reserved. If a worker finished the job, it will delete it. \n",
      "\n",
      "Unless a worker has timed out, two or more workers will never run the same job in parallel.\n",
      "\n",
      "###Distribution\n",
      "\n",
      "The beanstalkd server doesn\u2019t know anything about other beanstalkd instances that are running.\n",
      "\n",
      "###Prioritization\n",
      "Jobs with higher importance can be prioritised which will affect the order in which jobs are dequeued."
     ]
    },
    {
     "cell_type": "markdown",
     "metadata": {
      "slideshow": {
       "slide_type": "subslide"
      }
     },
     "source": [
      "###Supports TTR (time-to-run)\n",
      "\n",
      "If a job takes more than the defined TTR, it will be available to other consumers even if the original consumer didn't finish yet.\n",
      "\n",
      "When a job has been reserved. a timer starts counting down from the job's TTR (default = 120 seconds).\n",
      "\n",
      "<li>If the timer reaches zero, the job gets put back in the ready queue for another task to run it.</li>\n",
      "\n",
      "<li>If the job is buried, deleted, or released before the timer runs out, the timer ceases to exist.</li>\n",
      "\n",
      "<li>If the job is 'touched' before the timer reaches zero, the timer starts over counting down from TTR.</li>"
     ]
    },
    {
     "cell_type": "markdown",
     "metadata": {
      "slideshow": {
       "slide_type": "slide"
      }
     },
     "source": [
      "#Message State Terminology\n",
      "\n",
      "###Buried Status \n",
      "\n",
      "Puts a job in a failed state. The job cannot be reprocessed until it is manually kicked back into the queue. No auto retry.\n",
      "\n",
      "\"Kicking\" (a job) returns a previously buried job to the queue ready for workers to pick up.\n",
      "\n",
      "###Reserved Status\n",
      "Delivers a job to a worker and locks it from being delivered to another worker.\n",
      "\n",
      "###Delayed status\n",
      "Defers a job from being sent to a worker for a predetermined amount of time."
     ]
    },
    {
     "cell_type": "code",
     "collapsed": false,
     "input": [
      "\n",
      "   put with delay               release with delay\n",
      "  ----------------> [DELAYED] <------------.\n",
      "                        |                   |\n",
      "                        | (time passes)     |\n",
      "                        |                   |\n",
      "   put                  v     reserve       |       delete\n",
      "  -----------------> [READY] ---------> [RESERVED] --------> *poof*\n",
      "                       ^  ^                |  |\n",
      "                       |   \\  release      |  |\n",
      "                       |    `-------------'   |\n",
      "                       |                      |\n",
      "                       | kick                 |\n",
      "                       |                      |\n",
      "                       |       bury           |\n",
      "                    [BURIED] <---------------'\n",
      "                       |\n",
      "                       |  delete\n",
      "                        `--------> *poof*"
     ],
     "language": "python",
     "metadata": {
      "slideshow": {
       "slide_type": "slide"
      }
     },
     "outputs": []
    },
    {
     "cell_type": "markdown",
     "metadata": {
      "slideshow": {
       "slide_type": "slide"
      }
     },
     "source": [
      "#Run beanstalkd\n",
      "Type into the terminal to start it (default port = 11300)\n",
      "    \n",
      "<code>beanstalkd</code>"
     ]
    },
    {
     "cell_type": "markdown",
     "metadata": {
      "slideshow": {
       "slide_type": "slide"
      }
     },
     "source": [
      "#Beanstalkc Example"
     ]
    },
    {
     "cell_type": "markdown",
     "metadata": {
      "slideshow": {
       "slide_type": "slide"
      }
     },
     "source": [
      "Besides having beanstalkc installed, you'll typically also need PyYAML.\n",
      "\n",
      "<code>pip install pyyaml</code>"
     ]
    },
    {
     "cell_type": "code",
     "collapsed": false,
     "input": [
      "import beanstalkc"
     ],
     "language": "python",
     "metadata": {
      "slideshow": {
       "slide_type": "subslide"
      }
     },
     "outputs": [],
     "prompt_number": 1
    },
    {
     "cell_type": "markdown",
     "metadata": {
      "slideshow": {
       "slide_type": "subslide"
      }
     },
     "source": [
      "Set up a connection to an (already running) beanstalkd server"
     ]
    },
    {
     "cell_type": "code",
     "collapsed": false,
     "input": [
      "beanstalk = beanstalkc.Connection(host='localhost', port=11300)"
     ],
     "language": "python",
     "metadata": {
      "slideshow": {
       "slide_type": "fragment"
      }
     },
     "outputs": [],
     "prompt_number": 20
    },
    {
     "cell_type": "markdown",
     "metadata": {
      "slideshow": {
       "slide_type": "subslide"
      }
     },
     "source": [
      "Enqueue a job"
     ]
    },
    {
     "cell_type": "code",
     "collapsed": false,
     "input": [
      "beanstalk.put('hello!')"
     ],
     "language": "python",
     "metadata": {
      "slideshow": {
       "slide_type": "fragment"
      }
     },
     "outputs": [
      {
       "metadata": {},
       "output_type": "pyout",
       "prompt_number": 21,
       "text": [
        "2"
       ]
      }
     ],
     "prompt_number": 21
    },
    {
     "cell_type": "markdown",
     "metadata": {
      "slideshow": {
       "slide_type": "subslide"
      }
     },
     "source": [
      "Request a job"
     ]
    },
    {
     "cell_type": "code",
     "collapsed": false,
     "input": [
      "job = beanstalk.reserve()"
     ],
     "language": "python",
     "metadata": {
      "slideshow": {
       "slide_type": "fragment"
      }
     },
     "outputs": [],
     "prompt_number": 22
    },
    {
     "cell_type": "markdown",
     "metadata": {
      "slideshow": {
       "slide_type": "subslide"
      }
     },
     "source": [
      "Get job body so you can do tasks"
     ]
    },
    {
     "cell_type": "code",
     "collapsed": false,
     "input": [
      "job.body"
     ],
     "language": "python",
     "metadata": {
      "slideshow": {
       "slide_type": "fragment"
      }
     },
     "outputs": [
      {
       "metadata": {},
       "output_type": "pyout",
       "prompt_number": 23,
       "text": [
        "'hello!'"
       ]
      }
     ],
     "prompt_number": 23
    },
    {
     "cell_type": "markdown",
     "metadata": {
      "slideshow": {
       "slide_type": "subslide"
      }
     },
     "source": [
      "Once you are done with processing a job, you have to mark it as done, otherwise jobs are re-queued by beanstalkd after a \"time to run\" (120 seconds, per default) is surpassed. A job is marked as done, by calling delete."
     ]
    },
    {
     "cell_type": "code",
     "collapsed": false,
     "input": [
      "job.delete()"
     ],
     "language": "python",
     "metadata": {
      "slideshow": {
       "slide_type": "fragment"
      }
     },
     "outputs": [],
     "prompt_number": 24
    },
    {
     "cell_type": "markdown",
     "metadata": {
      "slideshow": {
       "slide_type": "slide"
      }
     },
     "source": [
      "# Tubes"
     ]
    },
    {
     "cell_type": "markdown",
     "metadata": {
      "slideshow": {
       "slide_type": "subslide"
      }
     },
     "source": [
      "Different queues are called tubes"
     ]
    },
    {
     "cell_type": "code",
     "collapsed": false,
     "input": [
      "beanstalk.tubes()"
     ],
     "language": "python",
     "metadata": {
      "slideshow": {
       "slide_type": "fragment"
      }
     },
     "outputs": [
      {
       "metadata": {},
       "output_type": "pyout",
       "prompt_number": 25,
       "text": [
        "['default']"
       ]
      }
     ],
     "prompt_number": 25
    },
    {
     "cell_type": "markdown",
     "metadata": {
      "slideshow": {
       "slide_type": "subslide"
      }
     },
     "source": [
      "Which tube are you using?"
     ]
    },
    {
     "cell_type": "code",
     "collapsed": false,
     "input": [
      "beanstalk.using()"
     ],
     "language": "python",
     "metadata": {
      "slideshow": {
       "slide_type": "fragment"
      }
     },
     "outputs": [
      {
       "metadata": {},
       "output_type": "pyout",
       "prompt_number": 26,
       "text": [
        "'default'"
       ]
      }
     ],
     "prompt_number": 26
    },
    {
     "cell_type": "markdown",
     "metadata": {
      "slideshow": {
       "slide_type": "subslide"
      }
     },
     "source": [
      "If you decide to use a tube, that does not yet exist, the tube is automatically created by beanstalkd"
     ]
    },
    {
     "cell_type": "code",
     "collapsed": false,
     "input": [
      "beanstalk.use('foo_tube')\n",
      "beanstalk.use('another_tube')"
     ],
     "language": "python",
     "metadata": {
      "slideshow": {
       "slide_type": "fragment"
      }
     },
     "outputs": [
      {
       "metadata": {},
       "output_type": "pyout",
       "prompt_number": 27,
       "text": [
        "'another_tube'"
       ]
      }
     ],
     "prompt_number": 27
    },
    {
     "cell_type": "markdown",
     "metadata": {
      "slideshow": {
       "slide_type": "subslide"
      }
     },
     "source": [
      "Tubes that don't have any client using or watching, vanish automatically. a beanstalkd client (aka beanstalk c) can choose many tubes to reserve jobs from. These tubes are \"watched\" by the client. To see what tubes you are currently watching:"
     ]
    },
    {
     "cell_type": "code",
     "collapsed": false,
     "input": [
      "beanstalk.watch('default')"
     ],
     "language": "python",
     "metadata": {
      "slideshow": {
       "slide_type": "fragment"
      }
     },
     "outputs": [
      {
       "metadata": {},
       "output_type": "pyout",
       "prompt_number": 28,
       "text": [
        "1"
       ]
      }
     ],
     "prompt_number": 28
    },
    {
     "cell_type": "code",
     "collapsed": false,
     "input": [
      "beanstalk.watching()"
     ],
     "language": "python",
     "metadata": {
      "slideshow": {
       "slide_type": "fragment"
      }
     },
     "outputs": [
      {
       "metadata": {},
       "output_type": "pyout",
       "prompt_number": 29,
       "text": [
        "['default']"
       ]
      }
     ],
     "prompt_number": 29
    },
    {
     "cell_type": "code",
     "collapsed": false,
     "input": [
      "beanstalk.watch('foo_tube')"
     ],
     "language": "python",
     "metadata": {
      "slideshow": {
       "slide_type": "fragment"
      }
     },
     "outputs": [
      {
       "metadata": {},
       "output_type": "pyout",
       "prompt_number": 30,
       "text": [
        "2"
       ]
      }
     ],
     "prompt_number": 30
    },
    {
     "cell_type": "code",
     "collapsed": false,
     "input": [
      "beanstalk.watching()"
     ],
     "language": "python",
     "metadata": {
      "slideshow": {
       "slide_type": "fragment"
      }
     },
     "outputs": [
      {
       "metadata": {},
       "output_type": "pyout",
       "prompt_number": 31,
       "text": [
        "['default', 'foo_tube']"
       ]
      }
     ],
     "prompt_number": 31
    },
    {
     "cell_type": "markdown",
     "metadata": {
      "slideshow": {
       "slide_type": "subslide"
      }
     },
     "source": [
      "To stop watching a tube"
     ]
    },
    {
     "cell_type": "code",
     "collapsed": false,
     "input": [
      "beanstalk.ignore('default')"
     ],
     "language": "python",
     "metadata": {
      "slideshow": {
       "slide_type": "fragment"
      }
     },
     "outputs": [
      {
       "metadata": {},
       "output_type": "pyout",
       "prompt_number": 32,
       "text": [
        "1"
       ]
      }
     ],
     "prompt_number": 32
    },
    {
     "cell_type": "code",
     "collapsed": false,
     "input": [
      "beanstalk.watching()"
     ],
     "language": "python",
     "metadata": {
      "slideshow": {
       "slide_type": "fragment"
      }
     },
     "outputs": [
      {
       "metadata": {},
       "output_type": "pyout",
       "prompt_number": 33,
       "text": [
        "['foo_tube']"
       ]
      }
     ],
     "prompt_number": 33
    },
    {
     "cell_type": "markdown",
     "metadata": {
      "slideshow": {
       "slide_type": "subslide"
      }
     },
     "source": [
      "Close the connection"
     ]
    },
    {
     "cell_type": "code",
     "collapsed": false,
     "input": [
      "beanstalk.close()"
     ],
     "language": "python",
     "metadata": {
      "slideshow": {
       "slide_type": "fragment"
      }
     },
     "outputs": []
    },
    {
     "cell_type": "markdown",
     "metadata": {
      "slideshow": {
       "slide_type": "slide"
      }
     },
     "source": [
      "#Monitoring Queues\n",
      "\n",
      "Use linux 'watch' command and queueit cli (https://github.com/chexov/queueit)\n",
      "\n",
      "    watch -n5 QUEUEIT_HOST=hostname.com q-stat\n",
      "\n",
      "Other Tools available: https://github.com/kr/beanstalkd/wiki/Tools"
     ]
    },
    {
     "cell_type": "markdown",
     "metadata": {
      "slideshow": {
       "slide_type": "slide"
      }
     },
     "source": [
      "#Further Reading\n",
      "    \n",
      "http://www.sitepoint.com/message-queues-comparing-beanstalkd-ironmq-amazon-sqs/\n",
      "\n",
      "http://www.quora.com/What-are-the-advantages-and-disadvantages-of-Beanstalkd-as-a-work-queue\n",
      "\n",
      "http://queues.io/\n",
      "\n",
      "https://github.com/earl/beanstalkc/blob/master/TUTORIAL.mkd\n",
      "\n",
      "http://www.amqp.org/"
     ]
    },
    {
     "cell_type": "markdown",
     "metadata": {
      "slideshow": {
       "slide_type": "fragment"
      }
     },
     "source": [
      "Slides generated using reveal.js\n",
      "\n",
      "ipython nbconvert beanstalk_talk.ipynb --to slides --reveal-prefix \"http://cdn.jsdelivr.net/reveal.js/2.6.2\" --post serve"
     ]
    }
   ],
   "metadata": {}
  }
 ]
}
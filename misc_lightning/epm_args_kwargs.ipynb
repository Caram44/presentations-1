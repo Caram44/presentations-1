{
 "cells": [
  {
   "cell_type": "markdown",
   "metadata": {
    "slideshow": {
     "slide_type": "slide"
    }
   },
   "source": [
    "# \\*args and \\*\\*kwargs in 5 minutes\n",
    "\n",
    "<img src=\"lightning.png\" style=\"float: right\" height=\"160\" width=\"160\">\n",
    "\n",
    "When do we use these? Why?\n",
    "\n",
    "EPM"
   ]
  },
  {
   "cell_type": "markdown",
   "metadata": {
    "slideshow": {
     "slide_type": "slide"
    }
   },
   "source": [
    "# You see them before you use them"
   ]
  },
  {
   "cell_type": "markdown",
   "metadata": {},
   "source": [
    "I'd always see this in the API for interesting things ... clear specification of what you needed for the function and then these star things:"
   ]
  },
  {
   "cell_type": "code",
   "execution_count": 1,
   "metadata": {
    "collapsed": false,
    "slideshow": {
     "slide_type": "-"
    }
   },
   "outputs": [],
   "source": [
    "def makeSomethingCool(thing, nTimes, color=None, *args, **kwargs):\n",
    "    # make the things here\n",
    "    pass\n",
    "    "
   ]
  },
  {
   "cell_type": "markdown",
   "metadata": {
    "slideshow": {
     "slide_type": "slide"
    }
   },
   "source": [
    "# Anatomy of a Function"
   ]
  },
  {
   "cell_type": "markdown",
   "metadata": {},
   "source": [
    "A function has positional arguments (always these first), followed by keyword arguments, and then optional arguments."
   ]
  },
  {
   "cell_type": "code",
   "execution_count": 36,
   "metadata": {
    "collapsed": true
   },
   "outputs": [],
   "source": [
    "def makeSomeDessert(thing, nTimes, kind='chocolate'):\n",
    "    '''This function requires a string of the thing you're making,\n",
    "    a numeric quantity, optional kind keyword'''\n",
    "    print('I am going to make {0}. I will make {1} of them.'.format(thing,nTimes))\n",
    "    print('The kind of {0} I make will be {1}.'.format(thing,kind))"
   ]
  },
  {
   "cell_type": "code",
   "execution_count": 37,
   "metadata": {
    "collapsed": false,
    "slideshow": {
     "slide_type": "subslide"
    }
   },
   "outputs": [
    {
     "name": "stdout",
     "output_type": "stream",
     "text": [
      "I am going to make pie. I will make 3 of them.\n",
      "The kind of pie I make will be apple.\n"
     ]
    }
   ],
   "source": [
    "makeSomeDessert('pie',3,kind='apple')"
   ]
  },
  {
   "cell_type": "markdown",
   "metadata": {
    "slideshow": {
     "slide_type": "slide"
    }
   },
   "source": [
    "# But, what if I don't know how many arguments I'll want?\n",
    "\n",
    "Use optional arguments:"
   ]
  },
  {
   "cell_type": "code",
   "execution_count": 1,
   "metadata": {
    "collapsed": false
   },
   "outputs": [],
   "source": [
    "def makeMoreDessert(thing, *args, **kwargs):\n",
    "    '''This function shows optional arguments.  If this were a real function\n",
    "    you would write a better docstring.  Also return something.'''\n",
    "    print('I am going to make {0}.'.format(thing))\n",
    "    if len(kwargs)>0:\n",
    "        for kind,qty in kwargs.items():\n",
    "            print('I will make {0} of type {1}.'.format(qty,kind))\n",
    "    if len(args)>0:\n",
    "        evenMoreDessert = ' and '.join(args)\n",
    "        print('If I have time I will also make {0}.'.format(evenMoreDessert))"
   ]
  },
  {
   "cell_type": "code",
   "execution_count": 2,
   "metadata": {
    "collapsed": false,
    "slideshow": {
     "slide_type": "subslide"
    }
   },
   "outputs": [
    {
     "name": "stdout",
     "output_type": "stream",
     "text": [
      "I am going to make cookies.\n",
      "I will make 37 of type shortbread.\n",
      "I will make 129 of type chocChip.\n",
      "I will make 428 of type snickerdoodle.\n"
     ]
    }
   ],
   "source": [
    "makeMoreDessert('cookies', chocChip=129, snickerdoodle=428, shortbread=37)\n"
   ]
  },
  {
   "cell_type": "markdown",
   "metadata": {},
   "source": [
    "(Don't count on your dictionary items being returned in any specific order.)"
   ]
  },
  {
   "cell_type": "markdown",
   "metadata": {
    "slideshow": {
     "slide_type": "slide"
    }
   },
   "source": [
    "# What else might happen?"
   ]
  },
  {
   "cell_type": "code",
   "execution_count": 3,
   "metadata": {
    "collapsed": false
   },
   "outputs": [
    {
     "ename": "SyntaxError",
     "evalue": "keyword can't be an expression (<ipython-input-3-00421af398d2>, line 1)",
     "output_type": "error",
     "traceback": [
      "\u001b[0;36m  File \u001b[0;32m\"<ipython-input-3-00421af398d2>\"\u001b[0;36m, line \u001b[0;32m1\u001b[0m\n\u001b[0;31m    makeMoreDessert('pie', apple=2, blueberry=1, cherry=3, 'key lime'=2)\u001b[0m\n\u001b[0m                                                          ^\u001b[0m\n\u001b[0;31mSyntaxError\u001b[0m\u001b[0;31m:\u001b[0m keyword can't be an expression\n"
     ]
    }
   ],
   "source": [
    "makeMoreDessert('pie', apple=2, blueberry=1, cherry=3, 'key lime'=2)"
   ]
  },
  {
   "cell_type": "markdown",
   "metadata": {},
   "source": [
    "Oops, I guess a keyword can only be a single word -- go find some keylimes.  Or key_limes."
   ]
  },
  {
   "cell_type": "code",
   "execution_count": 4,
   "metadata": {
    "collapsed": false
   },
   "outputs": [
    {
     "name": "stdout",
     "output_type": "stream",
     "text": [
      "I am going to make pie.\n",
      "I will make 2 of type apple.\n",
      "I will make 2 of type key_lime.\n",
      "I will make 1 of type blueberry.\n",
      "I will make 3 of type cherry.\n"
     ]
    }
   ],
   "source": [
    "makeMoreDessert('pie', apple=2, blueberry=1, cherry=3, key_lime=2)"
   ]
  },
  {
   "cell_type": "markdown",
   "metadata": {
    "slideshow": {
     "slide_type": "slide"
    }
   },
   "source": [
    "# That covers your kwargs, what about those args?"
   ]
  },
  {
   "cell_type": "markdown",
   "metadata": {},
   "source": [
    "Key word arguments are packed into a dictionary; excess positional arguments are packed in a tuple."
   ]
  },
  {
   "cell_type": "code",
   "execution_count": 9,
   "metadata": {
    "collapsed": false
   },
   "outputs": [
    {
     "name": "stdout",
     "output_type": "stream",
     "text": [
      "I am going to make cake.\n",
      "I will make 2 of type pineappleUpsideDownCake.\n",
      "I will make 1 of type blackForest.\n",
      "If I have time I will also make ice cream and gelato and espresso.\n"
     ]
    }
   ],
   "source": [
    "makeMoreDessert(\n",
    "    'cake', 'ice cream', 'gelato', 'espresso',\n",
    "    blackForest=1, pineappleUpsideDownCake=2\n",
    ")"
   ]
  },
  {
   "cell_type": "markdown",
   "metadata": {
    "slideshow": {
     "slide_type": "slide"
    }
   },
   "source": [
    "# To finish off, you will need..."
   ]
  },
  {
   "cell_type": "code",
   "execution_count": 6,
   "metadata": {
    "collapsed": false
   },
   "outputs": [
    {
     "name": "stdout",
     "output_type": "stream",
     "text": [
      "I am going to make a mint.\n",
      "I will make 1 of type wafer_thin.\n"
     ]
    }
   ],
   "source": [
    "makeMoreDessert('a mint',wafer_thin=1)"
   ]
  }
 ],
 "metadata": {
  "celltoolbar": "Slideshow",
  "kernelspec": {
   "display_name": "Python 3",
   "language": "python",
   "name": "python3"
  },
  "language_info": {
   "codemirror_mode": {
    "name": "ipython",
    "version": 3
   },
   "file_extension": ".py",
   "mimetype": "text/x-python",
   "name": "python",
   "nbconvert_exporter": "python",
   "pygments_lexer": "ipython3",
   "version": "3.5.1"
  }
 },
 "nbformat": 4,
 "nbformat_minor": 0
}

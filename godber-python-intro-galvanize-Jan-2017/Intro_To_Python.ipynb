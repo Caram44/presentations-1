{
 "cells": [
  {
   "cell_type": "markdown",
   "metadata": {
    "slideshow": {
     "slide_type": "slide"
    }
   },
   "source": [
    "<img src=\"python-logo-generic.svg\" alt=\"Python Logo\">\n",
    "\n",
    "# Introduction to Python: The language, ecosystem and community\n",
    "\n",
    "**Austin Godber**  \n",
    "**@godber**  \n",
    "DesertPy Co-Organizer  \n",
    "Meetup, Github and http://desertpy.com\n",
    "\n",
    "DesertPy - 10/26/2016"
   ]
  },
  {
   "cell_type": "markdown",
   "metadata": {
    "slideshow": {
     "slide_type": "slide"
    }
   },
   "source": [
    "# Getting Python\n",
    "\n",
    "* Windows - Anaconda/miniconda, Enthought Canopy\n",
    "* OS X - Default install, Homebrew, Anaconda\n",
    "* Linux - Default install, Anaconda"
   ]
  },
  {
   "cell_type": "markdown",
   "metadata": {
    "slideshow": {
     "slide_type": "subslide"
    }
   },
   "source": [
    "# Follow Along\n",
    "\n",
    "If you have IPython/Jupyter Notebook installed, you can grab the notebook (`Intro_To_Python.ipynb`) here:\n",
    "\n",
    "https://goo.gl/W7bwyk\n",
    "\n",
    "These examples should work in a relatively recent Anaconda installation."
   ]
  },
  {
   "cell_type": "markdown",
   "metadata": {
    "slideshow": {
     "slide_type": "slide"
    }
   },
   "source": [
    "<img src=\"python-stack.png\" width=350px style=\"float:right;\">\n",
    "\n",
    "\n",
    "# Python Language\n",
    "\n",
    "* Python\n",
    "  * https://goo.gl/jQf5BZ\n",
    "* Python Standard Library\n",
    "  * https://goo.gl/raCczu\n",
    "* 3rd Party Modules at PyPI\n",
    "  * https://pypi.python.org/pypi"
   ]
  },
  {
   "cell_type": "markdown",
   "metadata": {
    "slideshow": {
     "slide_type": "notes"
    }
   },
   "source": [
    "Technically, libraries are **modules**, a **package** contains submodules and has a `__path__` attribute."
   ]
  },
  {
   "cell_type": "markdown",
   "metadata": {
    "slideshow": {
     "slide_type": "subslide"
    }
   },
   "source": [
    "# Python\n",
    "\n",
    "* Python - https://docs.python.org/3/reference/index.html\n",
    "  * Python Interpreter: CPython, Pypy, IronPython(2.7), Jython(2.7)\n",
    "  * Core Language Syntax, built-ins\n",
    "* Python Standard Library - https://docs.python.org/3/library/index.html\n",
    "  * C or Python modules included with Python\n",
    "  * These modules need to be imported, e.g.: `import math`"
   ]
  },
  {
   "cell_type": "markdown",
   "metadata": {
    "slideshow": {
     "slide_type": "subslide"
    }
   },
   "source": [
    "# 3rd Party Libs\n",
    "* 3rd Party Modules - https://pypi.python.org/pypi\n",
    "  * Install them with `pip`\n",
    "  * These modules need to be imported\n",
    "    * e.g.: `import requests`"
   ]
  },
  {
   "cell_type": "markdown",
   "metadata": {
    "slideshow": {
     "slide_type": "subslide"
    }
   },
   "source": [
    "# Python 2 vs Python 3\n",
    "\n",
    "### Simple - Use Python 3 unless you have a convincing reason not to.\n",
    "\n",
    "* https://docs.python.org/3/\n",
    "* https://docs.python.org/2.7/\n",
    "\n",
    "I'll be talking about Python 3.5 today."
   ]
  },
  {
   "cell_type": "markdown",
   "metadata": {
    "slideshow": {
     "slide_type": "slide"
    }
   },
   "source": [
    "# Python Language Syntax"
   ]
  },
  {
   "cell_type": "markdown",
   "metadata": {
    "slideshow": {
     "slide_type": "subslide"
    }
   },
   "source": [
    "# Built-in Functions\n",
    "\n",
    "<img src=\"python-builtin-functions.png\" style=\"float:center;\">"
   ]
  },
  {
   "cell_type": "markdown",
   "metadata": {
    "slideshow": {
     "slide_type": "notes"
    }
   },
   "source": [
    "This is the full set of functions you can call in Python without importing something from the Standard Library or 3rd party modules."
   ]
  },
  {
   "cell_type": "markdown",
   "metadata": {
    "slideshow": {
     "slide_type": "subslide"
    }
   },
   "source": [
    "# Built-in Constants\n",
    "\n",
    "* `False`, `True`\n",
    "* `None`\n",
    "* `NotImplemented`\n",
    "* `Elipsis` (same as `...`)\n",
    "* `__debug__`\n",
    "* `quit()`, `exit()`, `copyright`, `license`, `credits`"
   ]
  },
  {
   "cell_type": "markdown",
   "metadata": {
    "collapsed": true,
    "slideshow": {
     "slide_type": "subslide"
    }
   },
   "source": [
    "# Built-in Types\n",
    "\n",
    "* numerics - `int`, `float`, `complex`\n",
    "* sequences - `list`: `[]`, `tuple`: `()`, `range`, `str`: `''`, etc.\n",
    "* mappings - `dict`: `{}`, `set`, `frozenset`\n",
    "* Others - iterators, generators, binary sequences, memoryviews, classes, instances, exceptions, modules\n",
    "\n",
    "I should really include some usage examples here.  Really, I should."
   ]
  },
  {
   "cell_type": "markdown",
   "metadata": {
    "slideshow": {
     "slide_type": "notes"
    }
   },
   "source": [
    "We'll have to make do with the upcoming examples."
   ]
  },
  {
   "cell_type": "markdown",
   "metadata": {
    "slideshow": {
     "slide_type": "subslide"
    }
   },
   "source": [
    "# Boolean Operations\n",
    "\n",
    "* `False` things: `False`, `None`, `0`, `0.0`, `''`, `()`, `[]`, `{}`, any object whose `__bool__` or `__len__` method returns a `False` value.\n",
    "* Everything else is true.\n",
    "\n",
    "<img src=\"boolean.png\" style=\"float:center;\">"
   ]
  },
  {
   "cell_type": "markdown",
   "metadata": {
    "slideshow": {
     "slide_type": "subslide"
    }
   },
   "source": [
    "# Comparisons\n",
    "\n",
    "<img src=\"comparisons.png\" style=\"float:center;\">"
   ]
  },
  {
   "cell_type": "markdown",
   "metadata": {
    "slideshow": {
     "slide_type": "subslide"
    }
   },
   "source": [
    "# Control Structures\n",
    "\n",
    "if, else, elif, for, while, break, continue"
   ]
  },
  {
   "cell_type": "code",
   "execution_count": 1,
   "metadata": {
    "collapsed": false
   },
   "outputs": [
    {
     "name": "stdout",
     "output_type": "stream",
     "text": [
      "1\n",
      "2\n",
      "3\n"
     ]
    }
   ],
   "source": [
    "x = [1, 2, 3]\n",
    "for i in x:\n",
    "    print(i)"
   ]
  },
  {
   "cell_type": "markdown",
   "metadata": {
    "slideshow": {
     "slide_type": "subslide"
    }
   },
   "source": [
    "# Data and Execution Model\n",
    "\n",
    "To really understand the guts of Python, after you get the general syntax understood, read the Data Model and Execution Model docs:\n",
    "\n",
    "* https://docs.python.org/3/reference/datamodel.html\n",
    "* https://docs.python.org/3/reference/executionmodel.html"
   ]
  },
  {
   "cell_type": "markdown",
   "metadata": {
    "slideshow": {
     "slide_type": "slide"
    }
   },
   "source": [
    "# Examples\n",
    "\n",
    "Let's look at some examples:"
   ]
  },
  {
   "cell_type": "code",
   "execution_count": 2,
   "metadata": {
    "collapsed": false,
    "slideshow": {
     "slide_type": "fragment"
    }
   },
   "outputs": [
    {
     "name": "stdout",
     "output_type": "stream",
     "text": [
      "Hello, World!\n"
     ]
    }
   ],
   "source": [
    "print(\"Hello, World!\")"
   ]
  },
  {
   "cell_type": "markdown",
   "metadata": {
    "slideshow": {
     "slide_type": "subslide"
    }
   },
   "source": [
    "## A function"
   ]
  },
  {
   "cell_type": "code",
   "execution_count": 3,
   "metadata": {
    "collapsed": false,
    "slideshow": {
     "slide_type": "-"
    }
   },
   "outputs": [
    {
     "name": "stdout",
     "output_type": "stream",
     "text": [
      "Hello, World!\n"
     ]
    }
   ],
   "source": [
    "def hello1():\n",
    "    print(\"Hello, World!\")\n",
    "    \n",
    "hello1()"
   ]
  },
  {
   "cell_type": "markdown",
   "metadata": {
    "slideshow": {
     "slide_type": "subslide"
    }
   },
   "source": [
    "## A function with a keyword argument"
   ]
  },
  {
   "cell_type": "code",
   "execution_count": 4,
   "metadata": {
    "collapsed": false,
    "slideshow": {
     "slide_type": "-"
    }
   },
   "outputs": [
    {
     "name": "stdout",
     "output_type": "stream",
     "text": [
      "Hello, World!\n",
      "Hello, World!\n",
      "Hello, Skippy!\n",
      "Hello, Skippy!\n"
     ]
    }
   ],
   "source": [
    "def hello2(name=None):\n",
    "    if not name:\n",
    "        name = \"World\"\n",
    "    print(\"Hello, %s!\" % name)\n",
    "    print(\"Hello, \" + name + \"!\")\n",
    "    \n",
    "hello2()\n",
    "hello2(\"Skippy\")"
   ]
  },
  {
   "cell_type": "markdown",
   "metadata": {
    "slideshow": {
     "slide_type": "notes"
    }
   },
   "source": [
    "Sure, we could have set `name=\"World\"`, but then I wouldn't have a good example of `if not name:` and I might not remember to talk about empty sequences."
   ]
  },
  {
   "cell_type": "markdown",
   "metadata": {
    "slideshow": {
     "slide_type": "subslide"
    }
   },
   "source": [
    "# Classes\n",
    "\n",
    "Python's simplest class as an example of the dynamic nature of Python."
   ]
  },
  {
   "cell_type": "code",
   "execution_count": 5,
   "metadata": {
    "collapsed": false
   },
   "outputs": [
    {
     "name": "stdout",
     "output_type": "stream",
     "text": [
      "Lobsters! 9\n"
     ]
    }
   ],
   "source": [
    "class Classy:\n",
    "    pass\n",
    "\n",
    "c = Classy()\n",
    "c.foo = 'Lobsters!'\n",
    "c.bar = lambda x: x**2\n",
    "\n",
    "print(c.foo, c.bar(3))"
   ]
  },
  {
   "cell_type": "markdown",
   "metadata": {
    "slideshow": {
     "slide_type": "notes"
    }
   },
   "source": [
    "You don't have to do it the way shown above, typically, concrete class definitions are used."
   ]
  },
  {
   "cell_type": "code",
   "execution_count": 6,
   "metadata": {
    "collapsed": false,
    "slideshow": {
     "slide_type": "subslide"
    }
   },
   "outputs": [
    {
     "ename": "NameError",
     "evalue": "name 'Person1' is not defined",
     "output_type": "error",
     "traceback": [
      "\u001b[0;31m---------------------------------------------------------------------------\u001b[0m",
      "\u001b[0;31mNameError\u001b[0m                                 Traceback (most recent call last)",
      "\u001b[0;32m<ipython-input-6-188d58c015d5>\u001b[0m in \u001b[0;36m<module>\u001b[0;34m()\u001b[0m\n\u001b[1;32m      8\u001b[0m         \u001b[0mprint\u001b[0m\u001b[0;34m(\u001b[0m\u001b[0;34m\"Hello, %s!\"\u001b[0m \u001b[0;34m%\u001b[0m \u001b[0mself\u001b[0m\u001b[0;34m.\u001b[0m\u001b[0mname\u001b[0m\u001b[0;34m)\u001b[0m\u001b[0;34m\u001b[0m\u001b[0m\n\u001b[1;32m      9\u001b[0m \u001b[0;34m\u001b[0m\u001b[0m\n\u001b[0;32m---> 10\u001b[0;31m \u001b[0mskippy\u001b[0m \u001b[0;34m=\u001b[0m \u001b[0mPerson1\u001b[0m\u001b[0;34m(\u001b[0m\u001b[0;34m\"Skippy\"\u001b[0m\u001b[0;34m)\u001b[0m\u001b[0;34m\u001b[0m\u001b[0m\n\u001b[0m\u001b[1;32m     11\u001b[0m \u001b[0mskippy\u001b[0m\u001b[0;34m.\u001b[0m\u001b[0mgreet\u001b[0m\u001b[0;34m(\u001b[0m\u001b[0;34m)\u001b[0m\u001b[0;34m\u001b[0m\u001b[0m\n\u001b[1;32m     12\u001b[0m \u001b[0mprint\u001b[0m\u001b[0;34m(\u001b[0m\u001b[0mskippy\u001b[0m\u001b[0;34m.\u001b[0m\u001b[0mname\u001b[0m\u001b[0;34m)\u001b[0m\u001b[0;34m\u001b[0m\u001b[0m\n",
      "\u001b[0;31mNameError\u001b[0m: name 'Person1' is not defined"
     ]
    }
   ],
   "source": [
    "class Person:\n",
    "    \"\"\"Class representing a person, for providing Greetings.\"\"\"\n",
    "    \n",
    "    def __init__(self, name):\n",
    "        self.name = name\n",
    "        \n",
    "    def greet(self):\n",
    "        print(\"Hello, %s!\" % self.name)\n",
    "\n",
    "skippy = Person1(\"Skippy\")\n",
    "skippy.greet()\n",
    "print(skippy.name)\n",
    "print(skippy)"
   ]
  },
  {
   "cell_type": "code",
   "execution_count": null,
   "metadata": {
    "collapsed": false,
    "slideshow": {
     "slide_type": "subslide"
    }
   },
   "outputs": [],
   "source": [
    "class Person:\n",
    "    \"\"\"Class representing a person, with greetings and height.\"\"\"\n",
    "    \n",
    "    def __init__(self, name, height):\n",
    "        self.name = name\n",
    "        self.height = height  # Height of person in inches\n",
    "\n",
    "    def greet(self):\n",
    "        print(\"Hello, %s!\" % self.name)\n",
    "    \n",
    "    @property\n",
    "    def height_ft(self):\n",
    "        return self.height / 12.0\n",
    "\n",
    "chip = Person2('Chip', 70)\n",
    "print(chip.height)\n",
    "print(chip.height_ft)\n",
    "print(\"Chip is %.2f tall\" % chip.height_ft)"
   ]
  },
  {
   "cell_type": "markdown",
   "metadata": {
    "slideshow": {
     "slide_type": "subslide"
    }
   },
   "source": [
    "# Inheritance"
   ]
  },
  {
   "cell_type": "code",
   "execution_count": null,
   "metadata": {
    "collapsed": false,
    "slideshow": {
     "slide_type": "subslide"
    }
   },
   "outputs": [],
   "source": [
    "class EmployedPerson(Person):\n",
    "    \"\"\"A person who is employed and gets paychecks\"\"\"\n",
    "    \n",
    "    NUM_PAY_PERIODS = 24\n",
    "    \n",
    "    def __init__(self, name, height, salary):\n",
    "        super().__init__(name, height)\n",
    "        if salary > 0.0:\n",
    "            self.salary = salary\n",
    "        else:\n",
    "            raise RuntimeError('Salaries must be greater than zero: %s' % salary)\n",
    "\n",
    "    def pay(self):\n",
    "        print(\"$%.2f paycheck for %s printed.\" %\n",
    "              (self.salary/EmployedPerson.NUM_PAY_PERIODS, self.name))"
   ]
  },
  {
   "cell_type": "code",
   "execution_count": null,
   "metadata": {
    "collapsed": false
   },
   "outputs": [],
   "source": [
    "wally = EmployedPerson('Wally', 62, 80000.00)\n",
    "print(\"{name} is {height:.2f} tall.\".format(name=wally.name, height=wally.height_ft))\n",
    "wally.pay()"
   ]
  },
  {
   "cell_type": "markdown",
   "metadata": {
    "slideshow": {
     "slide_type": "subslide"
    }
   },
   "source": [
    "# Exceptions\n",
    "\n",
    "You see that `raise` in the class definition for `Ninja`?"
   ]
  },
  {
   "cell_type": "code",
   "execution_count": null,
   "metadata": {
    "collapsed": false
   },
   "outputs": [],
   "source": [
    "try:\n",
    "    webster = Ninja('Webster', 71, 'quilting')\n",
    "except RuntimeError as e:\n",
    "    print('No such thing as a Quilting ninja! \\nError: %s' % e)\n",
    "finally:\n",
    "    print('Nice work!')"
   ]
  },
  {
   "cell_type": "markdown",
   "metadata": {
    "slideshow": {
     "slide_type": "notes"
    }
   },
   "source": [
    "Obviously this is an example of exception handling done poorly.  There's a lot more too it, custom exception classes, handling multiple exceptions, re-raising errors.  Doing something useful in except blocks..."
   ]
  },
  {
   "cell_type": "markdown",
   "metadata": {
    "slideshow": {
     "slide_type": "subslide"
    }
   },
   "source": [
    "## What's up with the \"\"\"?\n",
    "\n",
    "It's called a `docstring`, you can use them on modules, functions and classes.  There's a whole ecosystem of tools designed to use them for documentation and testing.  Use 'em!"
   ]
  },
  {
   "cell_type": "code",
   "execution_count": null,
   "metadata": {
    "collapsed": false,
    "slideshow": {
     "slide_type": "-"
    }
   },
   "outputs": [],
   "source": [
    "Ninja.__doc__"
   ]
  },
  {
   "cell_type": "markdown",
   "metadata": {
    "slideshow": {
     "slide_type": "subslide"
    }
   },
   "source": [
    "## More OOP?\n",
    "\n",
    "If OOP is a good fit for your problem, I've found this to be a great post on OOP in Python:\n",
    "\n",
    "https://jeffknupp.com/blog/2014/06/18/improve-your-python-python-classes-and-object-oriented-programming/"
   ]
  },
  {
   "cell_type": "markdown",
   "metadata": {
    "slideshow": {
     "slide_type": "subslide"
    }
   },
   "source": [
    "# Context Managers\n",
    "\n",
    "\"A context manager is an object that defines the runtime context to be established when executing a with statement.\""
   ]
  },
  {
   "cell_type": "markdown",
   "metadata": {
    "slideshow": {
     "slide_type": "subslide"
    }
   },
   "source": [
    "Turns this ... "
   ]
  },
  {
   "cell_type": "code",
   "execution_count": null,
   "metadata": {
    "collapsed": false
   },
   "outputs": [],
   "source": [
    "f = open('file.txt', 'r')\n",
    "print(f.read())\n",
    "f.close()"
   ]
  },
  {
   "cell_type": "markdown",
   "metadata": {
    "slideshow": {
     "slide_type": "subslide"
    }
   },
   "source": [
    "into this ..."
   ]
  },
  {
   "cell_type": "code",
   "execution_count": null,
   "metadata": {
    "collapsed": false
   },
   "outputs": [],
   "source": [
    "with open('file.txt', 'r') as f:\n",
    "    print(f.read())"
   ]
  },
  {
   "cell_type": "markdown",
   "metadata": {
    "slideshow": {
     "slide_type": "subslide"
    }
   },
   "source": [
    "# Functional Programming"
   ]
  },
  {
   "cell_type": "markdown",
   "metadata": {
    "slideshow": {
     "slide_type": "fragment"
    }
   },
   "source": [
    "A bit, but we don't have time for it, check out `itertools` and `functools` and the concepts of iterators ang generators.  There are mechanisms to enable FP, check this:\n",
    "\n",
    "https://docs.python.org/3.5/howto/functional.html"
   ]
  },
  {
   "cell_type": "code",
   "execution_count": null,
   "metadata": {
    "collapsed": false
   },
   "outputs": [],
   "source": [
    "[x**2 for x in range(4)]"
   ]
  },
  {
   "cell_type": "markdown",
   "metadata": {
    "slideshow": {
     "slide_type": "slide"
    }
   },
   "source": [
    "# The Standard Libraries\n",
    "\n",
    "Lots of fabulous tools we don't have time for, things like:\n",
    "\n",
    "* fancy data types like datetimes and calendars\n",
    "* path and file manipulation\n",
    "* basic math\n",
    "* Logging, curses, network protocols ... on and on\n",
    "\n",
    "Dive in! https://docs.python.org/3/library/index.html"
   ]
  },
  {
   "cell_type": "markdown",
   "metadata": {
    "slideshow": {
     "slide_type": "subslide"
    }
   },
   "source": [
    "# Python 3 vs 2 - Migrating\n",
    "\n",
    "If you have to write portable code, read up on it, it's messy but not too bad.  Lots of people have managed it, you can too!  Look for the package `six`."
   ]
  },
  {
   "cell_type": "markdown",
   "metadata": {
    "collapsed": true,
    "slideshow": {
     "slide_type": "slide"
    }
   },
   "source": [
    "# Thank You!\n",
    "\n",
    "**Austin Godber**  \n",
    "**@godber**  \n",
    "DesertPy Co-Organizer  \n",
    "Meetup, Github and http://desertpy.com\n",
    "\n",
    "01/30/2017"
   ]
  }
 ],
 "metadata": {
  "anaconda-cloud": {},
  "celltoolbar": "Slideshow",
  "kernelspec": {
   "display_name": "Python [default]",
   "language": "python",
   "name": "python3"
  },
  "language_info": {
   "codemirror_mode": {
    "name": "ipython",
    "version": 3
   },
   "file_extension": ".py",
   "mimetype": "text/x-python",
   "name": "python",
   "nbconvert_exporter": "python",
   "pygments_lexer": "ipython3",
   "version": "3.5.2"
  }
 },
 "nbformat": 4,
 "nbformat_minor": 0
}

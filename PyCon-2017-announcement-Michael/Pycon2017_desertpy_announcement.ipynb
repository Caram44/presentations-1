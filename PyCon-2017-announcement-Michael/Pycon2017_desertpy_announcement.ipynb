{
 "cells": [
  {
   "cell_type": "markdown",
   "metadata": {
    "slideshow": {
     "slide_type": "slide"
    }
   },
   "source": [
    "# [PyCon 2017](https://us.pycon.org/2017/)  Overview\n",
    "### In Portland, OR  May 17-25\n",
    "@ftlphys Michael Gilbert"
   ]
  },
  {
   "cell_type": "markdown",
   "metadata": {
    "slideshow": {
     "slide_type": "subslide"
    }
   },
   "source": [
    "### [Pycon Registration is now open!!!](https://us.pycon.org/2017/registration/)  \n",
    "- Corporate Registration: \\$600\n",
    "- Individual Registration: \\$350\n",
    "- Student Registration: \\$125  \n",
    "- Conference discount at associated hotels is available (tons of people also airBNB)\n",
    "\n",
    "[Lots of Financial Aid available!](https://us.pycon.org/2017/financial-assistance/) *Keep in mind there is a deadline of February 15th for financial aid applications*"
   ]
  },
  {
   "cell_type": "markdown",
   "metadata": {
    "slideshow": {
     "slide_type": "slide"
    }
   },
   "source": [
    "### [Events](https://us.pycon.org/2017/about/)"
   ]
  },
  {
   "cell_type": "markdown",
   "metadata": {
    "slideshow": {
     "slide_type": "subslide"
    }
   },
   "source": [
    "* May 17-18: Tutorial Sessions (3 hour sessions ~\\$150 each if registered beforehand) and free sponsored workshops\n",
    "  - These are not open for registration yet, should start to populate in February\n",
    "  - Sponsored workshops are free, but you should register beforehand so that the appropriate demand is gauged for room size requirements\n",
    "     - The Google Tech talk is usually really good each year, highly recommended and it's free!!\n",
    "  - During this time some open spaces will happen in the evenings\n",
    "  - Snacks and lunch are provided"
   ]
  },
  {
   "cell_type": "markdown",
   "metadata": {
    "slideshow": {
     "slide_type": "subslide"
    }
   },
   "source": [
    "* May 18 6:00 - 8:30 PM: Opening Reception\n",
    "  - Large expose with tons of swag and lots of companies and groups to talk with\n",
    "  - Free drink ticket and cash bar\n",
    "* May 19-21: Main Conference (registration covers this)\n",
    "  - KeyNotes every morning, scheduled talks on multiple tracks alongside open spaces\n",
    "      - Open spaces are freely scheduled by anyone on a board in the main loby and cover a huge array of topics\n",
    "  - Lightning talks occur toward the end of each day (5 minutes long) on a variety of topics\n",
    "  - May 20th morning, 5k fun run (must register separately, just remember it's cold in Portland this time of year! :-) )"
   ]
  },
  {
   "cell_type": "markdown",
   "metadata": {
    "slideshow": {
     "slide_type": "subslide"
    }
   },
   "source": [
    "  - May 20th PyLadies auction in the evening (they had a [26 lb gummy python](https://twitter.com/pycon/status/585927949678948352) to auction one year!) (must register separately)\n",
    "  - On May 21st there will be a poster session and job fair, many companies will be recruiting!\n",
    "  - PyCon dinners will occur on May 19th and May 21st.  These are a lot of fun and a great chance to meet people and network\n",
    "      - Need to register ASAP as they sell out quickly!  \n",
    "      - May 19th will include Python trivia, including drink ticket and costs \\$35\n",
    "      - May 21st will be at the Portland art museum, including drink ticket and costs \\$45\n",
    "  - Breakfast & Lunch provided"
   ]
  },
  {
   "cell_type": "markdown",
   "metadata": {
    "slideshow": {
     "slide_type": "subslide"
    }
   },
   "source": [
    "[Closing Keynote by K Lars Lohn 2016](https://www.youtube.com/watch?v=bSfe5M_zG2s)\n",
    "<img src=\"IMG_20160601_153018.jpg\" style=\"width: 700px;\"/>"
   ]
  },
  {
   "cell_type": "markdown",
   "metadata": {
    "slideshow": {
     "slide_type": "subslide"
    }
   },
   "source": [
    "###  Miscellaneous Conference stuff..."
   ]
  },
  {
   "cell_type": "markdown",
   "metadata": {
    "slideshow": {
     "slide_type": "fragment"
    }
   },
   "source": [
    "* People will post events on twitter and Eventbrite\n",
    "* There are many afterparties to attend from various sponsors\n",
    "* The whole conference schedule is in GuideBook (grab the app from your mobile platform's store) and any changes will be immediately reflected there\n",
    "* Don't worry if you can't attend every talk you want, they are recorded and will be available online\n",
    "* Visit Startup Row!\n",
    "    - You will be amazed talking to the entrepreneurs using Python in their new businesses"
   ]
  },
  {
   "cell_type": "markdown",
   "metadata": {
    "slideshow": {
     "slide_type": "subslide"
    }
   },
   "source": [
    "* May 22 - 25: Developer Sprints\n",
    "    - After closing notes, there will be an introduction by many open source projects looking for help\n",
    "    - All skill levels are welcome!!\n",
    "    - Basic github useage will be introduced\n",
    "    - Lunch and some snacks provided\n",
    "    - Contribute to documentation, code, and ideas!"
   ]
  },
  {
   "cell_type": "markdown",
   "metadata": {
    "slideshow": {
     "slide_type": "slide"
    }
   },
   "source": [
    "### Slots are still available to give talks and volunteer!"
   ]
  },
  {
   "cell_type": "markdown",
   "metadata": {
    "slideshow": {
     "slide_type": "slide"
    }
   },
   "source": [
    "### Remember Portland is awesome!!!\n",
    "\n",
    "Great food, drink, entertainment, hiking, waterfalls, close to ocean, awesome public transit, etc."
   ]
  },
  {
   "cell_type": "markdown",
   "metadata": {
    "slideshow": {
     "slide_type": "subslide"
    }
   },
   "source": [
    "Mt. St. Helens (between Portland & Seattle) - June 2016\n",
    "<img src=\"IMG_20160605_093719.jpg\" style=\"width: 700px;\"/>"
   ]
  },
  {
   "cell_type": "markdown",
   "metadata": {
    "slideshow": {
     "slide_type": "slide"
    }
   },
   "source": [
    "### Questions??"
   ]
  }
 ],
 "metadata": {
  "anaconda-cloud": {},
  "celltoolbar": "Slideshow",
  "kernelspec": {
   "display_name": "Python [default]",
   "language": "python",
   "name": "python3"
  },
  "language_info": {
   "codemirror_mode": {
    "name": "ipython",
    "version": 3
   },
   "file_extension": ".py",
   "mimetype": "text/x-python",
   "name": "python",
   "nbconvert_exporter": "python",
   "pygments_lexer": "ipython3",
   "version": "3.5.2"
  }
 },
 "nbformat": 4,
 "nbformat_minor": 0
}

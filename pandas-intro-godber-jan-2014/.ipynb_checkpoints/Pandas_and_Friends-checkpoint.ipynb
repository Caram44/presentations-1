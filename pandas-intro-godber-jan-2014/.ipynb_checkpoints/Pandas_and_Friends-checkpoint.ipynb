{
 "metadata": {
  "celltoolbar": "Slideshow",
  "name": "",
  "signature": "sha256:0a841924469a33e2c6d2bd9c6ba6c643d4ac21fb8117eed93d21c3808aaec914"
 },
 "nbformat": 3,
 "nbformat_minor": 0,
 "worksheets": [
  {
   "cells": [
    {
     "cell_type": "markdown",
     "metadata": {
      "slideshow": {
       "slide_type": "slide"
      }
     },
     "source": [
      "# Pandas and Friends\n",
      "\n",
      "* Austin Godber\n",
      "* Mail: godber@uberhip.com\n",
      "* Twitter: @godber\n",
      "* Presented at [DesertPy](http://desertpy.com), Jan 2015."
     ]
    },
    {
     "cell_type": "markdown",
     "metadata": {
      "slideshow": {
       "slide_type": "slide"
      }
     },
     "source": [
      "# What does it do?\n",
      "\n",
      "Pandas is a Python data analysis tool built on top of NumPy that provides a\n",
      "suite of data structures and data manipulation functions to work on those data\n",
      "structures.  It is particularly well suited for working with time series data."
     ]
    },
    {
     "cell_type": "markdown",
     "metadata": {
      "slideshow": {
       "slide_type": "slide"
      }
     },
     "source": [
      "# Getting Started - Installation\n",
      "\n",
      "Installing with pip or apt-get::\n",
      "\n",
      "```\n",
      "pip install pandas\n",
      "# or\n",
      "sudo apt-get install python-pandas\n",
      "```\n",
      "\n",
      "* Mac - Homebrew or MacPorts to get the dependencies, then pip\n",
      "* Windows - Python(x,y)?\n",
      "* Commercial Pythons: Anaconda, Canopy"
     ]
    },
    {
     "cell_type": "markdown",
     "metadata": {
      "slideshow": {
       "slide_type": "subslide"
      }
     },
     "source": [
      "# Getting Started - Dependencies\n",
      "\n",
      "Dependencies, required, recommended and optional\n",
      "\n",
      "```\n",
      "# Required\n",
      "numpy, python-dateutil, pytx\n",
      "# Recommended\n",
      "numexpr, bottleneck\n",
      "# Optional\n",
      "cython, scipy, pytables, matplotlib, statsmodels, openpyxl\n",
      "```"
     ]
    },
    {
     "cell_type": "markdown",
     "metadata": {
      "slideshow": {
       "slide_type": "slide"
      }
     },
     "source": [
      "# Pandas' Friends!\n",
      "\n",
      "Pandas works along side and is built on top of several other Python projects."
     ]
    },
    {
     "cell_type": "markdown",
     "metadata": {
      "slideshow": {
       "slide_type": "fragment"
      }
     },
     "source": [
      "* IPython"
     ]
    },
    {
     "cell_type": "markdown",
     "metadata": {
      "slideshow": {
       "slide_type": "fragment"
      }
     },
     "source": [
      "* Numpy"
     ]
    },
    {
     "cell_type": "markdown",
     "metadata": {
      "slideshow": {
       "slide_type": "fragment"
      }
     },
     "source": [
      "* Matplotlib"
     ]
    },
    {
     "cell_type": "markdown",
     "metadata": {
      "slideshow": {
       "slide_type": "subslide"
      }
     },
     "source": [
      "## Pandas gets along with EVERYONE!\n",
      "\n",
      "\n",
      "<img src='panda-on-a-unicorn.jpg'>"
     ]
    },
    {
     "cell_type": "markdown",
     "metadata": {
      "slideshow": {
       "slide_type": "slide"
      }
     },
     "source": [
      "# Background - IPython\n",
      "\n",
      "\n",
      "IPython is a fancy python console.  Try running ``ipython`` or ``ipython --pylab`` on your command line.  Some IPython tips\n",
      "\n",
      "```python\n",
      "# Special commands, 'magic functions', begin with %\n",
      "%quickref, %who, %run, %reset\n",
      "# Shell Commands\n",
      "ls, cd, pwd, mkdir\n",
      "# Need Help?\n",
      "help(), help(obj), obj?, function?\n",
      "# Tab completion of variables, attributes and methods\n",
      "```"
     ]
    },
    {
     "cell_type": "markdown",
     "metadata": {
      "slideshow": {
       "slide_type": "subslide"
      }
     },
     "source": [
      "# Background - IPython Notebook\n",
      "\n",
      "There is a web interface to IPython, known as the IPython notebook, start it\n",
      "like this\n",
      "\n",
      "```\n",
      "ipython notebook\n",
      "# or to get all of the pylab components\n",
      "ipython notebook --pylab\n",
      "```"
     ]
    },
    {
     "cell_type": "markdown",
     "metadata": {
      "slideshow": {
       "slide_type": "subslide"
      }
     },
     "source": [
      "# IPython - Follow Along\n",
      "\n",
      "Follow along by connecting to TMPNB.ORG!\n",
      "\n",
      "* http://tmpnb.org"
     ]
    },
    {
     "cell_type": "markdown",
     "metadata": {
      "slideshow": {
       "slide_type": "slide"
      }
     },
     "source": [
      "# Background - NumPy\n",
      "\n",
      "* NumPy is the foundation for Pandas\n",
      "* Numerical data structures (mostly Arrays)\n",
      "* Operations on those.\n",
      "* Less structure than Pandas provides."
     ]
    },
    {
     "cell_type": "markdown",
     "metadata": {
      "slideshow": {
       "slide_type": "subslide"
      }
     },
     "source": [
      "# Background - NumPy - Arrays"
     ]
    },
    {
     "cell_type": "code",
     "collapsed": false,
     "input": [
      "import numpy as np\n",
      "# np.zeros, np.ones\n",
      "data0 = np.zeros((2, 4))\n",
      "\n",
      "data0"
     ],
     "language": "python",
     "metadata": {
      "slideshow": {
       "slide_type": "-"
      }
     },
     "outputs": [
      {
       "metadata": {},
       "output_type": "pyout",
       "prompt_number": 1,
       "text": [
        "array([[ 0.,  0.,  0.,  0.],\n",
        "       [ 0.,  0.,  0.,  0.]])"
       ]
      }
     ],
     "prompt_number": 1
    },
    {
     "cell_type": "code",
     "collapsed": false,
     "input": [
      "# Make an array with 20 entries 0..19\n",
      "data1 = np.arange(20)\n",
      "# print the first 8\n",
      "data1[0:8]"
     ],
     "language": "python",
     "metadata": {
      "slideshow": {
       "slide_type": "subslide"
      }
     },
     "outputs": [
      {
       "metadata": {},
       "output_type": "pyout",
       "prompt_number": 2,
       "text": [
        "array([0, 1, 2, 3, 4, 5, 6, 7])"
       ]
      }
     ],
     "prompt_number": 2
    },
    {
     "cell_type": "markdown",
     "metadata": {
      "slideshow": {
       "slide_type": "subslide"
      }
     },
     "source": [
      "## Background - NumPy - Arrays"
     ]
    },
    {
     "cell_type": "code",
     "collapsed": false,
     "input": [
      "# make it a 4,5 array\n",
      "data = np.arange(20).reshape(4, 5)\n",
      "data"
     ],
     "language": "python",
     "metadata": {},
     "outputs": [
      {
       "metadata": {},
       "output_type": "pyout",
       "prompt_number": 3,
       "text": [
        "array([[ 0,  1,  2,  3,  4],\n",
        "       [ 5,  6,  7,  8,  9],\n",
        "       [10, 11, 12, 13, 14],\n",
        "       [15, 16, 17, 18, 19]])"
       ]
      }
     ],
     "prompt_number": 3
    },
    {
     "cell_type": "markdown",
     "metadata": {
      "slideshow": {
       "slide_type": "subslide"
      }
     },
     "source": [
      "## Background - NumPy - Arrays\n",
      "\n",
      "Arrays have NumPy specific types, `dtypes`, and can be operated on."
     ]
    },
    {
     "cell_type": "code",
     "collapsed": false,
     "input": [
      "print \"dtype: \", data.dtype\n",
      "result = data * 20.5\n",
      "print result"
     ],
     "language": "python",
     "metadata": {},
     "outputs": [
      {
       "output_type": "stream",
       "stream": "stdout",
       "text": [
        "dtype:  int64\n",
        "[[   0.    20.5   41.    61.5   82. ]\n",
        " [ 102.5  123.   143.5  164.   184.5]\n",
        " [ 205.   225.5  246.   266.5  287. ]\n",
        " [ 307.5  328.   348.5  369.   389.5]]\n"
       ]
      }
     ],
     "prompt_number": 4
    },
    {
     "cell_type": "markdown",
     "metadata": {
      "slideshow": {
       "slide_type": "slide"
      }
     },
     "source": [
      "Now, on to Pandas\n",
      "-----------------\n",
      "\n",
      "![](panda-giving-another-panda-a-hand-sm.jpg)"
     ]
    },
    {
     "cell_type": "markdown",
     "metadata": {
      "slideshow": {
       "slide_type": "slide"
      }
     },
     "source": [
      "Pandas\n",
      "------\n",
      "\n",
      "* Tabular, Timeseries, Matrix Data - labeled or not\n",
      "* Sensible handling of missing data and data alignment\n",
      "* Data selection, slicing and reshaping features\n",
      "* Robust data import utilities.\n",
      "* Advanced time series capabilities"
     ]
    },
    {
     "cell_type": "markdown",
     "metadata": {
      "slideshow": {
       "slide_type": "subslide"
      }
     },
     "source": [
      "Data Structures\n",
      "----------------\n",
      "\n",
      "* Series - 1D labeled array\n",
      "* DataFrame - 2D labeled array\n",
      "* Panel - 3D labeled array (More D)"
     ]
    },
    {
     "cell_type": "markdown",
     "metadata": {
      "slideshow": {
       "slide_type": "slide"
      }
     },
     "source": [
      "# Assumed Imports\n",
      "\n",
      "In my code samples, assume I import the following"
     ]
    },
    {
     "cell_type": "code",
     "collapsed": false,
     "input": [
      "import pandas as pd\n",
      "import numpy as np"
     ],
     "language": "python",
     "metadata": {},
     "outputs": [],
     "prompt_number": 5
    },
    {
     "cell_type": "markdown",
     "metadata": {
      "slideshow": {
       "slide_type": "slide"
      }
     },
     "source": [
      "# Series\n",
      "\n",
      "* one-dimensional labeled array\n",
      "* holds any data type\n",
      "* axis labels known as index\n",
      "* implicit integert indexes\n",
      "* ``dict``-like"
     ]
    },
    {
     "cell_type": "markdown",
     "metadata": {
      "slideshow": {
       "slide_type": "subslide"
      }
     },
     "source": [
      "# Create a Simple Series"
     ]
    },
    {
     "cell_type": "code",
     "collapsed": false,
     "input": [
      "s1 = pd.Series([1, 2, 3, 4, 5])\n",
      "s1"
     ],
     "language": "python",
     "metadata": {},
     "outputs": [
      {
       "metadata": {},
       "output_type": "pyout",
       "prompt_number": 6,
       "text": [
        "0    1\n",
        "1    2\n",
        "2    3\n",
        "3    4\n",
        "4    5\n",
        "dtype: int64"
       ]
      }
     ],
     "prompt_number": 6
    },
    {
     "cell_type": "markdown",
     "metadata": {
      "slideshow": {
       "slide_type": "subslide"
      }
     },
     "source": [
      "# Series Operations"
     ]
    },
    {
     "cell_type": "code",
     "collapsed": false,
     "input": [
      "# integer multiplication\n",
      "print s1 * 5"
     ],
     "language": "python",
     "metadata": {},
     "outputs": [
      {
       "output_type": "stream",
       "stream": "stdout",
       "text": [
        "0     5\n",
        "1    10\n",
        "2    15\n",
        "3    20\n",
        "4    25\n",
        "dtype: int64\n"
       ]
      }
     ],
     "prompt_number": 7
    },
    {
     "cell_type": "markdown",
     "metadata": {
      "slideshow": {
       "slide_type": "subslide"
      }
     },
     "source": [
      "# Series Operations - Cont."
     ]
    },
    {
     "cell_type": "code",
     "collapsed": false,
     "input": [
      "# float multiplication\n",
      "print s1 * 5.0"
     ],
     "language": "python",
     "metadata": {},
     "outputs": [
      {
       "output_type": "stream",
       "stream": "stdout",
       "text": [
        "0     5\n",
        "1    10\n",
        "2    15\n",
        "3    20\n",
        "4    25\n",
        "dtype: float64\n"
       ]
      }
     ],
     "prompt_number": 8
    },
    {
     "cell_type": "markdown",
     "metadata": {
      "slideshow": {
       "slide_type": "subslide"
      }
     },
     "source": [
      "# Series Index"
     ]
    },
    {
     "cell_type": "code",
     "collapsed": false,
     "input": [
      "s2 = pd.Series([1, 2, 3, 4, 5],\n",
      "               index=['a', 'b', 'c', 'd', 'e'])\n",
      "s2"
     ],
     "language": "python",
     "metadata": {},
     "outputs": [
      {
       "metadata": {},
       "output_type": "pyout",
       "prompt_number": 9,
       "text": [
        "a    1\n",
        "b    2\n",
        "c    3\n",
        "d    4\n",
        "e    5\n",
        "dtype: int64"
       ]
      }
     ],
     "prompt_number": 9
    },
    {
     "cell_type": "markdown",
     "metadata": {
      "slideshow": {
       "slide_type": "subslide"
      }
     },
     "source": [
      "# Date Convenience Functions\n",
      "\n",
      "A quick aside ..."
     ]
    },
    {
     "cell_type": "code",
     "collapsed": false,
     "input": [
      "dates = pd.date_range('20130626', periods=5)\n",
      "print dates\n",
      "print\n",
      "print dates[0]"
     ],
     "language": "python",
     "metadata": {},
     "outputs": [
      {
       "output_type": "stream",
       "stream": "stdout",
       "text": [
        "<class 'pandas.tseries.index.DatetimeIndex'>\n",
        "[2013-06-26, ..., 2013-06-30]\n",
        "Length: 5, Freq: D, Timezone: None\n",
        "\n",
        "2013-06-26 00:00:00\n"
       ]
      }
     ],
     "prompt_number": 10
    },
    {
     "cell_type": "markdown",
     "metadata": {
      "slideshow": {
       "slide_type": "subslide"
      }
     },
     "source": [
      "# Datestamps as Index"
     ]
    },
    {
     "cell_type": "code",
     "collapsed": false,
     "input": [
      "s3 = pd.Series([1, 2, 3, 4, 5], index=dates)\n",
      "print s3"
     ],
     "language": "python",
     "metadata": {},
     "outputs": [
      {
       "output_type": "stream",
       "stream": "stdout",
       "text": [
        "2013-06-26    1\n",
        "2013-06-27    2\n",
        "2013-06-28    3\n",
        "2013-06-29    4\n",
        "2013-06-30    5\n",
        "Freq: D, dtype: int64\n"
       ]
      }
     ],
     "prompt_number": 11
    },
    {
     "cell_type": "markdown",
     "metadata": {
      "slideshow": {
       "slide_type": "subslide"
      }
     },
     "source": [
      "# Selecting By Index\n",
      "\n",
      "Note that the integer index is retained along with the new date index."
     ]
    },
    {
     "cell_type": "code",
     "collapsed": false,
     "input": [
      "print s3[0]\n",
      "print type(s3[0])\n",
      "print\n",
      "print s3[1:3]\n",
      "print type(s3[1:3])"
     ],
     "language": "python",
     "metadata": {},
     "outputs": [
      {
       "output_type": "stream",
       "stream": "stdout",
       "text": [
        "1\n",
        "<type 'numpy.int64'>\n",
        "\n",
        "2013-06-27    2\n",
        "2013-06-28    3\n",
        "Freq: D, dtype: int64\n",
        "<class 'pandas.core.series.Series'>\n"
       ]
      }
     ],
     "prompt_number": 12
    },
    {
     "cell_type": "markdown",
     "metadata": {
      "slideshow": {
       "slide_type": "subslide"
      }
     },
     "source": [
      "# Selecting by value"
     ]
    },
    {
     "cell_type": "code",
     "collapsed": false,
     "input": [
      "s3[s3 < 3]"
     ],
     "language": "python",
     "metadata": {},
     "outputs": [
      {
       "metadata": {},
       "output_type": "pyout",
       "prompt_number": 13,
       "text": [
        "2013-06-26    1\n",
        "2013-06-27    2\n",
        "Freq: D, dtype: int64"
       ]
      }
     ],
     "prompt_number": 13
    },
    {
     "cell_type": "markdown",
     "metadata": {
      "slideshow": {
       "slide_type": "subslide"
      }
     },
     "source": [
      "# Selecting by Label (Date)"
     ]
    },
    {
     "cell_type": "code",
     "collapsed": false,
     "input": [
      "s3['20130626':'20130628']"
     ],
     "language": "python",
     "metadata": {},
     "outputs": [
      {
       "metadata": {},
       "output_type": "pyout",
       "prompt_number": 14,
       "text": [
        "2013-06-26    1\n",
        "2013-06-27    2\n",
        "2013-06-28    3\n",
        "Freq: D, dtype: int64"
       ]
      }
     ],
     "prompt_number": 14
    },
    {
     "cell_type": "markdown",
     "metadata": {
      "slideshow": {
       "slide_type": "subslide"
      }
     },
     "source": [
      "Series Wrapup\n",
      "-------------\n",
      "\n",
      "Things not covered but you should look into:\n",
      "\n",
      "* Other instantiation options: ``dict``\n",
      "* Operator Handling of missing data ``NaN``\n",
      "* Reforming Data and Indexes\n",
      "* Boolean Indexing\n",
      "* Other Series Attributes:\n",
      "\n",
      "  * ``index`` - ``index.name``\n",
      "  * ``name`` - Series name"
     ]
    },
    {
     "cell_type": "markdown",
     "metadata": {
      "slideshow": {
       "slide_type": "slide"
      }
     },
     "source": [
      "DataFrame\n",
      "---------\n",
      "\n",
      "* 2-dimensional labeled data structure\n",
      "* Like a SQL Table, Spreadsheet or ``dict`` of ``Series`` objects.\n",
      "* Columns of potentially different types\n",
      "* Operations, slicing and other behavior just like ``Series``"
     ]
    },
    {
     "cell_type": "markdown",
     "metadata": {
      "slideshow": {
       "slide_type": "subslide"
      }
     },
     "source": [
      "# DataFrame - Simple"
     ]
    },
    {
     "cell_type": "code",
     "collapsed": false,
     "input": [
      "data1 = pd.DataFrame(np.random.rand(4, 4))\n",
      "data1"
     ],
     "language": "python",
     "metadata": {},
     "outputs": [
      {
       "html": [
        "<div style=\"max-height:1000px;max-width:1500px;overflow:auto;\">\n",
        "<table border=\"1\" class=\"dataframe\">\n",
        "  <thead>\n",
        "    <tr style=\"text-align: right;\">\n",
        "      <th></th>\n",
        "      <th>0</th>\n",
        "      <th>1</th>\n",
        "      <th>2</th>\n",
        "      <th>3</th>\n",
        "    </tr>\n",
        "  </thead>\n",
        "  <tbody>\n",
        "    <tr>\n",
        "      <th>0</th>\n",
        "      <td> 0.371333</td>\n",
        "      <td> 0.788792</td>\n",
        "      <td> 0.869380</td>\n",
        "      <td> 0.084323</td>\n",
        "    </tr>\n",
        "    <tr>\n",
        "      <th>1</th>\n",
        "      <td> 0.490858</td>\n",
        "      <td> 0.134202</td>\n",
        "      <td> 0.816307</td>\n",
        "      <td> 0.019157</td>\n",
        "    </tr>\n",
        "    <tr>\n",
        "      <th>2</th>\n",
        "      <td> 0.839547</td>\n",
        "      <td> 0.721638</td>\n",
        "      <td> 0.544628</td>\n",
        "      <td> 0.042547</td>\n",
        "    </tr>\n",
        "    <tr>\n",
        "      <th>3</th>\n",
        "      <td> 0.098594</td>\n",
        "      <td> 0.954038</td>\n",
        "      <td> 0.306561</td>\n",
        "      <td> 0.689759</td>\n",
        "    </tr>\n",
        "  </tbody>\n",
        "</table>\n",
        "</div>"
       ],
       "metadata": {},
       "output_type": "pyout",
       "prompt_number": 15,
       "text": [
        "          0         1         2         3\n",
        "0  0.371333  0.788792  0.869380  0.084323\n",
        "1  0.490858  0.134202  0.816307  0.019157\n",
        "2  0.839547  0.721638  0.544628  0.042547\n",
        "3  0.098594  0.954038  0.306561  0.689759"
       ]
      }
     ],
     "prompt_number": 15
    },
    {
     "cell_type": "markdown",
     "metadata": {
      "slideshow": {
       "slide_type": "subslide"
      }
     },
     "source": [
      "# DataFrame - Index/Column Names"
     ]
    },
    {
     "cell_type": "code",
     "collapsed": false,
     "input": [
      "dates = pd.date_range('20130626', periods=4)\n",
      "data2 = pd.DataFrame(\n",
      "    np.random.rand(4, 4),\n",
      "    index=dates, columns=list('ABCD'))\n",
      "data2"
     ],
     "language": "python",
     "metadata": {},
     "outputs": [
      {
       "html": [
        "<div style=\"max-height:1000px;max-width:1500px;overflow:auto;\">\n",
        "<table border=\"1\" class=\"dataframe\">\n",
        "  <thead>\n",
        "    <tr style=\"text-align: right;\">\n",
        "      <th></th>\n",
        "      <th>A</th>\n",
        "      <th>B</th>\n",
        "      <th>C</th>\n",
        "      <th>D</th>\n",
        "    </tr>\n",
        "  </thead>\n",
        "  <tbody>\n",
        "    <tr>\n",
        "      <th>2013-06-26</th>\n",
        "      <td> 0.572954</td>\n",
        "      <td> 0.785437</td>\n",
        "      <td> 0.089758</td>\n",
        "      <td> 0.872083</td>\n",
        "    </tr>\n",
        "    <tr>\n",
        "      <th>2013-06-27</th>\n",
        "      <td> 0.857868</td>\n",
        "      <td> 0.779294</td>\n",
        "      <td> 0.453022</td>\n",
        "      <td> 0.836332</td>\n",
        "    </tr>\n",
        "    <tr>\n",
        "      <th>2013-06-28</th>\n",
        "      <td> 0.715369</td>\n",
        "      <td> 0.355922</td>\n",
        "      <td> 0.750194</td>\n",
        "      <td> 0.770045</td>\n",
        "    </tr>\n",
        "    <tr>\n",
        "      <th>2013-06-29</th>\n",
        "      <td> 0.409056</td>\n",
        "      <td> 0.452993</td>\n",
        "      <td> 0.937368</td>\n",
        "      <td> 0.118998</td>\n",
        "    </tr>\n",
        "  </tbody>\n",
        "</table>\n",
        "</div>"
       ],
       "metadata": {},
       "output_type": "pyout",
       "prompt_number": 16,
       "text": [
        "                   A         B         C         D\n",
        "2013-06-26  0.572954  0.785437  0.089758  0.872083\n",
        "2013-06-27  0.857868  0.779294  0.453022  0.836332\n",
        "2013-06-28  0.715369  0.355922  0.750194  0.770045\n",
        "2013-06-29  0.409056  0.452993  0.937368  0.118998"
       ]
      }
     ],
     "prompt_number": 16
    },
    {
     "cell_type": "markdown",
     "metadata": {
      "slideshow": {
       "slide_type": "subslide"
      }
     },
     "source": [
      "# DataFrame - Operations"
     ]
    },
    {
     "cell_type": "code",
     "collapsed": false,
     "input": [
      "data2['E'] = data2['B'] + 5 * data2['C']\n",
      "data2"
     ],
     "language": "python",
     "metadata": {},
     "outputs": [
      {
       "html": [
        "<div style=\"max-height:1000px;max-width:1500px;overflow:auto;\">\n",
        "<table border=\"1\" class=\"dataframe\">\n",
        "  <thead>\n",
        "    <tr style=\"text-align: right;\">\n",
        "      <th></th>\n",
        "      <th>A</th>\n",
        "      <th>B</th>\n",
        "      <th>C</th>\n",
        "      <th>D</th>\n",
        "      <th>E</th>\n",
        "    </tr>\n",
        "  </thead>\n",
        "  <tbody>\n",
        "    <tr>\n",
        "      <th>2013-06-26</th>\n",
        "      <td> 0.572954</td>\n",
        "      <td> 0.785437</td>\n",
        "      <td> 0.089758</td>\n",
        "      <td> 0.872083</td>\n",
        "      <td> 1.234225</td>\n",
        "    </tr>\n",
        "    <tr>\n",
        "      <th>2013-06-27</th>\n",
        "      <td> 0.857868</td>\n",
        "      <td> 0.779294</td>\n",
        "      <td> 0.453022</td>\n",
        "      <td> 0.836332</td>\n",
        "      <td> 3.044402</td>\n",
        "    </tr>\n",
        "    <tr>\n",
        "      <th>2013-06-28</th>\n",
        "      <td> 0.715369</td>\n",
        "      <td> 0.355922</td>\n",
        "      <td> 0.750194</td>\n",
        "      <td> 0.770045</td>\n",
        "      <td> 4.106891</td>\n",
        "    </tr>\n",
        "    <tr>\n",
        "      <th>2013-06-29</th>\n",
        "      <td> 0.409056</td>\n",
        "      <td> 0.452993</td>\n",
        "      <td> 0.937368</td>\n",
        "      <td> 0.118998</td>\n",
        "      <td> 5.139832</td>\n",
        "    </tr>\n",
        "  </tbody>\n",
        "</table>\n",
        "</div>"
       ],
       "metadata": {},
       "output_type": "pyout",
       "prompt_number": 17,
       "text": [
        "                   A         B         C         D         E\n",
        "2013-06-26  0.572954  0.785437  0.089758  0.872083  1.234225\n",
        "2013-06-27  0.857868  0.779294  0.453022  0.836332  3.044402\n",
        "2013-06-28  0.715369  0.355922  0.750194  0.770045  4.106891\n",
        "2013-06-29  0.409056  0.452993  0.937368  0.118998  5.139832"
       ]
      }
     ],
     "prompt_number": 17
    },
    {
     "cell_type": "markdown",
     "metadata": {
      "slideshow": {
       "slide_type": "fragment"
      }
     },
     "source": [
      "See?  You never need Excel again!"
     ]
    },
    {
     "cell_type": "markdown",
     "metadata": {
      "slideshow": {
       "slide_type": "subslide"
      }
     },
     "source": [
      "# DataFrame - Column Access\n",
      "\n",
      "Deleting a column."
     ]
    },
    {
     "cell_type": "code",
     "collapsed": false,
     "input": [
      "# Deleting a Column\n",
      "del data2['E']\n",
      "data2"
     ],
     "language": "python",
     "metadata": {},
     "outputs": [
      {
       "html": [
        "<div style=\"max-height:1000px;max-width:1500px;overflow:auto;\">\n",
        "<table border=\"1\" class=\"dataframe\">\n",
        "  <thead>\n",
        "    <tr style=\"text-align: right;\">\n",
        "      <th></th>\n",
        "      <th>A</th>\n",
        "      <th>B</th>\n",
        "      <th>C</th>\n",
        "      <th>D</th>\n",
        "    </tr>\n",
        "  </thead>\n",
        "  <tbody>\n",
        "    <tr>\n",
        "      <th>2013-06-26</th>\n",
        "      <td> 0.572954</td>\n",
        "      <td> 0.785437</td>\n",
        "      <td> 0.089758</td>\n",
        "      <td> 0.872083</td>\n",
        "    </tr>\n",
        "    <tr>\n",
        "      <th>2013-06-27</th>\n",
        "      <td> 0.857868</td>\n",
        "      <td> 0.779294</td>\n",
        "      <td> 0.453022</td>\n",
        "      <td> 0.836332</td>\n",
        "    </tr>\n",
        "    <tr>\n",
        "      <th>2013-06-28</th>\n",
        "      <td> 0.715369</td>\n",
        "      <td> 0.355922</td>\n",
        "      <td> 0.750194</td>\n",
        "      <td> 0.770045</td>\n",
        "    </tr>\n",
        "    <tr>\n",
        "      <th>2013-06-29</th>\n",
        "      <td> 0.409056</td>\n",
        "      <td> 0.452993</td>\n",
        "      <td> 0.937368</td>\n",
        "      <td> 0.118998</td>\n",
        "    </tr>\n",
        "  </tbody>\n",
        "</table>\n",
        "</div>"
       ],
       "metadata": {},
       "output_type": "pyout",
       "prompt_number": 18,
       "text": [
        "                   A         B         C         D\n",
        "2013-06-26  0.572954  0.785437  0.089758  0.872083\n",
        "2013-06-27  0.857868  0.779294  0.453022  0.836332\n",
        "2013-06-28  0.715369  0.355922  0.750194  0.770045\n",
        "2013-06-29  0.409056  0.452993  0.937368  0.118998"
       ]
      }
     ],
     "prompt_number": 18
    },
    {
     "cell_type": "markdown",
     "metadata": {
      "slideshow": {
       "slide_type": "subslide"
      }
     },
     "source": [
      "# DataFrame\n",
      "\n",
      "Remember this, data2, for the next examples."
     ]
    },
    {
     "cell_type": "code",
     "collapsed": false,
     "input": [
      "data2"
     ],
     "language": "python",
     "metadata": {},
     "outputs": [
      {
       "html": [
        "<div style=\"max-height:1000px;max-width:1500px;overflow:auto;\">\n",
        "<table border=\"1\" class=\"dataframe\">\n",
        "  <thead>\n",
        "    <tr style=\"text-align: right;\">\n",
        "      <th></th>\n",
        "      <th>A</th>\n",
        "      <th>B</th>\n",
        "      <th>C</th>\n",
        "      <th>D</th>\n",
        "    </tr>\n",
        "  </thead>\n",
        "  <tbody>\n",
        "    <tr>\n",
        "      <th>2013-06-26</th>\n",
        "      <td> 0.572954</td>\n",
        "      <td> 0.785437</td>\n",
        "      <td> 0.089758</td>\n",
        "      <td> 0.872083</td>\n",
        "    </tr>\n",
        "    <tr>\n",
        "      <th>2013-06-27</th>\n",
        "      <td> 0.857868</td>\n",
        "      <td> 0.779294</td>\n",
        "      <td> 0.453022</td>\n",
        "      <td> 0.836332</td>\n",
        "    </tr>\n",
        "    <tr>\n",
        "      <th>2013-06-28</th>\n",
        "      <td> 0.715369</td>\n",
        "      <td> 0.355922</td>\n",
        "      <td> 0.750194</td>\n",
        "      <td> 0.770045</td>\n",
        "    </tr>\n",
        "    <tr>\n",
        "      <th>2013-06-29</th>\n",
        "      <td> 0.409056</td>\n",
        "      <td> 0.452993</td>\n",
        "      <td> 0.937368</td>\n",
        "      <td> 0.118998</td>\n",
        "    </tr>\n",
        "  </tbody>\n",
        "</table>\n",
        "</div>"
       ],
       "metadata": {},
       "output_type": "pyout",
       "prompt_number": 19,
       "text": [
        "                   A         B         C         D\n",
        "2013-06-26  0.572954  0.785437  0.089758  0.872083\n",
        "2013-06-27  0.857868  0.779294  0.453022  0.836332\n",
        "2013-06-28  0.715369  0.355922  0.750194  0.770045\n",
        "2013-06-29  0.409056  0.452993  0.937368  0.118998"
       ]
      }
     ],
     "prompt_number": 19
    },
    {
     "cell_type": "markdown",
     "metadata": {
      "slideshow": {
       "slide_type": "subslide"
      }
     },
     "source": [
      "# DataFrame - Column Access \n",
      "\n",
      "As a dict"
     ]
    },
    {
     "cell_type": "code",
     "collapsed": false,
     "input": [
      "data2['B']"
     ],
     "language": "python",
     "metadata": {},
     "outputs": [
      {
       "metadata": {},
       "output_type": "pyout",
       "prompt_number": 20,
       "text": [
        "2013-06-26    0.785437\n",
        "2013-06-27    0.779294\n",
        "2013-06-28    0.355922\n",
        "2013-06-29    0.452993\n",
        "Freq: D, Name: B, dtype: float64"
       ]
      }
     ],
     "prompt_number": 20
    },
    {
     "cell_type": "markdown",
     "metadata": {
      "slideshow": {
       "slide_type": "subslide"
      }
     },
     "source": [
      "# DataFrame - Column Access\n",
      "\n",
      "As an attribute"
     ]
    },
    {
     "cell_type": "code",
     "collapsed": false,
     "input": [
      "data2.B"
     ],
     "language": "python",
     "metadata": {},
     "outputs": [
      {
       "metadata": {},
       "output_type": "pyout",
       "prompt_number": 21,
       "text": [
        "2013-06-26    0.785437\n",
        "2013-06-27    0.779294\n",
        "2013-06-28    0.355922\n",
        "2013-06-29    0.452993\n",
        "Freq: D, Name: B, dtype: float64"
       ]
      }
     ],
     "prompt_number": 21
    },
    {
     "cell_type": "markdown",
     "metadata": {
      "slideshow": {
       "slide_type": "subslide"
      }
     },
     "source": [
      "# DataFrame - Row Access\n",
      "\n",
      "By row label"
     ]
    },
    {
     "cell_type": "code",
     "collapsed": false,
     "input": [
      "data2.loc['20130627']    "
     ],
     "language": "python",
     "metadata": {},
     "outputs": [
      {
       "metadata": {},
       "output_type": "pyout",
       "prompt_number": 22,
       "text": [
        "A    0.857868\n",
        "B    0.779294\n",
        "C    0.453022\n",
        "D    0.836332\n",
        "Name: 2013-06-27 00:00:00, dtype: float64"
       ]
      }
     ],
     "prompt_number": 22
    },
    {
     "cell_type": "markdown",
     "metadata": {
      "slideshow": {
       "slide_type": "subslide"
      }
     },
     "source": [
      "# DataFrame - Row Access\n",
      "\n",
      "By integer location   "
     ]
    },
    {
     "cell_type": "code",
     "collapsed": false,
     "input": [
      "data2.iloc[1]"
     ],
     "language": "python",
     "metadata": {},
     "outputs": [
      {
       "metadata": {},
       "output_type": "pyout",
       "prompt_number": 23,
       "text": [
        "A    0.857868\n",
        "B    0.779294\n",
        "C    0.453022\n",
        "D    0.836332\n",
        "Name: 2013-06-27 00:00:00, dtype: float64"
       ]
      }
     ],
     "prompt_number": 23
    },
    {
     "cell_type": "markdown",
     "metadata": {
      "slideshow": {
       "slide_type": "subslide"
      }
     },
     "source": [
      "# DataFrame - Cell Access\n",
      "\n",
      "Access column, then row or use iloc and row/column indexes."
     ]
    },
    {
     "cell_type": "code",
     "collapsed": false,
     "input": [
      "print data2.B[0]\n",
      "print data2['B'][0]\n",
      "print data2.iloc[0,1]  # [row,column] "
     ],
     "language": "python",
     "metadata": {},
     "outputs": [
      {
       "output_type": "stream",
       "stream": "stdout",
       "text": [
        "0.785436968548\n",
        "0.785436968548\n",
        "0.785436968548\n"
       ]
      }
     ],
     "prompt_number": 24
    },
    {
     "cell_type": "markdown",
     "metadata": {
      "slideshow": {
       "slide_type": "subslide"
      }
     },
     "source": [
      "# DataFrame - Taking a Peek\n",
      "\n",
      "Look at the beginning of the DataFrame"
     ]
    },
    {
     "cell_type": "code",
     "collapsed": false,
     "input": [
      "data3 = pd.DataFrame(np.random.rand(100, 4))\n",
      "data3.head()"
     ],
     "language": "python",
     "metadata": {},
     "outputs": [
      {
       "html": [
        "<div style=\"max-height:1000px;max-width:1500px;overflow:auto;\">\n",
        "<table border=\"1\" class=\"dataframe\">\n",
        "  <thead>\n",
        "    <tr style=\"text-align: right;\">\n",
        "      <th></th>\n",
        "      <th>0</th>\n",
        "      <th>1</th>\n",
        "      <th>2</th>\n",
        "      <th>3</th>\n",
        "    </tr>\n",
        "  </thead>\n",
        "  <tbody>\n",
        "    <tr>\n",
        "      <th>0</th>\n",
        "      <td> 0.127258</td>\n",
        "      <td> 0.981462</td>\n",
        "      <td> 0.820096</td>\n",
        "      <td> 0.650613</td>\n",
        "    </tr>\n",
        "    <tr>\n",
        "      <th>1</th>\n",
        "      <td> 0.471623</td>\n",
        "      <td> 0.118745</td>\n",
        "      <td> 0.595012</td>\n",
        "      <td> 0.205356</td>\n",
        "    </tr>\n",
        "    <tr>\n",
        "      <th>2</th>\n",
        "      <td> 0.802777</td>\n",
        "      <td> 0.398816</td>\n",
        "      <td> 0.383789</td>\n",
        "      <td> 0.025648</td>\n",
        "    </tr>\n",
        "    <tr>\n",
        "      <th>3</th>\n",
        "      <td> 0.368724</td>\n",
        "      <td> 0.922648</td>\n",
        "      <td> 0.850099</td>\n",
        "      <td> 0.659503</td>\n",
        "    </tr>\n",
        "    <tr>\n",
        "      <th>4</th>\n",
        "      <td> 0.889618</td>\n",
        "      <td> 0.565936</td>\n",
        "      <td> 0.056413</td>\n",
        "      <td> 0.768219</td>\n",
        "    </tr>\n",
        "  </tbody>\n",
        "</table>\n",
        "</div>"
       ],
       "metadata": {},
       "output_type": "pyout",
       "prompt_number": 25,
       "text": [
        "          0         1         2         3\n",
        "0  0.127258  0.981462  0.820096  0.650613\n",
        "1  0.471623  0.118745  0.595012  0.205356\n",
        "2  0.802777  0.398816  0.383789  0.025648\n",
        "3  0.368724  0.922648  0.850099  0.659503\n",
        "4  0.889618  0.565936  0.056413  0.768219"
       ]
      }
     ],
     "prompt_number": 25
    },
    {
     "cell_type": "markdown",
     "metadata": {
      "slideshow": {
       "slide_type": "subslide"
      }
     },
     "source": [
      "# DataFrame - Taking a Peek\n",
      "\n",
      "Look at the end of the DataFrame."
     ]
    },
    {
     "cell_type": "code",
     "collapsed": false,
     "input": [
      "data3.tail()"
     ],
     "language": "python",
     "metadata": {},
     "outputs": [
      {
       "html": [
        "<div style=\"max-height:1000px;max-width:1500px;overflow:auto;\">\n",
        "<table border=\"1\" class=\"dataframe\">\n",
        "  <thead>\n",
        "    <tr style=\"text-align: right;\">\n",
        "      <th></th>\n",
        "      <th>0</th>\n",
        "      <th>1</th>\n",
        "      <th>2</th>\n",
        "      <th>3</th>\n",
        "    </tr>\n",
        "  </thead>\n",
        "  <tbody>\n",
        "    <tr>\n",
        "      <th>95</th>\n",
        "      <td> 0.332815</td>\n",
        "      <td> 0.920505</td>\n",
        "      <td> 0.808580</td>\n",
        "      <td> 0.161875</td>\n",
        "    </tr>\n",
        "    <tr>\n",
        "      <th>96</th>\n",
        "      <td> 0.348941</td>\n",
        "      <td> 0.532944</td>\n",
        "      <td> 0.921147</td>\n",
        "      <td> 0.736528</td>\n",
        "    </tr>\n",
        "    <tr>\n",
        "      <th>97</th>\n",
        "      <td> 0.305776</td>\n",
        "      <td> 0.747903</td>\n",
        "      <td> 0.161359</td>\n",
        "      <td> 0.808279</td>\n",
        "    </tr>\n",
        "    <tr>\n",
        "      <th>98</th>\n",
        "      <td> 0.141267</td>\n",
        "      <td> 0.878946</td>\n",
        "      <td> 0.537137</td>\n",
        "      <td> 0.157560</td>\n",
        "    </tr>\n",
        "    <tr>\n",
        "      <th>99</th>\n",
        "      <td> 0.862024</td>\n",
        "      <td> 0.519265</td>\n",
        "      <td> 0.172454</td>\n",
        "      <td> 0.665810</td>\n",
        "    </tr>\n",
        "  </tbody>\n",
        "</table>\n",
        "</div>"
       ],
       "metadata": {},
       "output_type": "pyout",
       "prompt_number": 26,
       "text": [
        "           0         1         2         3\n",
        "95  0.332815  0.920505  0.808580  0.161875\n",
        "96  0.348941  0.532944  0.921147  0.736528\n",
        "97  0.305776  0.747903  0.161359  0.808279\n",
        "98  0.141267  0.878946  0.537137  0.157560\n",
        "99  0.862024  0.519265  0.172454  0.665810"
       ]
      }
     ],
     "prompt_number": 26
    },
    {
     "cell_type": "markdown",
     "metadata": {
      "slideshow": {
       "slide_type": "subslide"
      }
     },
     "source": [
      "# DataFrame Wrap Up\n",
      "\n",
      "Just remember, \n",
      "\n",
      "* A `DataFrame` is just a bunch of `Series` grouped together.\n",
      "* Any one dimensional slice returns a `Series`\n",
      "* Any two dimensional slice returns another `DataFrame`.\n",
      "* Elements are typically NumPy types or Objects."
     ]
    },
    {
     "cell_type": "markdown",
     "metadata": {
      "slideshow": {
       "slide_type": "slide"
      }
     },
     "source": [
      "# Panel\n",
      "\n",
      "Like DataFrame but 3 or more dimensions."
     ]
    },
    {
     "cell_type": "markdown",
     "metadata": {
      "slideshow": {
       "slide_type": "slide"
      }
     },
     "source": [
      "# IO Tools\n",
      "\n",
      "Robust IO tools to read in data from a variety of sources\n",
      "\n",
      "* CSV - [pd.read_csv()](http://pandas.pydata.org/pandas-docs/stable/io.html#io-read-csv-table)\n",
      "* Clipboard - [pd.read_clipboard()](http://pandas.pydata.org/pandas-docs/stable/io.html#clipboard)\n",
      "* SQL - [pd.read_sql_table()](http://pandas.pydata.org/pandas-docs/stable/io.html#sql-queries)\n",
      "* Excel - [pd.read_excel()](http://pandas.pydata.org/pandas-docs/stable/io.html#io-excel)"
     ]
    },
    {
     "cell_type": "markdown",
     "metadata": {
      "slideshow": {
       "slide_type": "slide"
      }
     },
     "source": [
      "# Plotting\n",
      "\n",
      "* Matplotlib - [s.plot()](http://pandas.pydata.org/pandas-docs/stable/visualization.html#plotting-with-matplotlib) - Standard Python Plotting Library\n",
      "* Trellis - [rplot()](http://pandas.pydata.org/pandas-docs/stable/rplot.html) - An 'R' inspired Matplotlib based plotting tool"
     ]
    },
    {
     "cell_type": "markdown",
     "metadata": {
      "slideshow": {
       "slide_type": "slide"
      }
     },
     "source": [
      "# Bringing it Together - Data\n",
      "\n",
      "The csv file (``phx-temps.csv``) contains Phoenix weather data from\n",
      "GSOD::\n",
      "\n",
      "```\n",
      "1973-01-01 00:00:00,53.1,37.9\n",
      "1973-01-02 00:00:00,57.9,37.0\n",
      "...\n",
      "2012-12-30 00:00:00,64.9,39.0\n",
      "2012-12-31 00:00:00,55.9,41.0\n",
      "```"
     ]
    },
    {
     "cell_type": "markdown",
     "metadata": {
      "slideshow": {
       "slide_type": "subslide"
      }
     },
     "source": [
      "# Bringing it Together - Code\n",
      "\n",
      "Simple `read_csv()`"
     ]
    },
    {
     "cell_type": "code",
     "collapsed": false,
     "input": [
      "# simple readcsv\n",
      "phxtemps1 = pd.read_csv('phx-temps.csv')\n",
      "phxtemps1.head()"
     ],
     "language": "python",
     "metadata": {},
     "outputs": [
      {
       "html": [
        "<div style=\"max-height:1000px;max-width:1500px;overflow:auto;\">\n",
        "<table border=\"1\" class=\"dataframe\">\n",
        "  <thead>\n",
        "    <tr style=\"text-align: right;\">\n",
        "      <th></th>\n",
        "      <th>1973-01-01 00:00:00</th>\n",
        "      <th>53.1</th>\n",
        "      <th>37.9</th>\n",
        "    </tr>\n",
        "  </thead>\n",
        "  <tbody>\n",
        "    <tr>\n",
        "      <th>0</th>\n",
        "      <td> 1973-01-02 00:00:00</td>\n",
        "      <td> 57.9</td>\n",
        "      <td> 37.0</td>\n",
        "    </tr>\n",
        "    <tr>\n",
        "      <th>1</th>\n",
        "      <td> 1973-01-03 00:00:00</td>\n",
        "      <td> 59.0</td>\n",
        "      <td> 37.0</td>\n",
        "    </tr>\n",
        "    <tr>\n",
        "      <th>2</th>\n",
        "      <td> 1973-01-04 00:00:00</td>\n",
        "      <td> 57.9</td>\n",
        "      <td> 41.0</td>\n",
        "    </tr>\n",
        "    <tr>\n",
        "      <th>3</th>\n",
        "      <td> 1973-01-05 00:00:00</td>\n",
        "      <td> 54.0</td>\n",
        "      <td> 39.9</td>\n",
        "    </tr>\n",
        "    <tr>\n",
        "      <th>4</th>\n",
        "      <td> 1973-01-06 00:00:00</td>\n",
        "      <td> 55.9</td>\n",
        "      <td> 37.9</td>\n",
        "    </tr>\n",
        "  </tbody>\n",
        "</table>\n",
        "</div>"
       ],
       "metadata": {},
       "output_type": "pyout",
       "prompt_number": 27,
       "text": [
        "   1973-01-01 00:00:00  53.1  37.9\n",
        "0  1973-01-02 00:00:00  57.9  37.0\n",
        "1  1973-01-03 00:00:00  59.0  37.0\n",
        "2  1973-01-04 00:00:00  57.9  41.0\n",
        "3  1973-01-05 00:00:00  54.0  39.9\n",
        "4  1973-01-06 00:00:00  55.9  37.9"
       ]
      }
     ],
     "prompt_number": 27
    },
    {
     "cell_type": "markdown",
     "metadata": {
      "slideshow": {
       "slide_type": "subslide"
      }
     },
     "source": [
      "# Bringing it Together - Code\n",
      "\n",
      "Advanced `read_csv()`, parsing the dates and using them as the index, and naming the columns."
     ]
    },
    {
     "cell_type": "code",
     "collapsed": false,
     "input": [
      "# define index, parse dates, name columns\n",
      "phxtemps2 = pd.read_csv(\n",
      "    'phx-temps.csv', index_col=0,\n",
      "    names=['highs', 'lows'], parse_dates=True)\n",
      "phxtemps2.head()"
     ],
     "language": "python",
     "metadata": {},
     "outputs": [
      {
       "html": [
        "<div style=\"max-height:1000px;max-width:1500px;overflow:auto;\">\n",
        "<table border=\"1\" class=\"dataframe\">\n",
        "  <thead>\n",
        "    <tr style=\"text-align: right;\">\n",
        "      <th></th>\n",
        "      <th>highs</th>\n",
        "      <th>lows</th>\n",
        "    </tr>\n",
        "  </thead>\n",
        "  <tbody>\n",
        "    <tr>\n",
        "      <th>1973-01-01</th>\n",
        "      <td> 53.1</td>\n",
        "      <td> 37.9</td>\n",
        "    </tr>\n",
        "    <tr>\n",
        "      <th>1973-01-02</th>\n",
        "      <td> 57.9</td>\n",
        "      <td> 37.0</td>\n",
        "    </tr>\n",
        "    <tr>\n",
        "      <th>1973-01-03</th>\n",
        "      <td> 59.0</td>\n",
        "      <td> 37.0</td>\n",
        "    </tr>\n",
        "    <tr>\n",
        "      <th>1973-01-04</th>\n",
        "      <td> 57.9</td>\n",
        "      <td> 41.0</td>\n",
        "    </tr>\n",
        "    <tr>\n",
        "      <th>1973-01-05</th>\n",
        "      <td> 54.0</td>\n",
        "      <td> 39.9</td>\n",
        "    </tr>\n",
        "  </tbody>\n",
        "</table>\n",
        "</div>"
       ],
       "metadata": {},
       "output_type": "pyout",
       "prompt_number": 28,
       "text": [
        "            highs  lows\n",
        "1973-01-01   53.1  37.9\n",
        "1973-01-02   57.9  37.0\n",
        "1973-01-03   59.0  37.0\n",
        "1973-01-04   57.9  41.0\n",
        "1973-01-05   54.0  39.9"
       ]
      }
     ],
     "prompt_number": 28
    },
    {
     "cell_type": "markdown",
     "metadata": {
      "slideshow": {
       "slide_type": "subslide"
      }
     },
     "source": [
      "# Bringing it Together - Plot"
     ]
    },
    {
     "cell_type": "code",
     "collapsed": false,
     "input": [
      "import matplotlib.pyplot as plt\n",
      "%matplotlib inline \n",
      "phxtemps2.plot()  # pandas convenience method"
     ],
     "language": "python",
     "metadata": {
      "slideshow": {
       "slide_type": "-"
      }
     },
     "outputs": [
      {
       "metadata": {},
       "output_type": "pyout",
       "prompt_number": 29,
       "text": [
        "<matplotlib.axes.AxesSubplot at 0x7f9916ef4d90>"
       ]
      },
      {
       "metadata": {},
       "output_type": "display_data",
       "png": "[encoded data removed]",
       "text": [
        "<matplotlib.figure.Figure at 0x7f9916ef47d0>"
       ]
      }
     ],
     "prompt_number": 29
    },
    {
     "cell_type": "markdown",
     "metadata": {
      "slideshow": {
       "slide_type": "fragment"
      }
     },
     "source": [
      "Boo, Pandas and Friends would cry if they saw such a plot."
     ]
    },
    {
     "cell_type": "markdown",
     "metadata": {
      "slideshow": {
       "slide_type": "subslide"
      }
     },
     "source": [
      "# Bringing it Together - Plot\n",
      "\n",
      "Lets see a smaller slice of time:"
     ]
    },
    {
     "cell_type": "code",
     "collapsed": false,
     "input": [
      "phxtemps2['20120101':'20121231'].plot()\n"
     ],
     "language": "python",
     "metadata": {
      "slideshow": {
       "slide_type": "fragment"
      }
     },
     "outputs": [
      {
       "metadata": {},
       "output_type": "pyout",
       "prompt_number": 30,
       "text": [
        "<matplotlib.axes.AxesSubplot at 0x7f9916ae8290>"
       ]
      },
      {
       "metadata": {},
       "output_type": "display_data",
       "png": "[encoded data removed]",
       "text": [
        "<matplotlib.figure.Figure at 0x7f9916ef45d0>"
       ]
      }
     ],
     "prompt_number": 30
    },
    {
     "cell_type": "markdown",
     "metadata": {
      "slideshow": {
       "slide_type": "subslide"
      }
     },
     "source": [
      "# Bringing it Together - Plot\n",
      "\n",
      "Lets operate on the `DataFrame` ... lets take the differnce between the highs and lows."
     ]
    },
    {
     "cell_type": "code",
     "collapsed": false,
     "input": [
      "phxtemps2['diff'] = phxtemps2.highs - phxtemps2.lows\n",
      "phxtemps2['20120101':'20121231'].plot()"
     ],
     "language": "python",
     "metadata": {
      "slideshow": {
       "slide_type": "fragment"
      }
     },
     "outputs": [
      {
       "metadata": {},
       "output_type": "pyout",
       "prompt_number": 31,
       "text": [
        "<matplotlib.axes.AxesSubplot at 0x7f99168bec10>"
       ]
      },
      {
       "metadata": {},
       "output_type": "display_data",
       "png": "[encoded data removed]",
       "text": [
        "<matplotlib.figure.Figure at 0x7f991687e690>"
       ]
      }
     ],
     "prompt_number": 31
    },
    {
     "cell_type": "markdown",
     "metadata": {
      "slideshow": {
       "slide_type": "slide"
      }
     },
     "source": [
      "# Pandas Alternatives\n",
      "\n",
      "* AstroPy seems to have similar data structures.\n",
      "* I suspect there are others."
     ]
    },
    {
     "cell_type": "markdown",
     "metadata": {
      "slideshow": {
       "slide_type": "slide"
      }
     },
     "source": [
      "References\n",
      "----------\n",
      "\n",
      "* [Pandas Documentation](http://pandas.pydata.org/pandas-docs/stable/index.html)\n",
      "* [Python for Data Analysis](http://www.amazon.com/Python-Data-Analysis-Wes-McKinney/dp/1449319793/)\n",
      "* [Presentation Source](https://github.com/desertpy/presentations)\n"
     ]
    },
    {
     "cell_type": "markdown",
     "metadata": {
      "slideshow": {
       "slide_type": "slide"
      }
     },
     "source": [
      "# Thanks! - Pandas and Friends\n",
      "\n",
      "* Austin Godber\n",
      "* Mail: godber@uberhip.com\n",
      "* Twitter: @godber\n",
      "* Presented at [DesertPy](http://desertpy.com), Jan 2015."
     ]
    }
   ],
   "metadata": {}
  }
 ]
}
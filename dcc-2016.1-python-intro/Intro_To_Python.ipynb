{
 "cells": [
  {
   "cell_type": "markdown",
   "metadata": {
    "slideshow": {
     "slide_type": "slide"
    }
   },
   "source": [
    "<img src=\"python-logo-generic.svg\" alt=\"Python Logo\">\n",
    "\n",
    "# Introduction to Python: The language, ecosystem and community\n",
    "\n",
    "**Austin Godber**  \n",
    "**@godber**  \n",
    "DesertPy Co-Organizer  \n",
    "Meetup, Github and http://desertpy.com\n",
    "\n",
    "\n",
    "Desert Code Camp 2016.1 - 10/08/2016"
   ]
  },
  {
   "cell_type": "markdown",
   "metadata": {
    "slideshow": {
     "slide_type": "slide"
    }
   },
   "source": [
    "# Getting Python\n",
    "\n",
    "* Windows - Anaconda/miniconda, Enthought Canopy\n",
    "* OS X - Default install, Homebrew, Anaconda\n",
    "* Linux - Default install, Anaconda"
   ]
  },
  {
   "cell_type": "markdown",
   "metadata": {
    "slideshow": {
     "slide_type": "subslide"
    }
   },
   "source": [
    "# Follow Along\n",
    "\n",
    "If you have IPython/Jupyter Notebook installed, you can grab the notebook (`Intro_To_Python.ipynb`) here:\n",
    "\n",
    "https://goo.gl/W7bwyk\n",
    "\n",
    "These examples should work in a relatively recent Anaconda installation."
   ]
  },
  {
   "cell_type": "markdown",
   "metadata": {
    "slideshow": {
     "slide_type": "slide"
    }
   },
   "source": [
    "<img src=\"python-stack.png\" width=350px style=\"float:right;\">\n",
    "\n",
    "\n",
    "# Python Language\n",
    "\n",
    "* Python\n",
    "  * https://goo.gl/jQf5BZ\n",
    "* Python Standard Library\n",
    "  * https://goo.gl/raCczu\n",
    "* 3rd Party Modules at PyPI\n",
    "  * https://pypi.python.org/pypi"
   ]
  },
  {
   "cell_type": "markdown",
   "metadata": {
    "slideshow": {
     "slide_type": "notes"
    }
   },
   "source": [
    "Technically, libraries are **modules**, a **package** contains submodules and has a `__path__` attribute."
   ]
  },
  {
   "cell_type": "markdown",
   "metadata": {
    "slideshow": {
     "slide_type": "subslide"
    }
   },
   "source": [
    "# Python\n",
    "\n",
    "* Python - https://docs.python.org/3/reference/index.html\n",
    "  * Python Interpreter: CPython, Pypy, IronPython(2.7), Jython(2.7)\n",
    "  * Core Language Syntax, built-ins\n",
    "* Python Standard Library - https://docs.python.org/3/library/index.html\n",
    "  * C or Python modules included with Python\n",
    "  * These modules need to be imported, e.g.: `import math`"
   ]
  },
  {
   "cell_type": "markdown",
   "metadata": {
    "slideshow": {
     "slide_type": "subslide"
    }
   },
   "source": [
    "# 3rd Party Libs\n",
    "* 3rd Party Modules - https://pypi.python.org/pypi\n",
    "  * Install them with `pip`\n",
    "  * These modules need to be imported\n",
    "    * e.g.: `import requests`"
   ]
  },
  {
   "cell_type": "markdown",
   "metadata": {
    "slideshow": {
     "slide_type": "subslide"
    }
   },
   "source": [
    "# Python 2 vs Python 3\n",
    "\n",
    "### Simple - Use Python 3 unless you have a convincing reason not to.\n",
    "\n",
    "* https://docs.python.org/3/\n",
    "* https://docs.python.org/2.7/"
   ]
  },
  {
   "cell_type": "markdown",
   "metadata": {
    "slideshow": {
     "slide_type": "slide"
    }
   },
   "source": [
    "# Python Language Syntax"
   ]
  },
  {
   "cell_type": "markdown",
   "metadata": {
    "slideshow": {
     "slide_type": "subslide"
    }
   },
   "source": [
    "# Built-in Functions\n",
    "\n",
    "<img src=\"python-builtin-functions.png\" style=\"float:center;\">"
   ]
  },
  {
   "cell_type": "markdown",
   "metadata": {
    "slideshow": {
     "slide_type": "subslide"
    }
   },
   "source": [
    "# Built-in Constants\n",
    "\n",
    "* `False`, `True`\n",
    "* `None`\n",
    "* `NotImplemented`\n",
    "* `Elipsis` (same as `...`)\n",
    "* `__debug__`\n",
    "* `quit()`, `exit()`, `copyright`, `license`, `credits`"
   ]
  },
  {
   "cell_type": "markdown",
   "metadata": {
    "collapsed": true,
    "slideshow": {
     "slide_type": "subslide"
    }
   },
   "source": [
    "# Built-in Types\n",
    "\n",
    "* numerics - `int`, `float`, `complex`\n",
    "* sequences - `list` - `[]`, `tuple` - `()`, `range`, `str`, etc.\n",
    "* sets - `set`, `frozenset`\n",
    "* mappings - `dict`\n",
    "* classes\n",
    "* instances\n",
    "* exceptions\n",
    "* Others - iterators, generators, binary sequences, memoryviews"
   ]
  },
  {
   "cell_type": "markdown",
   "metadata": {
    "slideshow": {
     "slide_type": "subslide"
    }
   },
   "source": [
    "# Boolean Operations\n",
    "\n",
    "* `False` things: `False`, `None`, `0`, `0.0`, `''`, `()`, `[]`, `{}`, any object whose `__bool__` or `__len__` method returns a `False` value.\n",
    "* Everything else is true.\n",
    "\n",
    "<img src=\"boolean.png\" style=\"float:center;\">"
   ]
  },
  {
   "cell_type": "markdown",
   "metadata": {
    "slideshow": {
     "slide_type": "subslide"
    }
   },
   "source": [
    "# Comparisons\n",
    "\n",
    "<img src=\"comparisons.png\" style=\"float:center;\">"
   ]
  },
  {
   "cell_type": "markdown",
   "metadata": {
    "slideshow": {
     "slide_type": "slide"
    }
   },
   "source": [
    "# Python Examples"
   ]
  },
  {
   "cell_type": "code",
   "execution_count": 14,
   "metadata": {
    "collapsed": false,
    "slideshow": {
     "slide_type": "-"
    }
   },
   "outputs": [
    {
     "name": "stdout",
     "output_type": "stream",
     "text": [
      "Hello, World!\n"
     ]
    }
   ],
   "source": [
    "print(\"Hello, World!\")"
   ]
  },
  {
   "cell_type": "code",
   "execution_count": 16,
   "metadata": {
    "collapsed": false,
    "slideshow": {
     "slide_type": "subslide"
    }
   },
   "outputs": [
    {
     "name": "stdout",
     "output_type": "stream",
     "text": [
      "Hello, World!\n"
     ]
    }
   ],
   "source": [
    "def hello1():\n",
    "    print(\"Hello, World!\")\n",
    "    \n",
    "hello1()"
   ]
  },
  {
   "cell_type": "code",
   "execution_count": 25,
   "metadata": {
    "collapsed": false,
    "slideshow": {
     "slide_type": "subslide"
    }
   },
   "outputs": [
    {
     "name": "stdout",
     "output_type": "stream",
     "text": [
      "Hello, World!\n",
      "Hello, Skippy!\n"
     ]
    }
   ],
   "source": [
    "def hello2(name=None):\n",
    "    if not name:\n",
    "        name = \"World\"\n",
    "    print(\"Hello, %s!\" % name)\n",
    "    \n",
    "hello2()\n",
    "hello2(\"Skippy\")"
   ]
  },
  {
   "cell_type": "code",
   "execution_count": 38,
   "metadata": {
    "collapsed": true,
    "slideshow": {
     "slide_type": "subslide"
    }
   },
   "outputs": [],
   "source": [
    "class Person1(object):\n",
    "    \"\"\"Class representing a person, usually used for providing Greetings.\"\"\"\n",
    "    \n",
    "    def __init__(self, name):\n",
    "        self.name = name\n",
    "        \n",
    "    def greet(self):\n",
    "        print(\"Hello, %s!\" % self.name)"
   ]
  },
  {
   "cell_type": "code",
   "execution_count": 39,
   "metadata": {
    "collapsed": false
   },
   "outputs": [
    {
     "name": "stdout",
     "output_type": "stream",
     "text": [
      "Hello, Skippy!\n",
      "Hello, Skippy!\n"
     ]
    }
   ],
   "source": [
    "skippy = Person1(\"Skippy\")\n",
    "skippy.greet()\n",
    "hello2(skippy.name)"
   ]
  },
  {
   "cell_type": "code",
   "execution_count": 64,
   "metadata": {
    "collapsed": true,
    "slideshow": {
     "slide_type": "subslide"
    }
   },
   "outputs": [],
   "source": [
    "class Person2(object):\n",
    "    \"\"\"Class representing a person, usually used for providing Greetings.\"\"\"\n",
    "    \n",
    "    def __init__(self, name, height):\n",
    "        self.name = name\n",
    "        self.height = height  # Height of person in inches\n",
    "\n",
    "    def greet(self):\n",
    "        print(\"Hello, %s!\" % self.name)\n",
    "    \n",
    "    @property\n",
    "    def height_ft(self):\n",
    "        return self.height / 12.0"
   ]
  },
  {
   "cell_type": "code",
   "execution_count": 65,
   "metadata": {
    "collapsed": false
   },
   "outputs": [
    {
     "name": "stdout",
     "output_type": "stream",
     "text": [
      "Hello, Chip!\n"
     ]
    },
    {
     "data": {
      "text/plain": [
       "6.0"
      ]
     },
     "execution_count": 65,
     "metadata": {},
     "output_type": "execute_result"
    }
   ],
   "source": [
    "chip = Person2('Chip', 72)\n",
    "chip.greet()\n",
    "chip.height_ft"
   ]
  },
  {
   "cell_type": "markdown",
   "metadata": {},
   "source": [
    "Great post on OOP in Python\n",
    "\n",
    "https://jeffknupp.com/blog/2014/06/18/improve-your-python-python-classes-and-object-oriented-programming/"
   ]
  },
  {
   "cell_type": "code",
   "execution_count": null,
   "metadata": {
    "collapsed": true
   },
   "outputs": [],
   "source": [
    "# types?`"
   ]
  },
  {
   "cell_type": "markdown",
   "metadata": {},
   "source": [
    "# Python Tools\n",
    "\n",
    "* REPL - python, IPython\n",
    "* Docstrings -> Sphinx -> Read The Docs\n",
    "* Packages - pip (wheel), cookiecutter\n",
    "* Interactive Environments - Spyder, Jupyter (IPython) Notebook\n",
    "* Editors - sublimetext, atom, spyder, PyCharm, vim\n",
    "* Syntax/Code Checkers - pylint, pep8, autopep8"
   ]
  },
  {
   "cell_type": "markdown",
   "metadata": {},
   "source": [
    "# Style and Idiomatic ???\n",
    "\n",
    "* PEP 8\n",
    "* The Python Way ... `import this`\n",
    "* some idiomatic examples??\n",
    "  * http://python.net/~goodger/projects/pycon/2007/idiomatic/handout.html"
   ]
  },
  {
   "cell_type": "markdown",
   "metadata": {
    "slideshow": {
     "slide_type": "slide"
    }
   },
   "source": [
    "# Use Cases\n",
    "\n",
    "* Web Applications\n",
    "  * Flask\n",
    "  * Django\n",
    "  * CherryPy, Pyramid, Web2py, etc\n",
    "* Numerical, Scientific Applications\n",
    "  * IPython/Jupyter\n",
    "  * Pandas\n",
    "  * Numpy\n",
    "  * Scipy\n",
    "  * Scikit-learn\n",
    "  * AstroPY\n",
    "* Plotting\n",
    "  * Matplotlib\n",
    "  * Bokeh\n",
    "  * Altair\n",
    "  * etc\n",
    "  * Comparison\n",
    "      * https://dansaber.wordpress.com/2016/10/02/a-dramatic-tour-through-pythons-data-visualization-landscape-including-ggplot-and-altair/\n",
    "* Image manipulation and Image Processing\n",
    "  * PIL/Pillow, Imageio\n",
    "  * scikit-image\n",
    "* Python as an embedded scripting platform\n",
    "  * Blender\n",
    "  * ArcGIS\n",
    "  * QGIS"
   ]
  },
  {
   "cell_type": "markdown",
   "metadata": {
    "collapsed": true,
    "slideshow": {
     "slide_type": "slide"
    }
   },
   "source": [
    "# Thank You!\n",
    "\n",
    "```python\n",
    "import antigravity\n",
    "```"
   ]
  }
 ],
 "metadata": {
  "celltoolbar": "Slideshow",
  "kernelspec": {
   "display_name": "Python 3",
   "language": "python",
   "name": "python3"
  },
  "language_info": {
   "codemirror_mode": {
    "name": "ipython",
    "version": 3
   },
   "file_extension": ".py",
   "mimetype": "text/x-python",
   "name": "python",
   "nbconvert_exporter": "python",
   "pygments_lexer": "ipython3",
   "version": "3.5.1"
  }
 },
 "nbformat": 4,
 "nbformat_minor": 0
}

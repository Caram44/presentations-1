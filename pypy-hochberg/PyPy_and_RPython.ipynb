{
 "metadata": {
  "celltoolbar": "Slideshow",
  "name": "",
  "signature": "sha256:0e6d323164fdf10c321a77bdbfcb91f39a6bc39ed2fdf7283f30e952365f316c"
 },
 "nbformat": 3,
 "nbformat_minor": 0,
 "worksheets": [
  {
   "cells": [
    {
     "cell_type": "markdown",
     "metadata": {
      "slideshow": {
       "slide_type": "slide"
      }
     },
     "source": [
      "#PyPy and RPython\n",
      "\n",
      "##DesertPy\n",
      "\n",
      "##22 October 2014\n",
      "\n",
      "##Tim Hochberg\n"
     ]
    },
    {
     "cell_type": "markdown",
     "metadata": {
      "slideshow": {
       "slide_type": "subslide"
      }
     },
     "source": [
      "This talk with involve a brief discussion of PyPy, a Python interpreter implemented in Python, followed by a longer discussion of the RPython toolchain which makes this implementation not only possible, but faster than the standard C-Python interpreter. The discussion of RPython will be illustrated using a simple interpreter implemented in Python, which is then translated to native code using the RPython toolchain. \n",
      "\n",
      "Also, there will be Mandelbrot sets."
     ]
    },
    {
     "cell_type": "markdown",
     "metadata": {
      "slideshow": {
       "slide_type": "slide"
      }
     },
     "source": [
      "#What is PyPy\n",
      "\n",
      "1. An implementation of Python written in Python because...\n",
      "\n",
      "\n",
      "    \n",
      "\n"
     ]
    },
    {
     "cell_type": "markdown",
     "metadata": {
      "slideshow": {
       "slide_type": "fragment"
      }
     },
     "source": [
      "2. Python allows easier experimentation with new features and approaches\n",
      "    - Stackless (microthreads)\n",
      "    - Sandboxing\n",
      "    - Software Transactional Memory\n",
      "    - ... "
     ]
    },
    {
     "cell_type": "markdown",
     "metadata": {
      "slideshow": {
       "slide_type": "fragment"
      }
     },
     "source": [
      "3. Also, over 6\u00d7 faster than CPython on average!\n",
      " "
     ]
    },
    {
     "cell_type": "markdown",
     "metadata": {
      "slideshow": {
       "slide_type": "subslide"
      }
     },
     "source": [
      "![](PyPy-Speed.png)"
     ]
    },
    {
     "cell_type": "markdown",
     "metadata": {
      "slideshow": {
       "slide_type": "subslide"
      }
     },
     "source": [
      "#What's the Catch?\n",
      "\n",
      "- PyPy relies on a JIT for speed; not effective for all code."
     ]
    },
    {
     "cell_type": "markdown",
     "metadata": {},
     "source": [
      "- The quoted speedups are based on benchmarks. YMMV.\n",
      "    * However, everything I timed was faster using PyPy. "
     ]
    },
    {
     "cell_type": "markdown",
     "metadata": {},
     "source": [
      "- Not all modules based on C (or other languages) are working.\n",
      "    * There is a list of compatible modules at bitbucket.org/pypy/compatibility\n",
      "    * Notably, NumPy only partially working. Also, slow."
     ]
    },
    {
     "cell_type": "markdown",
     "metadata": {
      "slideshow": {
       "slide_type": "slide"
      }
     },
     "source": [
      "#PyPy Example\n"
     ]
    },
    {
     "cell_type": "code",
     "collapsed": false,
     "input": [
      "# mandelbrot.py\n",
      "\n",
      "def iterate_z(re0, im0, re, im, n):\n",
      "    for i in range(n):\n",
      "        # Z = Z**2 + Z0\n",
      "        temp = re*re - im*im + re0\n",
      "        im = 2*re*im + im0\n",
      "        re = temp\n",
      "        if hypot(re, im) > r_max:\n",
      "            return i\n",
      "    return n\n",
      "    \n",
      "def grey_value(re, im):\n",
      "    return int(scale * iterate_z(re, im, 0, 0, n))\n",
      " \n",
      "def pixel(i, j):\n",
      "    return grey_value((x_offset + pixel_size * i), (y_offset + pixel_size * j))\n",
      "  \n",
      "def generate_pgm():\n",
      "    write(\"P2\\n\")\n",
      "    write(\"%s\\n\" % i_max)\n",
      "    write(\"%s\\n\" % j_max)\n",
      "    write(\"%s\\n\" % colour_max)\n",
      "    for j in range(j_max):\n",
      "        for i in range(i_max):\n",
      "            write(\"%s\\n\" % pixel(i,j))\n",
      "            \n",
      "# Setup code and boilerplate stuff\n",
      "# ...."
     ],
     "language": "python",
     "metadata": {
      "slideshow": {
       "slide_type": "-"
      }
     },
     "outputs": []
    },
    {
     "cell_type": "markdown",
     "metadata": {
      "slideshow": {
       "slide_type": "subslide"
      }
     },
     "source": [
      "## Timing\n",
      "\n",
      "- Python 2.7.7: *15.4 seconds*\n",
      "- PyPy 2.3.1 (Python 2.7.6) : *3.0 seconds*\n",
      "\n",
      "![](mandelbrot.png)\n",
      "\n"
     ]
    },
    {
     "cell_type": "markdown",
     "metadata": {
      "slideshow": {
       "slide_type": "slide"
      }
     },
     "source": [
      "#5x Faster\n",
      "\n",
      "- In line with benchmarks."
     ]
    },
    {
     "cell_type": "markdown",
     "metadata": {
      "slideshow": {
       "slide_type": "fragment"
      }
     },
     "source": [
      "**How is this possible?**\n"
     ]
    },
    {
     "cell_type": "markdown",
     "metadata": {
      "slideshow": {
       "slide_type": "fragment"
      }
     },
     "source": [
      "*PyPy (Python) \u27a1 [Magic Translator] \u27a1 PyPy (native code with JIT added automagically)*\n",
      "\n",
      "- If it's possible to translate Python to fast native code, why not always do it?"
     ]
    },
    {
     "cell_type": "markdown",
     "metadata": {
      "slideshow": {
       "slide_type": "fragment"
      }
     },
     "source": [
      "- PyPy is really written in RPython\n",
      "    * RPython is a subset of Python\n",
      "    * Hints are added to help the the translator\n",
      "        \n",
      "**PyPy (RPython with hints) \u27a1 [RPython Toolchain] \u27a1 PyPy (native code with JIT)**\n"
     ]
    },
    {
     "cell_type": "markdown",
     "metadata": {
      "slideshow": {
       "slide_type": "slide"
      }
     },
     "source": [
      "# RPython\n",
      "\n",
      "- Whole programs; not modules"
     ]
    },
    {
     "cell_type": "markdown",
     "metadata": {},
     "source": [
      "- Not fully documented\n",
      "    - The exact definition is \u201cRPython is everything that our translation toolchain can accept\u201d"
     ]
    },
    {
     "cell_type": "markdown",
     "metadata": {},
     "source": [
      "- Many of the dynamic features of Python unavailable **after module execution**"
     ]
    },
    {
     "cell_type": "code",
     "collapsed": false,
     "input": [
      "def works():\n",
      "    a = \"five\"\n",
      "    b = \"ten\"\n",
      "    c1 = a + b\n",
      "    a = 5\n",
      "    b = 10\n",
      "    c2 = a + b\n",
      "    return c1, c2\n",
      "\n",
      "def fails(a, b):\n",
      "    return a + b\n",
      "\n",
      "works()\n",
      "fails(\"five\", \"ten\")\n",
      "fails(5, 10)\n",
      "    "
     ],
     "language": "python",
     "metadata": {
      "slideshow": {
       "slide_type": "subslide"
      }
     },
     "outputs": []
    },
    {
     "cell_type": "code",
     "collapsed": false,
     "input": [
      "<pre>\n",
      "[translation:info] Error:\n",
      "   [...about 50 lines of traceback...]\n",
      "[translation:ERROR] UnionError:\n",
      "[translation:ERROR]\n",
      "[translation:ERROR] Offending annotations:\n",
      "[translation:ERROR]   SomeString(const='five', no_nul=True)\n",
      "[translation:ERROR]   SomeInteger(const=5, knowntype=int, nonneg=True,unsigned=False)\n",
      "[translation:ERROR]\n",
      "[translation:ERROR]\n",
      "[translation:ERROR] Occurred processing the following simple_call:\n",
      "[translation:ERROR]       (KeyError getting at the binding!)\n",
      "[translation:ERROR]     v0 = simple_call((function fails), (5), (10))\n",
      "[translation:ERROR]\n",
      "[translation:ERROR] In <FunctionGraph of (mandelbrot:91)main at 0x108091088>:\n",
      "[translation:ERROR] Happened at file mandelbrot.py line 96\n",
      "[translation:ERROR]\n",
      "[translation:ERROR]         c1, c2 = works()\n",
      "[translation:ERROR]         write(c1)\n",
      "[translation:ERROR]         write(str(c2))\n",
      "[translation:ERROR]         c1 = fails(\"five\", \"ten\")\n",
      "[translation:ERROR] ==>     c2 = fails(5, 10)\n",
      "[translation:ERROR]         write(c1)\n",
      "[translation:ERROR]         write(str(c2))\n",
      "[translation:ERROR]         generate_pgm()\n",
      "[translation:ERROR]\n",
      "[translation:ERROR] Known variable annotations:\n",
      "[translation:ERROR]\n",
      "[translation:ERROR] Processing block:\n",
      "[translation:ERROR]  block@6 is a <class 'rpython.flowspace.flowcontext.EggBlock'>\n",
      "[translation:ERROR]  in (mandelbrot:91)main\n",
      "[translation:ERROR]  containing the following operations:\n",
      "[translation:ERROR]        v2 = getitem(v1, (0))\n",
      "[translation:ERROR]        v3 = getitem(v1, (1))\n",
      "[translation:ERROR]        v4 = simple_call((function write), v2)\n",
      "[translation:ERROR]        v5 = str(v3)\n",
      "[translation:ERROR]        v6 = simple_call((function write), v5)\n",
      "[translation:ERROR]        v7 = simple_call((function fails), ('five'), ('ten'))\n",
      "[translation:ERROR]        v0 = simple_call((function fails), (5), (10))\n",
      "[translation:ERROR]        v8 = simple_call((function write), v7)\n",
      "[translation:ERROR]        v9 = str(v0)\n",
      "[translation:ERROR]        v10 = simple_call((function write), v9)\n",
      "[translation:ERROR]        v11 = simple_call((function generate_pgm))\n",
      "[translation:ERROR]  --end--\n",
      "</pre>"
     ],
     "language": "python",
     "metadata": {},
     "outputs": []
    },
    {
     "cell_type": "markdown",
     "metadata": {
      "slideshow": {
       "slide_type": "slide"
      }
     },
     "source": [
      "# Interpreter Example\n",
      "\n",
      "- First attempt was a basic lisp-like interpreter based on Peter Norvig's lis.py\n",
      "    * Only partially successful\n"
     ]
    },
    {
     "cell_type": "markdown",
     "metadata": {
      "slideshow": {
       "slide_type": "fragment"
      }
     },
     "source": [
      "- Second attempt operated on an assembly-like language.\n",
      "    * Uglier \n",
      "    * More successful as an experiment"
     ]
    },
    {
     "cell_type": "markdown",
     "metadata": {
      "slideshow": {
       "slide_type": "subslide"
      }
     },
     "source": [
      "# (Ugly) Interpreter Example\n",
      "\n",
      "- Portion of assembly language program for generating the Madelbrot set\n",
      "- Equivalent to earlier iterate_z function\n",
      "\n",
      "        label iterate_z\n",
      "        #     for k in range(n):\n",
      "        set k 0\n",
      "        set re 0.0\n",
      "        set im 0.0\n",
      "        label k_loop\n",
      "        #         temp = re*re - im*im + re0\n",
      "        exec temp mul re re\n",
      "        exec temp1 mul im im\n",
      "        exec temp  sub temp temp1\n",
      "        exec temp  add temp re0\n",
      "        #         im = 2*re*im + im0\n",
      "        exec   im   mul 2.0 im\n",
      "        exec   im   mul im re\n",
      "        exec   im   add im im0\n",
      "        #         re = temp\n",
      "        set re  temp\n",
      "        #         if hypot(re, im) > r_max:\n",
      "        exec  mag  hypot re im\n",
      "        exec      flag gt   mag  r_max\n",
      "        branchif  flag  return_from_iterate\n",
      "        # end of loop\n",
      "        exec   k add k 1\n",
      "        exec      flag   lt k n\n",
      "        branchif  flag    k_loop\n",
      "        #             return n\n",
      "        set k n\n",
      "        jump return_from_iterate"
     ]
    },
    {
     "cell_type": "markdown",
     "metadata": {
      "slideshow": {
       "slide_type": "subslide"
      }
     },
     "source": [
      "## Main Loop\n"
     ]
    },
    {
     "cell_type": "code",
     "collapsed": false,
     "input": [
      "def execute(program):\n",
      "    code, mem = compile(program)\n",
      "    pc = 0\n",
      "    try:\n",
      "        while pc < len(program):\n",
      "            jitdriver.jit_merge_point(pc=pc, mem=mem, code=code, program=program)\n",
      "            op = opcode(code, pc)\n",
      "            if op == C_SET:\n",
      "                a = opcode(code, pc+1)\n",
      "                b = opcode(code, pc+2)\n",
      "                mem[a] = mem[b]\n",
      "                pc += 3\n",
      "            elif op == C_EXEC_1:\n",
      "                symbol = opcode(code, pc+1)\n",
      "                op = opcode(code, pc+2)\n",
      "                a = mem[opcode(code, pc+3)]\n",
      "                try:\n",
      "                    mem[symbol] = monops[op](a)\n",
      "                except KeyError:\n",
      "                    raise ValueError(\"illegal unary op: %s\" % op)\n",
      "                pc += 4\n",
      "            elif op == C_EXEC_2:\n",
      "                symbol = opcode(code, pc+1)\n",
      "                op = opcode(code, pc+2)\n",
      "                a = mem[opcode(code, pc+3)]\n",
      "                b = mem[opcode(code, pc+4)]\n",
      "                try:\n",
      "                    mem[symbol] = binops[op](a, b)\n",
      "                except KeyError:\n",
      "                    raise ValueError(\"illegal binary op: %s\" % op)\n",
      "                pc += 5\n",
      "            elif op == C_BRANCHIF:\n",
      "                x = opcode(code, pc+1)\n",
      "                loc = opcode(code, pc+2)\n",
      "                if int_value(mem[x]): \n",
      "                    pc = loc\n",
      "                else:\n",
      "                    pc += 3\n",
      "            elif op == C_JUMP:\n",
      "                loc = opcode(code, pc+1)\n",
      "                pc = loc\n",
      "            elif op == C_DISPLAY:\n",
      "                arg = opcode(code, pc+1)\n",
      "                os.write(stdout_fd, '%s\\n' % mem[arg].as_text())\n",
      "                pc += 2\n",
      "            elif op == C_END:    \n",
      "                pc = len(code)\n",
      "            else:\n",
      "                raise ValueError(\"unknown command\")\n",
      "   \n",
      "        return 0\n",
      "    except:\n",
      "        os.write(stderr_fd, \"ERROR at PC: %s\\n\" % pc)\n",
      "        return 1"
     ],
     "language": "python",
     "metadata": {},
     "outputs": []
    },
    {
     "cell_type": "markdown",
     "metadata": {
      "slideshow": {
       "slide_type": "subslide"
      }
     },
     "source": [
      "## How Does This Perform With Python?\n",
      "\n",
      "`$ time python machine.py mandelbrot.mach > img.pgm`\n",
      "        "
     ]
    },
    {
     "cell_type": "markdown",
     "metadata": {
      "slideshow": {
       "slide_type": "fragment"
      }
     },
     "source": [
      "\n",
      "*jeopardy theme*\n"
     ]
    },
    {
     "cell_type": "markdown",
     "metadata": {
      "slideshow": {
       "slide_type": "fragment"
      }
     },
     "source": [
      "\n",
      "`real\t91m46.877s`    \n",
      "`user\t26m4.570s`    \n",
      "`sys\t0m3.152s`    \n",
      " \n",
      "**Over 350 times worse than our original Python program!**\n",
      " "
     ]
    },
    {
     "cell_type": "markdown",
     "metadata": {
      "slideshow": {
       "slide_type": "subslide"
      }
     },
     "source": [
      "## How Does This Perform With PyPy?\n",
      "\n",
      "`$ time pypy machine.py mandelbrot.mach > img.pgm`\n",
      "\n",
      "`real\t2m33.314s`     \n",
      "`user\t2m29.942s`     \n",
      "`sys\t0m2.939s`     \n",
      "\n",
      "*Now only 10 times worse than our original program*"
     ]
    },
    {
     "cell_type": "markdown",
     "metadata": {
      "slideshow": {
       "slide_type": "slide"
      }
     },
     "source": [
      "# Translating using RPython\n",
      "\n",
      "`$ pypy rpython machine.py`\n",
      "\n",
      "Forty seconds and many messages to stdout later we have an executable `machine-c`.\n",
      "\n",
      "\n",
      "`$ time ./machine-c mandelbrot.mach > img.pgm` \n",
      "\n",
      "`real\t0m6.137s`    \n",
      "`user\t0m4.528s`    \n",
      "`sys\t0m1.605s`    \n",
      "\n",
      "\n",
      "**Suddenly our simple interpreter is running faster than CPython!**\n",
      "\n",
      "\n"
     ]
    },
    {
     "cell_type": "markdown",
     "metadata": {
      "slideshow": {
       "slide_type": "slide"
      }
     },
     "source": [
      "## Adding a JIT\n",
      "\n",
      "This involves about 5 lines of hints and boilerplate and passing the `--opt==jit` option to RPython. \n"
     ]
    },
    {
     "cell_type": "code",
     "collapsed": false,
     "input": [
      "jitdriver = JitDriver(greens=['pc', 'code', 'program'], reds=['mem'])\n",
      "\n",
      "def jitpolicy(driver):\n",
      "    from rpython.jit.codewriter.policy import JitPolicy\n",
      "    return JitPolicy()\n",
      "\n",
      "# And, at the top of the event loop (we've seen this before)\n",
      "            jitdriver.jit_merge_point(pc=pc, mem=mem, code=code, program=program)"
     ],
     "language": "python",
     "metadata": {},
     "outputs": []
    },
    {
     "cell_type": "markdown",
     "metadata": {
      "slideshow": {
       "slide_type": "-"
      }
     },
     "source": [
      "`$ pypy rpython --opt=jit machine.py`\n",
      "\n",
      "Four minutes and many, many messages later we have a new `machine-c` executable.\n"
     ]
    },
    {
     "cell_type": "markdown",
     "metadata": {
      "slideshow": {
       "slide_type": "subslide"
      }
     },
     "source": [
      "## JIT Improvement\n",
      "\n",
      "`$ time ./machine-c mandelbrot.mach > img.pgm` \n",
      "\n",
      "`real\t0m3.155s`    \n",
      "`user\t0m1.561s`    \n",
      "`sys\t0m1.589s`    \n",
      "\n",
      "- Another factor of two improvement:\n",
      "- almost as fast as `mandelbrot.py` running on PyPy\n",
      "- 5\u00d7 faster than `mandelbrot.py` running on CPython\n",
      "- 160\u00d7 faster than `mandelbrot.mach` running on `machine.py` running on PyPy\n",
      "- 1700\u00d7 faster than `mandelbrot.mach` on `machine.py` running on CPython"
     ]
    },
    {
     "cell_type": "markdown",
     "metadata": {
      "slideshow": {
       "slide_type": "subslide"
      }
     },
     "source": [
      "# Speed Summary\n",
      "## "
     ]
    },
    {
     "cell_type": "raw",
     "metadata": {},
     "source": [
      "\n",
      "\n",
      "     \n",
      "\n",
      "<table>\n",
      "    <tr>\n",
      "        <th></th>  <th>mandelbrot.py</th> <th>machine.py</th> <th>skeem.py</th> \n",
      "    </tr>\n",
      "     <tr>\n",
      "         <th>Python 2.7</th>  <td>15.4</td>  <td>5506</td>  <td>45095</td>\n",
      "    </tr>\n",
      "     <tr>\n",
      "     <th>PyPy</th>        <td>3.0</td>   <td>153</td>  <td>532</td>\n",
      "    </tr>\n",
      "     <tr>\n",
      "     <th>RPython</th>    <td>2.3</td>   <td>6.1</td>  <td>98</td>\n",
      "    </tr>\n",
      "      <tr>\n",
      "     <th>RPython JIT</th> <td>\u2013</td>     <td>3.2</td>  <td>504</td>\n",
      "    </tr>\n",
      "</table>\n"
     ]
    },
    {
     "cell_type": "markdown",
     "metadata": {
      "slideshow": {
       "slide_type": "slide"
      }
     },
     "source": [
      "# Conclusion\n",
      "\n",
      "- PyPy\n",
      "    - Fast\n",
      "    - Missing some modules"
     ]
    },
    {
     "cell_type": "markdown",
     "metadata": {
      "slideshow": {
       "slide_type": "fragment"
      }
     },
     "source": [
      "- RPython\n",
      "    - Harder than writing a interpreter in Python.\n",
      "    - **Much** easier than writing a fast interpreter in Python (or any other language that I know of).\n",
      "    - Might also be useful for writing some standalone applications."
     ]
    },
    {
     "cell_type": "markdown",
     "metadata": {
      "slideshow": {
       "slide_type": "slide"
      }
     },
     "source": [
      "#Thanks#\n",
      "\n",
      "###Tim Hochberg###\n",
      "\n",
      "###tim@bitsofbits.com###\n",
      "\n"
     ]
    },
    {
     "cell_type": "markdown",
     "metadata": {
      "slideshow": {
       "slide_type": "slide"
      }
     },
     "source": [
      "# Links\n",
      "\n",
      "- <http://pypy.org/> \u2013 main pypy site.\n",
      "- <http://speed.pypy.org/> \u2013 pypy benchmarks.\n",
      "- <http://rpython.readthedocs.org/> \u2013 \n",
      "- <http://morepypy.blogspot.com/2011/04/tutorial-writing-interpreter-with-pypy.html> \u2013 writing a BF interpreter with PyPy\n",
      "- <http://bitly.com/bundles/cfbolz/1/> \u2013 series of posts on pypy based interpreters\n",
      "- <https://bitbucket.org/pypy/compatibility/wiki/Home> \u2013 Wiki of known compatible and incompatible extension modules\n",
      "- <http://www.bitsofbits.com/2014/09/28/numpy-on-pypy-with-a-side-of-psymeric/> \u2013 Some of experiments by me with NumPy on PyPy\n",
      "- <http://www.bitsofbits.com/2014/10/22/a-partially-successful-adventure-in-rpython/> \u2013 A bit about skeem.py\n",
      "- <https://github.com/bitsofbits/rpython-experiments> \u2013 Code for this talk\n"
     ]
    }
   ],
   "metadata": {}
  }
 ]
}
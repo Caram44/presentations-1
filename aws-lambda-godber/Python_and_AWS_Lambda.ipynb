{
 "cells": [
  {
   "cell_type": "markdown",
   "metadata": {
    "collapsed": true,
    "slideshow": {
     "slide_type": "slide"
    }
   },
   "source": [
    "# Using Python in Amazon's AWS Lambda Service\n",
    "\n",
    "Austin Godber  \n",
    "@godber\n",
    "\n",
    "<img style=\"float: right\" src=\"lambda.png\">\n",
    "www\n",
    "DesertPy - 5/25/2016"
   ]
  },
  {
   "cell_type": "markdown",
   "metadata": {
    "slideshow": {
     "slide_type": "subslide"
    }
   },
   "source": [
    "# What is AWS Lambda?\n",
    "\n",
    "\"AWS Lambda lets you run code without provisioning or managing servers. You pay only for the compute time you consume - there is no charge when your code is not running.\"\n",
    "\n",
    "\"You can set up your code to automatically trigger from other AWS services or call it directly from any web or mobile app.\"\n",
    "\n",
    "https://aws.amazon.com/lambda/"
   ]
  },
  {
   "cell_type": "markdown",
   "metadata": {
    "slideshow": {
     "slide_type": "subslide"
    }
   },
   "source": [
    "# Features\n",
    "\n",
    "* Extend other AWS services with custom logic\n",
    "* Build custom back-end services\n",
    "* Completely Automated Administration\n",
    "* Built-in Fault Tolerance\n",
    "* Automatic Scaling\n",
    "* Integrated Security Model\n",
    "* Bring Your Own Code\n",
    "* Pay Per Use"
   ]
  },
  {
   "cell_type": "markdown",
   "metadata": {
    "slideshow": {
     "slide_type": "subslide"
    }
   },
   "source": [
    "# How it works\n",
    "\n",
    "<img src=\"Lambda_HowItWorks.png\">"
   ]
  },
  {
   "cell_type": "markdown",
   "metadata": {
    "slideshow": {
     "slide_type": "slide"
    }
   },
   "source": [
    "# Use Cases"
   ]
  },
  {
   "cell_type": "markdown",
   "metadata": {
    "slideshow": {
     "slide_type": "subslide"
    }
   },
   "source": [
    "# Real Time File Processing\n",
    "\n",
    "<img src=\"Lambda_FileProcessing.png\">"
   ]
  },
  {
   "cell_type": "markdown",
   "metadata": {
    "slideshow": {
     "slide_type": "subslide"
    }
   },
   "source": [
    "# Real Time Stream Processing\n",
    "\n",
    "<img src=\"Lambda_StreamProcessing.png\">"
   ]
  },
  {
   "cell_type": "markdown",
   "metadata": {
    "slideshow": {
     "slide_type": "subslide"
    }
   },
   "source": [
    "# Extract, Transform, Load\n",
    "\n",
    "<img src=\"Lambda_ETL.png\">"
   ]
  },
  {
   "cell_type": "markdown",
   "metadata": {
    "slideshow": {
     "slide_type": "subslide"
    }
   },
   "source": [
    "# Backend - IOT\n",
    "\n",
    "<img src=\"Lambda_IoT.png\">"
   ]
  },
  {
   "cell_type": "markdown",
   "metadata": {
    "slideshow": {
     "slide_type": "subslide"
    }
   },
   "source": [
    "# Backend - Mobile\n",
    "\n",
    "<img src=\"Lambda_MobileBackends.png\">"
   ]
  },
  {
   "cell_type": "markdown",
   "metadata": {
    "slideshow": {
     "slide_type": "subslide"
    }
   },
   "source": [
    "# Backend - Web\n",
    "\n",
    "<img src=\"Lambda_WebApplications.png\">"
   ]
  },
  {
   "cell_type": "markdown",
   "metadata": {
    "slideshow": {
     "slide_type": "slide"
    }
   },
   "source": [
    "# Let's consider a file processing example\n",
    "\n",
    "<img src=\"Lambda_FileProcessing.png\">"
   ]
  },
  {
   "cell_type": "markdown",
   "metadata": {
    "slideshow": {
     "slide_type": "subslide"
    }
   },
   "source": [
    "A canonical example is described in the following **S3 Walkthrough**:\n",
    "\n",
    "http://docs.aws.amazon.com/lambda/latest/dg/with-s3.html\n",
    "\n",
    "**IMPORTANT!! Much AWS Setup hidden here!!**"
   ]
  },
  {
   "cell_type": "markdown",
   "metadata": {
    "slideshow": {
     "slide_type": "subslide"
    }
   },
   "source": [
    "# But let's mix it up a little bit.\n",
    "\n",
    "\n",
    "### Let's do something that requires external dependencies.\n",
    "\n",
    "We will follow the example of generating a GeoJSON outline:\n",
    "\n",
    "http://www.perrygeo.com/running-python-with-compiled-code-on-aws-lambda.html"
   ]
  },
  {
   "cell_type": "markdown",
   "metadata": {
    "slideshow": {
     "slide_type": "subslide"
    }
   },
   "source": [
    "That is, taking a GeoTIFF Digital Elevation Model like this\n",
    "\n",
    "<img src=\"srtm_21_09.png\" height=\"400px\" width=\"400px\">"
   ]
  },
  {
   "cell_type": "markdown",
   "metadata": {
    "slideshow": {
     "slide_type": "subslide"
    }
   },
   "source": [
    "And generating a GeoJSON outline of the aread that looks like this\n",
    "\n",
    "<img src=\"srtm_21_09_geojson.png\" height=\"400px\" width=\"400px\">"
   ]
  },
  {
   "cell_type": "markdown",
   "metadata": {
    "slideshow": {
     "slide_type": "subslide"
    }
   },
   "source": [
    "# Process Overview\n",
    "\n",
    "1. Sign Up For AWS Account\n",
    "1. Setup user, buckets, events and Lambda function as shown in **S3 walkthrough**\n",
    "1. **Launch EC2 instance** using Amazon Linux AMI\n",
    "1. SSH to EC2 instance, **build shared libries** from source.\n",
    "1. **Create a virtualenv** with all your python dependecies."
   ]
  },
  {
   "cell_type": "markdown",
   "metadata": {
    "slideshow": {
     "slide_type": "subslide"
    }
   },
   "source": [
    "# Process Overview (cont.)\n",
    "\n",
    "6. Write top level python **handler** function to respond to events and interact with other parts of AWS\n",
    "7. Write python **worker**, as a stand alone command line interface, to process the data\n",
    "8. **Create a zipfile** containing your code, virtualenv and the binary libs\n",
    "9. **Publish the zip file to AWS Lambda**"
   ]
  },
  {
   "cell_type": "markdown",
   "metadata": {
    "slideshow": {
     "slide_type": "subslide"
    }
   },
   "source": [
    "# Bonus Tips\n",
    "\n",
    "* Make sure you zip **all** of your compiled dependencies\n",
    "* Write a debug handler to run on EC2 to test your worker\n",
    "* Become familiar with the CloudWatch Log Viewer\n",
    "* Use the test setup from the **S3 Walkthrough**\n",
    "* Write a `Makefile` to speed up iterations"
   ]
  },
  {
   "cell_type": "markdown",
   "metadata": {
    "slideshow": {
     "slide_type": "slide"
    }
   },
   "source": [
    "# The Handler\n",
    "\n",
    "* Receives and parses event (see the test procedure in the **S3 Walkthrough**)\n",
    "* Grabs file from S3\n",
    "* Calls worker on local tempfile\n",
    "* Uploads result to S3"
   ]
  },
  {
   "cell_type": "code",
   "execution_count": 17,
   "metadata": {
    "collapsed": false
   },
   "outputs": [],
   "source": [
    "%pycat code/handler.py"
   ]
  },
  {
   "cell_type": "markdown",
   "metadata": {
    "slideshow": {
     "slide_type": "slide"
    }
   },
   "source": [
    "# The Worker\n",
    "\n",
    "* Should run standalone on EC2 instance\n",
    "* Could be ANYTHING that runs on Linux: Py3, C, Fortran\n",
    "* Does the STUFF\n",
    "* Prints path to output file to STDOUT, read by handler."
   ]
  },
  {
   "cell_type": "code",
   "execution_count": 18,
   "metadata": {
    "collapsed": true
   },
   "outputs": [],
   "source": [
    "%pycat code/worker.py"
   ]
  },
  {
   "cell_type": "markdown",
   "metadata": {
    "slideshow": {
     "slide_type": "slide"
    }
   },
   "source": [
    "# The Makefile"
   ]
  },
  {
   "cell_type": "code",
   "execution_count": 19,
   "metadata": {
    "collapsed": true
   },
   "outputs": [],
   "source": [
    "%pycat code/Makefile"
   ]
  },
  {
   "cell_type": "markdown",
   "metadata": {
    "slideshow": {
     "slide_type": "slide"
    }
   },
   "source": [
    "# Check Out S3 Buckets\n",
    "\n",
    "https://console.aws.amazon.com/s3/home?region=us-west-2\n",
    "\n",
    "* asg-python-lambda-source\n",
    "* asg-python-lambda-source-geojson\n",
    "\n",
    "Make sure your buckets and Lambda functions are all in the same AWS Region.  Note **Event Notifications** config."
   ]
  },
  {
   "cell_type": "markdown",
   "metadata": {
    "slideshow": {
     "slide_type": "subslide"
    }
   },
   "source": [
    "# Check Out Lambda Config\n",
    "\n",
    "https://us-west-2.console.aws.amazon.com/lambda/home?region=us-west-2#/functions/handler"
   ]
  },
  {
   "cell_type": "markdown",
   "metadata": {
    "slideshow": {
     "slide_type": "subslide"
    }
   },
   "source": [
    "# Check out Cloud Watch Log Viewer\n",
    "\n",
    "https://us-west-2.console.aws.amazon.com/cloudwatch/home?region=us-west-2"
   ]
  },
  {
   "cell_type": "markdown",
   "metadata": {
    "slideshow": {
     "slide_type": "slide"
    }
   },
   "source": [
    "# Other File Processing Ideas\n",
    "\n",
    "* PDF Text/Image Extraction\n",
    "* Raw Text Data Cleanup/Munging\n",
    "* File encoding/conversions (WAV to mp3)\n",
    "* Image calibration pipelines\n",
    "\n",
    "Imagine long pipelines you drop raw data in and gradually build on over time."
   ]
  }
 ],
 "metadata": {
  "celltoolbar": "Slideshow",
  "kernelspec": {
   "display_name": "Python 3",
   "language": "python",
   "name": "python3"
  },
  "language_info": {
   "codemirror_mode": {
    "name": "ipython",
    "version": 3
   },
   "file_extension": ".py",
   "mimetype": "text/x-python",
   "name": "python",
   "nbconvert_exporter": "python",
   "pygments_lexer": "ipython3",
   "version": "3.5.1"
  }
 },
 "nbformat": 4,
 "nbformat_minor": 0
}

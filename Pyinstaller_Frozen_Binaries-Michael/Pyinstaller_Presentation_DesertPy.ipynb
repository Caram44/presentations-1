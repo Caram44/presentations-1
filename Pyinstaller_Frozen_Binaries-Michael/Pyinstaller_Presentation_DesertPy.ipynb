{
 "cells": [
  {
   "cell_type": "markdown",
   "metadata": {
    "slideshow": {
     "slide_type": "slide"
    }
   },
   "source": [
    "# PyInstaller\n",
    "### Create frozen stand alone executables under Windows, Linux, or OSX\n",
    "@ftlphys\n",
    "Michael Gilbert"
   ]
  },
  {
   "cell_type": "markdown",
   "metadata": {
    "slideshow": {
     "slide_type": "subslide"
    }
   },
   "source": [
    "### What is Pyinstaller and what does it seek to accomplish?"
   ]
  },
  {
   "cell_type": "markdown",
   "metadata": {
    "slideshow": {
     "slide_type": "fragment"
    }
   },
   "source": [
    "*PyInstaller is a program that freezes (packages) Python programs into stand-alone executables, under Windows, Linux, Mac OS X, FreeBSD, Solaris and AIX. Its main advantages over similar tools are that PyInstaller works with Python 2.7 and 3.3—3.5, it builds smaller executables thanks to transparent compression, it is fully multi-platform, and use the OS support to load the dynamic libraries, thus ensuring full compatibility.*  \n",
    "\n",
    "*The main goal of PyInstaller is to be compatible with 3rd-party packages out-of-the-box.* - [Pyinstaller](http://www.pyinstaller.org/)"
   ]
  },
  {
   "cell_type": "markdown",
   "metadata": {
    "slideshow": {
     "slide_type": "subslide"
    }
   },
   "source": [
    "### So does it accomplish this?"
   ]
  },
  {
   "cell_type": "markdown",
   "metadata": {
    "slideshow": {
     "slide_type": "fragment"
    }
   },
   "source": [
    "Mostly!  But it is under very heavy and renewed development! [Github Pyinstaller Repository](https://github.com/pyinstaller/pyinstaller)"
   ]
  },
  {
   "cell_type": "markdown",
   "metadata": {
    "slideshow": {
     "slide_type": "slide"
    }
   },
   "source": [
    "### How it works..."
   ]
  },
  {
   "cell_type": "markdown",
   "metadata": {
    "slideshow": {
     "slide_type": "fragment"
    }
   },
   "source": [
    "* pip install pyinstaller\n",
    "* pyinstaller main.py (from the commandline)"
   ]
  },
  {
   "cell_type": "markdown",
   "metadata": {
    "slideshow": {
     "slide_type": "fragment"
    }
   },
   "source": [
    "* pyi-makespec : makes a spec file\n",
    "    - specify data files, .dll, or .so files for bundling\n",
    "    - specify run time options\n",
    "* pyi-bindepend : inspect executable files to determine dependencies"
   ]
  },
  {
   "cell_type": "markdown",
   "metadata": {
    "slideshow": {
     "slide_type": "subslide"
    }
   },
   "source": [
    "### Third party library compatability  \n",
    "#### [List of supported packages](https://github.com/pyinstaller/pyinstaller/wiki/Supported-Packages)\n",
    "#### [Note about multiprocessing...](https://github.com/pyinstaller/pyinstaller/wiki/Recipe-Multiprocessing)"
   ]
  },
  {
   "cell_type": "markdown",
   "metadata": {
    "slideshow": {
     "slide_type": "fragment"
    }
   },
   "source": [
    "#### Pyinstaller hooks\n",
    "* Allows for hidden imports to be added to the binary\n",
    "    - This helps with peculiar dynamic imports, like assigned sys.modules\n",
    "* Allows for the inclusion of required binaries\n",
    "* Added via short python scripts\n",
    "    "
   ]
  },
  {
   "cell_type": "markdown",
   "metadata": {
    "slideshow": {
     "slide_type": "subslide"
    }
   },
   "source": [
    "### Just a few options..."
   ]
  },
  {
   "cell_type": "markdown",
   "metadata": {
    "collapsed": true,
    "slideshow": {
     "slide_type": "fragment"
    }
   },
   "source": [
    "* Windowed (no console) –w : This will compile you program to launch without a command prompt window opening\n",
    "* Single File –F : This will compile your executable into a single file; whereas, the default is to compile into a single directory.\n",
    "* UPX option : Allows for extra compression of the executable This is provided by a separate library that you can obtain online, http://upx.sourceforge.net/ .\n",
    "* Clean option --clean : This will clean up some build specific files\n",
    "* Debug option --debug : This will output extra information to the command prompt about the run process when the executable is launched, good for debugging runtime issues."
   ]
  },
  {
   "cell_type": "markdown",
   "metadata": {
    "slideshow": {
     "slide_type": "slide"
    }
   },
   "source": [
    "### Want a GUI interface?"
   ]
  },
  {
   "cell_type": "code",
   "execution_count": 2,
   "metadata": {
    "collapsed": false,
    "slideshow": {
     "slide_type": "subslide"
    }
   },
   "outputs": [
    {
     "data": {
      "text/plain": [
       "True"
      ]
     },
     "execution_count": 2,
     "metadata": {},
     "output_type": "execute_result"
    }
   ],
   "source": [
    "import wx\n",
    "%gui wx\n",
    "from subprocess import Popen\n",
    "import os\n",
    "import threading\n",
    "\n",
    "myEVT_COMP = wx.NewEventType()\n",
    "EVT_COMP = wx.PyEventBinder(myEVT_COMP, 1)\n",
    "\n",
    "\n",
    "class MyFrame(wx.Frame):\n",
    "    def __init__(self, *args, **kwds):\n",
    "        wx.Frame.__init__(self, *args, **kwds)\n",
    "        self.panel_1 = wx.Panel(self, -1)\n",
    "        self.label_1 = wx.StaticText(self.panel_1, -1,\n",
    "                                     \"Select Main Project File: \")\n",
    "        self.text_ctrl_1 = wx.TextCtrl(self.panel_1, -1, \"\")\n",
    "        self.button_2 = wx.Button(self.panel_1, -1, \"Browse\")\n",
    "        self.button_1 = wx.Button(self.panel_1, -1, \"Compile\")\n",
    "\n",
    "        optionslist = ['Use Anaconda', 'Windowed (no console) -w', 'Single File -F',\n",
    "                       'UPX option', 'Clean option', 'Debug option']\n",
    "        lb = wx.CheckListBox(self.panel_1, -1, (80, 50), wx.DefaultSize,\n",
    "                             optionslist)\n",
    "        self.Bind(wx.EVT_CHECKLISTBOX, self.EvtCheckListoptions, lb)\n",
    "        lb.SetSelection(0)\n",
    "        self.lb = lb\n",
    "        self.checked = []\n",
    "\n",
    "        self.exec_dir = os.getcwd()\n",
    "\n",
    "        self.Bind(wx.EVT_BUTTON, self.compileit, self.button_1)\n",
    "        self.Bind(wx.EVT_BUTTON, self.browseit, self.button_2)\n",
    "        self.Bind(wx.EVT_TEXT, self.EvtText, self.text_ctrl_1)\n",
    "        self.Bind(EVT_COMP, self.complete_compile)\n",
    "\n",
    "        self.__set_properties()\n",
    "        self.__do_layout()\n",
    "\n",
    "    def __set_properties(self):\n",
    "        self.SetTitle(\"Python Executable Compiler\")\n",
    "        self.label_1.SetFont(wx.Font(10, wx.DEFAULT, wx.NORMAL, wx.NORMAL,\n",
    "                                     0, \"\"))\n",
    "\n",
    "    def __do_layout(self):\n",
    "        sizer_1 = wx.BoxSizer(wx.VERTICAL)\n",
    "        sizer_2 = wx.BoxSizer(wx.VERTICAL)\n",
    "        sizer_3 = wx.BoxSizer(wx.HORIZONTAL)\n",
    "        sizer_3.Add(self.label_1, 0, wx.RIGHT | wx.TOP | wx.BOTTOM |\n",
    "                    wx.LEFT | wx.ALIGN_CENTER_VERTICAL, 5)\n",
    "        sizer_3.Add(self.text_ctrl_1, 0, wx.TOP | wx.BOTTOM |\n",
    "                    wx.ALIGN_CENTER_HORIZONTAL | wx.ALIGN_CENTER_VERTICAL, 5)\n",
    "        sizer_3.Add(self.button_2, 0, wx.RIGHT | wx.LEFT | wx.TOP |\n",
    "                    wx.BOTTOM | wx.ALIGN_CENTER_VERTICAL, 5)\n",
    "        sizer_2.Add(sizer_3, 1, wx.EXPAND, 0)\n",
    "        sizer_2.Add(self.lb, 1, wx.ALIGN_CENTER_HORIZONTAL, 0)\n",
    "        sizer_2.Add(self.button_1, 0, wx.TOP | wx.BOTTOM |\n",
    "                    wx.ALIGN_CENTER_HORIZONTAL, 10)\n",
    "        self.panel_1.SetSizer(sizer_2)\n",
    "        sizer_1.Add(self.panel_1, 1, wx.EXPAND, 0)\n",
    "        self.SetSizer(sizer_1)\n",
    "        sizer_1.Fit(self)\n",
    "        self.Layout()\n",
    "\n",
    "    def EvtCheckListoptions(self, event):\n",
    "        index = event.GetSelection()\n",
    "        label = self.lb.GetString(index)\n",
    "        if self.lb.IsChecked(index):\n",
    "            self.checked.append(label)\n",
    "        elif label in self.checked:\n",
    "            self.checked.remove(label)\n",
    "        # so that (un)checking also selects (moves the highlight)\n",
    "        self.lb.SetSelection(index)\n",
    "\n",
    "    def EvtText(self, event):\n",
    "        self.project = event.GetString()\n",
    "\n",
    "    def compileit(self, evt):\n",
    "        self.button_1.Disable()\n",
    "        self.compiling = CompileThread(self, self.pyfile, self.checked)\n",
    "        self.compiling.start()\n",
    "\n",
    "    def complete_compile(self, evt):\n",
    "        self.compiling.join()\n",
    "        self.button_1.Enable()\n",
    "\n",
    "    def browseit(self, evt):\n",
    "        \"\"\"\n",
    "        Create and show the Open FileDialog\n",
    "        \"\"\"\n",
    "        dlg = wx.FileDialog(\n",
    "            self, message=\"Choose a file\",\n",
    "            defaultFile=\"\",\n",
    "            wildcard=\"Python Files (*.py)|*.py\",\n",
    "            style=wx.OPEN | wx.CHANGE_DIR\n",
    "            )\n",
    "        if dlg.ShowModal() == wx.ID_OK:\n",
    "            self.pyfile = dlg.GetPaths()[0]\n",
    "            self.text_ctrl_1.SetValue(self.pyfile)\n",
    "        dlg.Destroy()\n",
    "\n",
    "\n",
    "class GeneratedCOMP(wx.PyCommandEvent):\n",
    "\n",
    "    def __init__(self, etype, eid):\n",
    "        wx.PyCommandEvent.__init__(self, etype, eid)\n",
    "\n",
    "\n",
    "class CompileThread(threading.Thread):\n",
    "    def __init__(self, parent, pyfile, checked):\n",
    "        self._parent = parent\n",
    "        self.pyfile = pyfile\n",
    "        self.checked = checked\n",
    "        threading.Thread.__init__(self)\n",
    "\n",
    "    def run(self):\n",
    "        tempbatch = open('compile_batch.bat', 'w')\n",
    "        tempbatch.write(r'@echo off')\n",
    "        tempbatch.write('\\n')\n",
    "        tempbatch.write(r'cd '+os.path.dirname(self.pyfile))\n",
    "        tempbatch.write('\\n')\n",
    "        if 'Use Anaconda' in self.checked:\n",
    "            tempbatch.write('call ' + os.path.join(os.getenv('HOMEDRIVE'), os.getenv('HOMEPATH'),\n",
    "                            'AppData\\\\Local\\\\Continuum\\\\Anaconda\\\\Scripts\\\\anaconda.bat'))\n",
    "            tempbatch.write('\\n')\n",
    "        if 'Windowed (no console) -w' not in self.checked and 'Single File -F' not in self.checked:\n",
    "            options = '-D'\n",
    "        elif 'Windowed (no console) -w' in self.checked and 'Single File -F' in self.checked:\n",
    "            options = '-F -w'\n",
    "        elif 'Windowed (no console) -w' in self.checked and 'Single File -F' not in self.checked:\n",
    "            options = '-D -w'\n",
    "        elif 'Windowed (no console) -w' not in self.checked and 'Single File -F' in self.checked:\n",
    "            options = '-F'\n",
    "        if 'UPX option' in self.checked:\n",
    "            options += ' --upx-dir='+ os.path.join(self._parent.exec_dir, 'upx') + ' '\n",
    "        if 'Clean option' in self.checked:\n",
    "            options = '--clean ' + options\n",
    "        if 'Debug option' in self.checked:\n",
    "            options = options + ' --debug'\n",
    "        tempbatch.write(r'pyinstaller ' + options + ' ' + os.path.basename(self.pyfile))\n",
    "        tempbatch.close()\n",
    "\n",
    "        p = Popen(\"compile_batch.bat\", cwd=os.path.dirname(self.pyfile))\n",
    "        p.communicate()\n",
    "        print \"complete!\"\n",
    "        evt = GeneratedCOMP(myEVT_COMP, -1)\n",
    "        wx.PostEvent(self._parent, evt)\n",
    "\n",
    "# app = wx.App(0)\n",
    "frame_1 = MyFrame(None, -1, \"\")\n",
    "# app.SetTopWindow(frame_1)\n",
    "frame_1.Show()\n",
    "# app.MainLoop()"
   ]
  }
 ],
 "metadata": {
  "celltoolbar": "Slideshow",
  "kernelspec": {
   "display_name": "Python 2",
   "language": "python",
   "name": "python2"
  },
  "language_info": {
   "codemirror_mode": {
    "name": "ipython",
    "version": 2
   },
   "file_extension": ".py",
   "mimetype": "text/x-python",
   "name": "python",
   "nbconvert_exporter": "python",
   "pygments_lexer": "ipython2",
   "version": "2.7.10"
  }
 },
 "nbformat": 4,
 "nbformat_minor": 0
}

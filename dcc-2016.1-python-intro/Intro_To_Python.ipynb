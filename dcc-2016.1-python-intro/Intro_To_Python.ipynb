{
 "cells": [
  {
   "cell_type": "markdown",
   "metadata": {
    "slideshow": {
     "slide_type": "slide"
    }
   },
   "source": [
    "<img src=\"python-logo-generic.svg\" alt=\"Python Logo\">\n",
    "\n",
    "# Introduction to Python: The language, ecosystem and community\n",
    "\n",
    "**Austin Godber**  \n",
    "**@godber**  \n",
    "DesertPy Co-Organizer  \n",
    "Meetup, Github and http://desertpy.com\n",
    "\n",
    "\n",
    "Desert Code Camp 2016.1 - 10/08/2016"
   ]
  },
  {
   "cell_type": "markdown",
   "metadata": {
    "slideshow": {
     "slide_type": "slide"
    }
   },
   "source": [
    "# Getting Python\n",
    "\n",
    "* Windows - Anaconda/miniconda, Enthought Canopy\n",
    "* OS X - Default install, Homebrew, Anaconda\n",
    "* Linux - Default install, Anaconda"
   ]
  },
  {
   "cell_type": "markdown",
   "metadata": {
    "slideshow": {
     "slide_type": "subslide"
    }
   },
   "source": [
    "# Follow Along\n",
    "\n",
    "If you have IPython/Jupyter Notebook installed, you can grab the notebook (`Intro_To_Python.ipynb`) here:\n",
    "\n",
    "https://goo.gl/W7bwyk\n",
    "\n",
    "These examples should work in a relatively recent Anaconda installation."
   ]
  },
  {
   "cell_type": "markdown",
   "metadata": {
    "slideshow": {
     "slide_type": "slide"
    }
   },
   "source": [
    "<img src=\"python-stack.png\" width=350px style=\"float:right;\">\n",
    "\n",
    "\n",
    "# Python Language\n",
    "\n",
    "* Python\n",
    "  * https://goo.gl/jQf5BZ\n",
    "* Python Standard Library\n",
    "  * https://goo.gl/raCczu\n",
    "* 3rd Party Modules at PyPI\n",
    "  * https://pypi.python.org/pypi"
   ]
  },
  {
   "cell_type": "markdown",
   "metadata": {
    "slideshow": {
     "slide_type": "notes"
    }
   },
   "source": [
    "Technically, libraries are **modules**, a **package** contains submodules and has a `__path__` attribute."
   ]
  },
  {
   "cell_type": "markdown",
   "metadata": {
    "slideshow": {
     "slide_type": "subslide"
    }
   },
   "source": [
    "# Python\n",
    "\n",
    "* Python - https://docs.python.org/3/reference/index.html\n",
    "  * Python Interpreter: CPython, Pypy, IronPython(2.7), Jython(2.7)\n",
    "  * Core Language Syntax, built-ins\n",
    "* Python Standard Library - https://docs.python.org/3/library/index.html\n",
    "  * C or Python modules included with Python\n",
    "  * These modules need to be imported, e.g.: `import math`"
   ]
  },
  {
   "cell_type": "markdown",
   "metadata": {
    "slideshow": {
     "slide_type": "subslide"
    }
   },
   "source": [
    "# 3rd Party Libs\n",
    "* 3rd Party Modules - https://pypi.python.org/pypi\n",
    "  * Install them with `pip`\n",
    "  * These modules need to be imported\n",
    "    * e.g.: `import requests`"
   ]
  },
  {
   "cell_type": "markdown",
   "metadata": {
    "slideshow": {
     "slide_type": "subslide"
    }
   },
   "source": [
    "# Python 2 vs Python 3\n",
    "\n",
    "### Simple - Use Python 3 unless you have a convincing reason not to.\n",
    "\n",
    "* https://docs.python.org/3/\n",
    "* https://docs.python.org/2.7/\n",
    "\n",
    "I'll be talking about Python 3.5 today."
   ]
  },
  {
   "cell_type": "markdown",
   "metadata": {
    "slideshow": {
     "slide_type": "slide"
    }
   },
   "source": [
    "# Python Language Syntax"
   ]
  },
  {
   "cell_type": "markdown",
   "metadata": {
    "slideshow": {
     "slide_type": "subslide"
    }
   },
   "source": [
    "# Built-in Functions\n",
    "\n",
    "<img src=\"python-builtin-functions.png\" style=\"float:center;\">"
   ]
  },
  {
   "cell_type": "markdown",
   "metadata": {
    "slideshow": {
     "slide_type": "subslide"
    }
   },
   "source": [
    "# Built-in Constants\n",
    "\n",
    "* `False`, `True`\n",
    "* `None`\n",
    "* `NotImplemented`\n",
    "* `Elipsis` (same as `...`)\n",
    "* `__debug__`\n",
    "* `quit()`, `exit()`, `copyright`, `license`, `credits`"
   ]
  },
  {
   "cell_type": "markdown",
   "metadata": {
    "collapsed": true,
    "slideshow": {
     "slide_type": "subslide"
    }
   },
   "source": [
    "# Built-in Types\n",
    "\n",
    "* numerics - `int`, `float`, `complex`\n",
    "* sequences - `list`: `[]`, `tuple`: `()`, `range`, `str`: `''`, etc.\n",
    "* sets - `set`, `frozenset`\n",
    "* mappings - `dict`: `{}`\n",
    "* Others - iterators, generators, binary sequences, memoryviews, classes, instances, exceptions, modules"
   ]
  },
  {
   "cell_type": "markdown",
   "metadata": {
    "slideshow": {
     "slide_type": "subslide"
    }
   },
   "source": [
    "# Boolean Operations\n",
    "\n",
    "* `False` things: `False`, `None`, `0`, `0.0`, `''`, `()`, `[]`, `{}`, any object whose `__bool__` or `__len__` method returns a `False` value.\n",
    "* Everything else is true.\n",
    "\n",
    "<img src=\"boolean.png\" style=\"float:center;\">"
   ]
  },
  {
   "cell_type": "markdown",
   "metadata": {
    "slideshow": {
     "slide_type": "subslide"
    }
   },
   "source": [
    "# Comparisons\n",
    "\n",
    "<img src=\"comparisons.png\" style=\"float:center;\">"
   ]
  },
  {
   "cell_type": "markdown",
   "metadata": {
    "slideshow": {
     "slide_type": "subslide"
    }
   },
   "source": [
    "# Data and Execution Model\n",
    "\n",
    "To really understand the guts of Python, after you get the general syntax understood, read the Data Model and Execution Model docs:\n",
    "\n",
    "* https://docs.python.org/3/reference/datamodel.html\n",
    "* https://docs.python.org/3/reference/executionmodel.html"
   ]
  },
  {
   "cell_type": "markdown",
   "metadata": {
    "slideshow": {
     "slide_type": "slide"
    }
   },
   "source": [
    "# Examples\n",
    "\n",
    "Let's look at some examples:"
   ]
  },
  {
   "cell_type": "code",
   "execution_count": 1,
   "metadata": {
    "collapsed": false,
    "slideshow": {
     "slide_type": "fragment"
    }
   },
   "outputs": [
    {
     "name": "stdout",
     "output_type": "stream",
     "text": [
      "Hello, World!\n"
     ]
    }
   ],
   "source": [
    "print(\"Hello, World!\")"
   ]
  },
  {
   "cell_type": "markdown",
   "metadata": {
    "slideshow": {
     "slide_type": "subslide"
    }
   },
   "source": [
    "## A function"
   ]
  },
  {
   "cell_type": "code",
   "execution_count": 2,
   "metadata": {
    "collapsed": false,
    "slideshow": {
     "slide_type": "-"
    }
   },
   "outputs": [
    {
     "name": "stdout",
     "output_type": "stream",
     "text": [
      "Hello, World!\n"
     ]
    }
   ],
   "source": [
    "def hello1():\n",
    "    print(\"Hello, World!\")\n",
    "    \n",
    "hello1()"
   ]
  },
  {
   "cell_type": "markdown",
   "metadata": {
    "slideshow": {
     "slide_type": "subslide"
    }
   },
   "source": [
    "## A function with a keyword argument"
   ]
  },
  {
   "cell_type": "code",
   "execution_count": 3,
   "metadata": {
    "collapsed": false,
    "slideshow": {
     "slide_type": "-"
    }
   },
   "outputs": [
    {
     "name": "stdout",
     "output_type": "stream",
     "text": [
      "Hello, World!\n",
      "Hello, Skippy!\n"
     ]
    }
   ],
   "source": [
    "def hello2(name=None):\n",
    "    if not name:\n",
    "        name = \"World\"\n",
    "    print(\"Hello, %s!\" % name)\n",
    "    \n",
    "hello2()\n",
    "hello2(\"Skippy\")"
   ]
  },
  {
   "cell_type": "markdown",
   "metadata": {
    "slideshow": {
     "slide_type": "notes"
    }
   },
   "source": [
    "Sure, we could have set `name=\"World\"`, but then I wouldn't have a good example of `if not name:` and I might not remember to talk about empty sequences."
   ]
  },
  {
   "cell_type": "markdown",
   "metadata": {
    "slideshow": {
     "slide_type": "subslide"
    }
   },
   "source": [
    "# Classes\n",
    "\n",
    "Python's simplest class as an example of the dynamic nature of Python."
   ]
  },
  {
   "cell_type": "code",
   "execution_count": 4,
   "metadata": {
    "collapsed": false
   },
   "outputs": [
    {
     "name": "stdout",
     "output_type": "stream",
     "text": [
      "Lobsters! 9\n"
     ]
    }
   ],
   "source": [
    "class Classy():\n",
    "    pass\n",
    "\n",
    "c = Classy()\n",
    "c.foo = 'Lobsters!'\n",
    "c.bar = lambda x: x**2\n",
    "\n",
    "print(c.foo, c.bar(3))"
   ]
  },
  {
   "cell_type": "markdown",
   "metadata": {
    "slideshow": {
     "slide_type": "notes"
    }
   },
   "source": [
    "You don't have to do it the way shown above, typically, concrete class definitions are used."
   ]
  },
  {
   "cell_type": "code",
   "execution_count": 5,
   "metadata": {
    "collapsed": false,
    "slideshow": {
     "slide_type": "subslide"
    }
   },
   "outputs": [
    {
     "name": "stdout",
     "output_type": "stream",
     "text": [
      "Hello, Skippy!\n",
      "Hello, Skippy!\n"
     ]
    }
   ],
   "source": [
    "class Person1():\n",
    "    \"\"\"Class representing a person, for providing Greetings.\"\"\"\n",
    "    \n",
    "    def __init__(self, name):\n",
    "        self.name = name\n",
    "        \n",
    "    def greet(self):\n",
    "        print(\"Hello, %s!\" % self.name)\n",
    "\n",
    "skippy = Person1(\"Skippy\")\n",
    "skippy.greet()\n",
    "hello2(skippy.name)"
   ]
  },
  {
   "cell_type": "code",
   "execution_count": 6,
   "metadata": {
    "collapsed": false,
    "slideshow": {
     "slide_type": "subslide"
    }
   },
   "outputs": [
    {
     "name": "stdout",
     "output_type": "stream",
     "text": [
      "5.833333333333333\n",
      "Chip is 5.83 tall\n"
     ]
    }
   ],
   "source": [
    "class Person2():\n",
    "    \"\"\"Class representing a person, with greetings and height.\"\"\"\n",
    "    \n",
    "    def __init__(self, name, height):\n",
    "        self.name = name\n",
    "        self.height = height  # Height of person in inches\n",
    "\n",
    "    def greet(self):\n",
    "        print(\"Hello, %s!\" % self.name)\n",
    "    \n",
    "    @property\n",
    "    def height_ft(self):\n",
    "        return self.height / 12.0\n",
    "\n",
    "chip = Person2('Chip', 70)\n",
    "print(chip.height_ft)\n",
    "print(\"Chip is %.2f tall\" % chip.height_ft)"
   ]
  },
  {
   "cell_type": "markdown",
   "metadata": {
    "slideshow": {
     "slide_type": "subslide"
    }
   },
   "source": [
    "# Inheritance"
   ]
  },
  {
   "cell_type": "code",
   "execution_count": 7,
   "metadata": {
    "collapsed": false,
    "slideshow": {
     "slide_type": "subslide"
    }
   },
   "outputs": [],
   "source": [
    "class Ninja(Person2):\n",
    "    \"\"\"A stealthy person or 1337 hacker.\"\"\"\n",
    "    ninja_types = [\"stealth\", \"hacker\"]\n",
    "    \n",
    "    def __init__(self, name, height, ninja_type):\n",
    "        super().__init__(name, height)\n",
    "        if ninja_type in self.ninja_types:\n",
    "            self.ninja_type = ninja_type\n",
    "        else:\n",
    "            raise RuntimeError('Invalid ninja_type: %s' % ninja_type)\n",
    "    \n",
    "    def work(self):\n",
    "        if self.ninja_type == 'stealth':\n",
    "            print(\"Karate Chop!\")\n",
    "        elif self.ninja_type == 'hacker':\n",
    "            print(\"Hack hack hack.\")"
   ]
  },
  {
   "cell_type": "code",
   "execution_count": 8,
   "metadata": {
    "collapsed": false
   },
   "outputs": [
    {
     "name": "stdout",
     "output_type": "stream",
     "text": [
      "Wally is 5.17 tall.\n",
      "Hack hack hack.\n"
     ]
    }
   ],
   "source": [
    "wally = Ninja('Wally', 62, 'hacker')\n",
    "print(\"{name} is {height:.2f} tall.\".format(name=wally.name, height=wally.height_ft))\n",
    "wally.work()"
   ]
  },
  {
   "cell_type": "markdown",
   "metadata": {
    "slideshow": {
     "slide_type": "subslide"
    }
   },
   "source": [
    "# Exceptions\n",
    "\n",
    "You see that `raise` in the class definition for `Ninja`?"
   ]
  },
  {
   "cell_type": "code",
   "execution_count": 9,
   "metadata": {
    "collapsed": false
   },
   "outputs": [
    {
     "name": "stdout",
     "output_type": "stream",
     "text": [
      "No such thing as a Quilting ninja! \n",
      "Error: Invalid ninja_type: quilting\n",
      "Nice work!\n"
     ]
    }
   ],
   "source": [
    "try:\n",
    "    webster = Ninja('Webster', 71, 'quilting')\n",
    "except RuntimeError as e:\n",
    "    print('No such thing as a Quilting ninja! \\nError: %s' % e)\n",
    "finally:\n",
    "    print('Nice work!')"
   ]
  },
  {
   "cell_type": "markdown",
   "metadata": {
    "slideshow": {
     "slide_type": "notes"
    }
   },
   "source": [
    "Obviously this is an example of exception handling done poorly.  There's a lot more too it, custom exception classes, handling multiple exceptions, re-raising errors.  Doing something useful in except blocks..."
   ]
  },
  {
   "cell_type": "markdown",
   "metadata": {
    "slideshow": {
     "slide_type": "subslide"
    }
   },
   "source": [
    "## What's up with the \"\"\"?\n",
    "\n",
    "It's called a `docstring`, you can use them on modules, functions and classes.  There's a whole ecosystem of tools designed to use them for documentation and testing.  Use 'em!"
   ]
  },
  {
   "cell_type": "code",
   "execution_count": 10,
   "metadata": {
    "collapsed": false,
    "slideshow": {
     "slide_type": "-"
    }
   },
   "outputs": [
    {
     "data": {
      "text/plain": [
       "'A stealthy person or 1337 hacker.'"
      ]
     },
     "execution_count": 10,
     "metadata": {},
     "output_type": "execute_result"
    }
   ],
   "source": [
    "Ninja.__doc__"
   ]
  },
  {
   "cell_type": "markdown",
   "metadata": {
    "slideshow": {
     "slide_type": "subslide"
    }
   },
   "source": [
    "## More OOP?\n",
    "\n",
    "If OOP is a good fit for your problem, I've found this to be a great post on OOP in Python:\n",
    "\n",
    "https://jeffknupp.com/blog/2014/06/18/improve-your-python-python-classes-and-object-oriented-programming/"
   ]
  },
  {
   "cell_type": "markdown",
   "metadata": {
    "slideshow": {
     "slide_type": "subslide"
    }
   },
   "source": [
    "# Context Managers\n",
    "\n",
    "\"A context manager is an object that defines the runtime context to be established when executing a with statement.\""
   ]
  },
  {
   "cell_type": "markdown",
   "metadata": {
    "slideshow": {
     "slide_type": "subslide"
    }
   },
   "source": [
    "Turns this ... "
   ]
  },
  {
   "cell_type": "code",
   "execution_count": 11,
   "metadata": {
    "collapsed": false
   },
   "outputs": [
    {
     "name": "stdout",
     "output_type": "stream",
     "text": [
      "I'm a text file!\n",
      "\n"
     ]
    }
   ],
   "source": [
    "f = open('file.txt', 'r')\n",
    "print(f.read())\n",
    "f.close()"
   ]
  },
  {
   "cell_type": "markdown",
   "metadata": {
    "slideshow": {
     "slide_type": "subslide"
    }
   },
   "source": [
    "into this ..."
   ]
  },
  {
   "cell_type": "code",
   "execution_count": 12,
   "metadata": {
    "collapsed": false
   },
   "outputs": [
    {
     "name": "stdout",
     "output_type": "stream",
     "text": [
      "I'm a text file!\n",
      "\n"
     ]
    }
   ],
   "source": [
    "with open('file.txt', 'r') as f:\n",
    "    print(f.read())"
   ]
  },
  {
   "cell_type": "markdown",
   "metadata": {
    "slideshow": {
     "slide_type": "subslide"
    }
   },
   "source": [
    "# Functional Programming"
   ]
  },
  {
   "cell_type": "markdown",
   "metadata": {
    "slideshow": {
     "slide_type": "fragment"
    }
   },
   "source": [
    "A bit, but we don't have time for it, check out `itertools` and `functools` and the concepts of iterators ang generators.  There are mechanisms to enable FP, check this:\n",
    "\n",
    "https://docs.python.org/3.5/howto/functional.html"
   ]
  },
  {
   "cell_type": "markdown",
   "metadata": {
    "slideshow": {
     "slide_type": "subslide"
    }
   },
   "source": [
    "# Last warning on Python 3 vs 2.\n",
    "\n",
    "If you have to write portable code, read up on it, it's messy but not too bad.  Lots of people have managed it, you can too!  Look for the package `six`."
   ]
  },
  {
   "cell_type": "markdown",
   "metadata": {
    "slideshow": {
     "slide_type": "slide"
    }
   },
   "source": [
    "# Python Ecosystem"
   ]
  },
  {
   "cell_type": "markdown",
   "metadata": {
    "slideshow": {
     "slide_type": "subslide"
    }
   },
   "source": [
    "# Python Tools\n",
    "\n",
    "* REPL - python, IPython\n",
    "* Docstrings -> Sphinx -> Read The Docs\n",
    "* Packages - pip (wheel), cookiecutter, on `pypi`\n",
    "* Interactive Environments - Spyder, Jupyter (IPython) Notebook\n",
    "* Editors - sublimetext, atom, spyder, PyCharm, vim\n",
    "* Syntax/Code Checkers - pylint, pep8, autopep8\n",
    "* Testing - doctests and unittest built in, `py.test` and `nose` in pypi"
   ]
  },
  {
   "cell_type": "markdown",
   "metadata": {
    "slideshow": {
     "slide_type": "notes"
    }
   },
   "source": [
    "Oh, geez, too much stuff!"
   ]
  },
  {
   "cell_type": "markdown",
   "metadata": {
    "slideshow": {
     "slide_type": "slide"
    }
   },
   "source": [
    "# Python Virtual Environments\n",
    "\n",
    "* Identify and isolate the python and 3rd party packages your code depends on.\n",
    "* Use `conda` environments or `virtualenv` and `virtualenv-wrapper`\n",
    "* Analysis/Algorithm development and software development might be different.\n",
    "* Eitherway, you'll pay the price for not tracking dependency versions over the long run."
   ]
  },
  {
   "cell_type": "markdown",
   "metadata": {
    "slideshow": {
     "slide_type": "subslide"
    }
   },
   "source": [
    "# Python Style and Idiomatic Python\n",
    "\n",
    "* PEP 8\n",
    "  * https://www.python.org/dev/peps/pep-0008/\n",
    "  * spaces, not tabs, 4 or 2, whatever you do, be consistent!\n",
    "* The Python Way\n",
    "  * `import this`\n",
    "* Idiomatic examples\n",
    "  * http://python.net/~goodger/projects/pycon/2007/idiomatic/handout.html"
   ]
  },
  {
   "cell_type": "markdown",
   "metadata": {
    "slideshow": {
     "slide_type": "slide"
    }
   },
   "source": [
    "# Use Cases\n",
    "\n",
    "So many!"
   ]
  },
  {
   "cell_type": "markdown",
   "metadata": {
    "slideshow": {
     "slide_type": "slide"
    }
   },
   "source": [
    "# Interactive Analysis, Presentation and Document Creation\n",
    "\n",
    "Use the IPython Notebook, now known as the Jupyter Notebook.  Supports many languages and many uses."
   ]
  },
  {
   "cell_type": "markdown",
   "metadata": {
    "slideshow": {
     "slide_type": "fragment"
    }
   },
   "source": [
    "This presentation was created and is running, interactively in the Jupyter Notebook."
   ]
  },
  {
   "cell_type": "code",
   "execution_count": 13,
   "metadata": {
    "collapsed": false,
    "slideshow": {
     "slide_type": "fragment"
    }
   },
   "outputs": [
    {
     "name": "stdout",
     "output_type": "stream",
     "text": [
      "Foo Bar!\n"
     ]
    }
   ],
   "source": [
    "print(\"Foo Bar!\")"
   ]
  },
  {
   "cell_type": "markdown",
   "metadata": {
    "slideshow": {
     "slide_type": "slide"
    }
   },
   "source": [
    "# Database Access\n",
    "\n",
    "* Standard Database Drivers\n",
    "  * All of them, mostly.\n",
    "* ORMs\n",
    "    * **SQLAlchemy**\n",
    "    * Django\n",
    "    * Pewee\n",
    "    * etc.\n",
    "* Various db migration schemes associated with above."
   ]
  },
  {
   "cell_type": "markdown",
   "metadata": {
    "slideshow": {
     "slide_type": "subslide"
    }
   },
   "source": [
    "## Declare your Model"
   ]
  },
  {
   "cell_type": "code",
   "execution_count": 14,
   "metadata": {
    "collapsed": true
   },
   "outputs": [],
   "source": [
    "! rm sqlalchemy_example.db"
   ]
  },
  {
   "cell_type": "code",
   "execution_count": 15,
   "metadata": {
    "collapsed": true,
    "slideshow": {
     "slide_type": "subslide"
    }
   },
   "outputs": [],
   "source": [
    "from sqlalchemy import Column, ForeignKey, Integer, String, create_engine\n",
    "from sqlalchemy.ext.declarative import declarative_base\n",
    "from sqlalchemy.orm import relationship\n",
    " \n",
    "Base = declarative_base()\n",
    " \n",
    "class Person(Base):\n",
    "    __tablename__ = 'person'\n",
    "    id = Column(Integer, primary_key=True)\n",
    "    name = Column(String(250), nullable=False)\n",
    "    height = Column(Integer)\n",
    "    addresses = relationship(\"Address\", back_populates=\"person\")\n",
    "    \n",
    "class Address(Base):\n",
    "    __tablename__ = 'address'\n",
    "    id = Column(Integer, primary_key=True)\n",
    "    post_code = Column(String(250), nullable=False)\n",
    "    person_id = Column(Integer, ForeignKey('person.id'))\n",
    "    person = relationship(\"Person\", back_populates=\"addresses\")\n",
    "    \n",
    "    def __repr__(self):\n",
    "        return \"Address: Postal Code %s\" % self.post_code\n",
    "    \n",
    "engine = create_engine('sqlite:///sqlalchemy_example.db')\n",
    "Base.metadata.create_all(engine)"
   ]
  },
  {
   "cell_type": "markdown",
   "metadata": {
    "slideshow": {
     "slide_type": "notes"
    }
   },
   "source": [
    "You don't really want to call `create_all` all the time ...\n",
    "\n",
    "Modified version of:\n",
    "http://pythoncentral.io/introductory-tutorial-python-sqlalchemy/\n",
    "\n",
    "though this is the real authority:\n",
    "\n",
    "http://docs.sqlalchemy.org/en/latest/orm/tutorial.html"
   ]
  },
  {
   "cell_type": "markdown",
   "metadata": {
    "slideshow": {
     "slide_type": "subslide"
    }
   },
   "source": [
    "## Look at the resultant SQLite database"
   ]
  },
  {
   "cell_type": "code",
   "execution_count": 16,
   "metadata": {
    "collapsed": false,
    "slideshow": {
     "slide_type": "-"
    }
   },
   "outputs": [
    {
     "name": "stdout",
     "output_type": "stream",
     "text": [
      "CREATE TABLE person (\r\n",
      "\tid INTEGER NOT NULL, \r\n",
      "\tname VARCHAR(250) NOT NULL, \r\n",
      "\theight INTEGER, \r\n",
      "\tPRIMARY KEY (id)\r\n",
      ");\r\n",
      "CREATE TABLE address (\r\n",
      "\tid INTEGER NOT NULL, \r\n",
      "\tpost_code VARCHAR(250) NOT NULL, \r\n",
      "\tperson_id INTEGER, \r\n",
      "\tPRIMARY KEY (id), \r\n",
      "\tFOREIGN KEY(person_id) REFERENCES person (id)\r\n",
      ");\r\n"
     ]
    }
   ],
   "source": [
    "! sqlite3 sqlalchemy_example.db \".schema\""
   ]
  },
  {
   "cell_type": "markdown",
   "metadata": {
    "slideshow": {
     "slide_type": "subslide"
    }
   },
   "source": [
    "## Add a Person and Address to the DB"
   ]
  },
  {
   "cell_type": "code",
   "execution_count": 17,
   "metadata": {
    "collapsed": false,
    "slideshow": {
     "slide_type": "subslide"
    }
   },
   "outputs": [],
   "source": [
    "from sqlalchemy import create_engine\n",
    "from sqlalchemy.orm import sessionmaker\n",
    "\n",
    "DBSession = sessionmaker(bind=engine)\n",
    "session = DBSession()\n",
    "\n",
    "new_person = Person(name='Austin Godber')\n",
    "session.add(new_person)\n",
    "session.commit()\n",
    "\n",
    "new_address = Address(post_code='85280', person=new_person)\n",
    "session.add(new_address)\n",
    "session.commit()"
   ]
  },
  {
   "cell_type": "markdown",
   "metadata": {
    "slideshow": {
     "slide_type": "subslide"
    }
   },
   "source": [
    "## Check out the DB contents"
   ]
  },
  {
   "cell_type": "code",
   "execution_count": 18,
   "metadata": {
    "collapsed": false
   },
   "outputs": [
    {
     "name": "stdout",
     "output_type": "stream",
     "text": [
      "1|Austin Godber|\r\n",
      "1|85280|1\r\n"
     ]
    }
   ],
   "source": [
    "! sqlite3 sqlalchemy_example.db \"SELECT * FROM person; SELECT * FROM address;\""
   ]
  },
  {
   "cell_type": "markdown",
   "metadata": {
    "slideshow": {
     "slide_type": "subslide"
    }
   },
   "source": [
    "## Work with the Objects in the ORM"
   ]
  },
  {
   "cell_type": "code",
   "execution_count": 19,
   "metadata": {
    "collapsed": false
   },
   "outputs": [
    {
     "name": "stdout",
     "output_type": "stream",
     "text": [
      "Austin Godber\n",
      "Address: Postal Code 85280\n",
      "85280\n"
     ]
    }
   ],
   "source": [
    "# keep in mind, we're using the session and engine create above\n",
    "session.query(Person).all()\n",
    "person = session.query(Person).first()\n",
    "print(person.name)\n",
    "print(person.addresses[0])\n",
    "print(person.addresses[0].post_code)"
   ]
  },
  {
   "cell_type": "markdown",
   "metadata": {
    "slideshow": {
     "slide_type": "notes"
    }
   },
   "source": [
    "Lots more functionality ... queries, filters, many-to-many relationships, etc."
   ]
  },
  {
   "cell_type": "markdown",
   "metadata": {},
   "source": [
    "## Web Applications\n",
    "  * **Flask**\n",
    "  * Django\n",
    "  * CherryPy, Pyramid, Web2py, etc\n",
    "  * Lots more no doubt!"
   ]
  },
  {
   "cell_type": "markdown",
   "metadata": {
    "slideshow": {
     "slide_type": "slide"
    }
   },
   "source": [
    "* Numerical, Scientific Applications\n",
    "  * IPython/Jupyter\n",
    "  * Pandas\n",
    "  * Numpy\n",
    "  * Scipy\n",
    "  * Scikit-learn\n",
    "  * AstroPY\n",
    "* Plotting\n",
    "  * Matplotlib\n",
    "  * Bokeh\n",
    "  * Altair\n",
    "  * etc\n",
    "  * Comparison\n",
    "      * https://dansaber.wordpress.com/2016/10/02/a-dramatic-tour-through-pythons-data-visualization-landscape-including-ggplot-and-altair/\n",
    "* Image manipulation and Image Processing\n",
    "  * PIL/Pillow, Imageio\n",
    "  * scikit-image\n",
    "* Python as an embedded scripting platform\n",
    "  * Blender\n",
    "  * ArcGIS\n",
    "  * QGIS"
   ]
  },
  {
   "cell_type": "markdown",
   "metadata": {
    "collapsed": true,
    "slideshow": {
     "slide_type": "slide"
    }
   },
   "source": [
    "# Thank You!\n",
    "\n",
    "```python\n",
    "import antigravity\n",
    "```"
   ]
  }
 ],
 "metadata": {
  "celltoolbar": "Slideshow",
  "kernelspec": {
   "display_name": "Python 3",
   "language": "python",
   "name": "python3"
  },
  "language_info": {
   "codemirror_mode": {
    "name": "ipython",
    "version": 3
   },
   "file_extension": ".py",
   "mimetype": "text/x-python",
   "name": "python",
   "nbconvert_exporter": "python",
   "pygments_lexer": "ipython3",
   "version": "3.5.1"
  }
 },
 "nbformat": 4,
 "nbformat_minor": 0
}

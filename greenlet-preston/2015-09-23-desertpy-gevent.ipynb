{
 "cells": [
  {
   "cell_type": "markdown",
   "metadata": {
    "slideshow": {
     "slide_type": "slide"
    }
   },
   "source": [
    "# gevent and greenlet\n",
    "\n",
    "DesertPy 2015-09-23\n",
    "\n",
    "Ian Preston (ianpreston.io)"
   ]
  },
  {
   "cell_type": "markdown",
   "metadata": {
    "slideshow": {
     "slide_type": "slide"
    }
   },
   "source": [
    "## gevent = greenlet + libev\n",
    "\n",
    "* cooperative multitasking (greenlet)\n",
    "* event loop (libev)"
   ]
  },
  {
   "cell_type": "markdown",
   "metadata": {
    "slideshow": {
     "slide_type": "slide"
    }
   },
   "source": [
    "## greenlet = lightweight, cooperative multitasking\n",
    "\n",
    "* Lightweight: Not OS threads, feel free to spawn up thousands\n",
    "* Cooperative: Need to explicitly yield. Be sure not to block.\n",
    "* You can beat the rap, but you can't beat the ~~ride~~ GIL\n",
    "* Great for I/O, not so great for CPU"
   ]
  },
  {
   "cell_type": "code",
   "execution_count": null,
   "metadata": {
    "collapsed": false,
    "slideshow": {
     "slide_type": "slide"
    }
   },
   "outputs": [],
   "source": [
    "import greenlet\n",
    "\n",
    "a, b = None, None\n",
    "\n",
    "def foo():\n",
    "    print 'Beginning of foo'\n",
    "    b.switch()\n",
    "    print 'End of foo'\n",
    "\n",
    "def bar():\n",
    "    print 'Beginning of bar'\n",
    "    a.switch()\n",
    "    print 'End of bar'\n",
    "\n",
    "a = greenlet.greenlet(foo)\n",
    "b = greenlet.greenlet(bar)\n",
    "a.switch()"
   ]
  },
  {
   "cell_type": "markdown",
   "metadata": {
    "slideshow": {
     "slide_type": "slide"
    }
   },
   "source": [
    "## libev\n",
    "\n",
    "* Event loop networking library\n",
    "* Think of it as Twisted for C\n",
    "* Wraps epoll()/kqueue()/select()"
   ]
  },
  {
   "cell_type": "code",
   "execution_count": null,
   "metadata": {
    "collapsed": false,
    "slideshow": {
     "slide_type": "slide"
    }
   },
   "outputs": [],
   "source": [
    "%%bash\n",
    "pip install gevent"
   ]
  },
  {
   "cell_type": "markdown",
   "metadata": {
    "slideshow": {
     "slide_type": "slide"
    }
   },
   "source": [
    "Quick note about python 3.5"
   ]
  },
  {
   "cell_type": "code",
   "execution_count": null,
   "metadata": {
    "collapsed": false,
    "slideshow": {
     "slide_type": "slide"
    }
   },
   "outputs": [],
   "source": [
    "import gevent\n",
    "\n",
    "def foo():\n",
    "    print 'Hello from foo!'\n",
    "    # Yield to the scheduler\n",
    "    gevent.sleep(0)\n",
    "    print 'Goodbye from foo'\n",
    "\n",
    "def bar():\n",
    "    print 'Hello from bar'\n",
    "    gevent.sleep(0)\n",
    "    print 'Goodbye from bar'\n",
    "\n",
    "f = gevent.spawn(foo)\n",
    "b = gevent.spawn(bar)\n",
    "gevent.joinall([f, b]) # wait for `f` and `b` to exit"
   ]
  },
  {
   "cell_type": "code",
   "execution_count": null,
   "metadata": {
    "collapsed": false,
    "slideshow": {
     "slide_type": "slide"
    }
   },
   "outputs": [],
   "source": [
    "import gevent\n",
    "import random\n",
    "\n",
    "def foo(prefix):\n",
    "    for x in xrange(4):\n",
    "        gevent.sleep(random.uniform(0.0, 0.5))\n",
    "        print prefix, x\n",
    "\n",
    "a = gevent.spawn(foo, 'thread a')\n",
    "b = gevent.spawn(foo, 'thread b')\n",
    "gevent.joinall([a, b])"
   ]
  },
  {
   "cell_type": "code",
   "execution_count": null,
   "metadata": {
    "collapsed": false,
    "slideshow": {
     "slide_type": "slide"
    }
   },
   "outputs": [],
   "source": [
    "return\n",
    "import gevent\n",
    "import requests\n",
    "\n",
    "def get_desertpy_homepage():\n",
    "    print 'begin...'\n",
    "    r = requests.get('https://desertpy.org/')\n",
    "    r.raise_for_status()\n",
    "    \n",
    "    print 'downloaded', len(r.content), 'bytes'\n",
    "\n",
    "threads = [\n",
    "    gevent.spawn(get_desertpy_homepage)\n",
    "    for x in xrange(30)\n",
    "]\n",
    "gevent.joinall(threads) # May take a while..."
   ]
  },
  {
   "cell_type": "markdown",
   "metadata": {
    "slideshow": {
     "slide_type": "slide"
    }
   },
   "source": [
    "## gevent.monkey.patch_all()\n",
    "\n",
    "    import gevent.monkey\n",
    "    gevent.monkey.patch_all()\n",
    "\n",
    "* Monkey-patches standard library packages\n",
    "* All I/O is now non-blocking and yields automatically\n",
    "* Syscalls like `time.sleep` yield to gevent\n",
    "* Threading, locks, etc are now gevent primitives\n"
   ]
  },
  {
   "cell_type": "markdown",
   "metadata": {
    "slideshow": {
     "slide_type": "slide"
    }
   },
   "source": [
    "## gevent.monkey.patch_all()\n",
    "\n",
    "* Existing code *usually* just works and doesn't need to be modified\n",
    "* No new API to deal with"
   ]
  },
  {
   "cell_type": "code",
   "execution_count": null,
   "metadata": {
    "collapsed": true,
    "slideshow": {
     "slide_type": "slide"
    }
   },
   "outputs": [],
   "source": [
    "import gevent.monkey\n",
    "gevent.monkey.patch_all(thread=False)"
   ]
  },
  {
   "cell_type": "code",
   "execution_count": null,
   "metadata": {
    "collapsed": false,
    "slideshow": {
     "slide_type": "slide"
    }
   },
   "outputs": [],
   "source": [
    "import gevent\n",
    "import time\n",
    "import requests\n",
    "\n",
    "def get_desertpy_homepage():\n",
    "    print 'begin...'\n",
    "    r = requests.get('http://desertpy.org/')\n",
    "    r.raise_for_status()\n",
    "    \n",
    "    print 'downloaded', len(r.content), 'bytes'\n",
    "\n",
    "threads = [\n",
    "    gevent.spawn(get_desertpy_homepage)\n",
    "    for x in xrange(5)\n",
    "]\n",
    "gevent.joinall(threads)"
   ]
  },
  {
   "cell_type": "code",
   "execution_count": null,
   "metadata": {
    "collapsed": false,
    "slideshow": {
     "slide_type": "slide"
    }
   },
   "outputs": [],
   "source": [
    "import gevent\n",
    "import time\n",
    "\n",
    "try:\n",
    "    with gevent.Timeout(0.5):\n",
    "        time.sleep(10)\n",
    "except gevent.Timeout:\n",
    "    print 'Timed out!'"
   ]
  },
  {
   "cell_type": "code",
   "execution_count": null,
   "metadata": {
    "collapsed": false,
    "slideshow": {
     "slide_type": "slide"
    }
   },
   "outputs": [],
   "source": [
    "import gevent\n",
    "\n",
    "with gevent.Timeout(0.5):\n",
    "    x = 10\n",
    "    while True:\n",
    "        x += x"
   ]
  },
  {
   "cell_type": "markdown",
   "metadata": {
    "slideshow": {
     "slide_type": "slide"
    }
   },
   "source": [
    "* You can still shoot yourself in the foot, `monkey.patch_all()` just makes it harder"
   ]
  },
  {
   "cell_type": "code",
   "execution_count": null,
   "metadata": {
    "collapsed": false,
    "slideshow": {
     "slide_type": "slide"
    }
   },
   "outputs": [],
   "source": [
    "# gevent.spawn_later\n",
    "import gevent\n",
    "\n",
    "def foo():\n",
    "    print 'Hello from foo()'\n",
    "\n",
    "def bar():\n",
    "    print 'Hello from bar()'\n",
    "    \n",
    "gevent.spawn_later(0.5, foo)\n",
    "gevent.spawn_later(0.2, bar)\n",
    "gevent.sleep(1.0)"
   ]
  },
  {
   "cell_type": "code",
   "execution_count": null,
   "metadata": {
    "collapsed": false,
    "slideshow": {
     "slide_type": "slide"
    }
   },
   "outputs": [],
   "source": [
    "# gevent.server\n",
    "import gevent.server\n",
    "\n",
    "def on_connection(socket, addr):\n",
    "    print 'on_connection', socket, addr\n",
    "    greeting = socket.recv(4096)\n",
    "    socket.sendall('Server says ' + greeting + '\\n')\n",
    "    socket.close()\n",
    "\n",
    "server = gevent.server.StreamServer(('0.0.0.0', 4200), on_connection)\n",
    "server.serve_forever()"
   ]
  },
  {
   "cell_type": "code",
   "execution_count": null,
   "metadata": {
    "collapsed": true,
    "slideshow": {
     "slide_type": "slide"
    }
   },
   "outputs": [],
   "source": [
    "# gevent.signal\n",
    "import gevent\n",
    "import signal\n",
    "\n",
    "def handler():\n",
    "    print 'Got SIGUSR1!'\n",
    "\n",
    "gevent.signal(signal.SIGUSR1, handler)"
   ]
  },
  {
   "cell_type": "code",
   "execution_count": null,
   "metadata": {
    "collapsed": false,
    "slideshow": {
     "slide_type": "slide"
    }
   },
   "outputs": [],
   "source": [
    "# Event synchronization primitive\n",
    "import gevent\n",
    "import gevent.event\n",
    "\n",
    "ev = gevent.event.Event()\n",
    "\n",
    "def foo():\n",
    "    print 'foo: Sleep 1sec'\n",
    "    gevent.sleep(1.0)\n",
    "    print 'foo: Set ev'\n",
    "    ev.set()\n",
    "\n",
    "def bar():\n",
    "    print 'bar: Waiting for ev to be set'\n",
    "    ev.wait()\n",
    "    print 'bar: ev was set'\n",
    "\n",
    "gevent.joinall([\n",
    "    gevent.spawn(foo),\n",
    "    gevent.spawn(bar),\n",
    "])"
   ]
  },
  {
   "cell_type": "code",
   "execution_count": null,
   "metadata": {
    "collapsed": false,
    "slideshow": {
     "slide_type": "slide"
    }
   },
   "outputs": [],
   "source": [
    "# Queue synchronization primitive\n",
    "import gevent\n",
    "import gevent.queue\n",
    "import random\n",
    "\n",
    "q = gevent.queue.Queue()\n",
    "\n",
    "def worker(worker_name):\n",
    "    for item in q:\n",
    "        print 'Worker', worker_name, 'got item', item\n",
    "        gevent.sleep(random.uniform(0.0, 0.5))\n",
    "\n",
    "for x in xrange(10):\n",
    "    q.put(x)\n",
    "\n",
    "gevent.joinall([\n",
    "    gevent.spawn(worker, 'A'),\n",
    "    gevent.spawn(worker, 'B'),\n",
    "    gevent.spawn(worker, 'C'),\n",
    "])"
   ]
  },
  {
   "cell_type": "code",
   "execution_count": null,
   "metadata": {
    "collapsed": false
   },
   "outputs": [],
   "source": [
    "# Semaphore synchronization primitive :\\\n",
    "import gevent\n",
    "import gevent.lock\n",
    "\n",
    "s = gevent.lock.BoundedSemaphore(1)\n",
    "\n",
    "def foo():\n",
    "    print 'foo: Acquire'\n",
    "    s.acquire()\n",
    "    gevent.sleep(2.0)\n",
    "    print 'foo: Release'\n",
    "    s.release()\n",
    "\n",
    "def bar():\n",
    "    print 'bar: Try to acquire'\n",
    "    s.acquire()\n",
    "    print 'bar: Acquired!'\n",
    "    s.release()\n",
    "\n",
    "gevent.joinall([\n",
    "    gevent.spawn(foo),\n",
    "    gevent.spawn(bar),\n",
    "])\n"
   ]
  },
  {
   "cell_type": "code",
   "execution_count": null,
   "metadata": {
    "collapsed": false,
    "slideshow": {
     "slide_type": "slide"
    }
   },
   "outputs": [],
   "source": [
    "# Thread-local variables\n",
    "import gevent\n",
    "import gevent.local\n",
    "\n",
    "val = gevent.local.local()\n",
    "\n",
    "def foo():\n",
    "    val.foo = 10\n",
    "    print 'val.foo=', val.foo\n",
    "\n",
    "\n",
    "def bar():\n",
    "    val.bar = 10\n",
    "    print 'val.bar=', val.bar\n",
    "    print 'val.foo=', val.foo\n",
    "\n",
    "gevent.spawn(foo)\n",
    "gevent.spawn(bar)"
   ]
  },
  {
   "cell_type": "code",
   "execution_count": null,
   "metadata": {
    "collapsed": false,
    "slideshow": {
     "slide_type": "slide"
    }
   },
   "outputs": [],
   "source": [
    "# Pool type\n",
    "import gevent\n",
    "import gevent.pool\n",
    "\n",
    "def foo():\n",
    "    gevent.sleep(1000)\n",
    "\n",
    "pool = gevent.pool.Pool(5)\n",
    "\n",
    "while not pool.full():\n",
    "    greenlet = pool.spawn(foo)\n",
    "    print 'Spawned:', greenlet\n",
    "    print 'Available:', pool.free_count()"
   ]
  },
  {
   "cell_type": "code",
   "execution_count": null,
   "metadata": {
    "collapsed": false,
    "slideshow": {
     "slide_type": "slide"
    }
   },
   "outputs": [],
   "source": [
    "# Pool.imap()\n",
    "import gevent\n",
    "import gevent.pool\n",
    "import requests\n",
    "\n",
    "def cat_for_status(status):\n",
    "    print 'Getting HTTP status', status, '...'\n",
    "    return requests.get('http://http.cat/' + str(status))\n",
    "\n",
    "#pool = gevent.pool.Pool(1)\n",
    "#pool = gevent.pool.Pool(7)\n",
    "pool = gevent.pool.Pool(2)\n",
    "\n",
    "responses = pool.imap(cat_for_status, [100, 101, 200, 201, 202, 204, 206, 207])\n",
    "print list(responses)"
   ]
  },
  {
   "cell_type": "code",
   "execution_count": null,
   "metadata": {
    "collapsed": false,
    "slideshow": {
     "slide_type": "slide"
    }
   },
   "outputs": [],
   "source": [
    "# gevent.backdoor\n",
    "import gevent.backdoor\n",
    "\n",
    "x = 10\n",
    "\n",
    "server = gevent.backdoor.BackdoorServer(\n",
    "    ('0.0.0.0', 4200),\n",
    "    locals=globals(),\n",
    ")\n",
    "server.serve_forever()"
   ]
  },
  {
   "cell_type": "code",
   "execution_count": null,
   "metadata": {
    "collapsed": false,
    "slideshow": {
     "slide_type": "slide"
    }
   },
   "outputs": [],
   "source": [
    "# gevent.wsgi\n",
    "import gevent.wsgi\n",
    "import flask\n",
    "\n",
    "app = flask.Flask(__name__)\n",
    "\n",
    "@app.route('/')\n",
    "def index():\n",
    "    return 'Hello, world!'\n",
    "\n",
    "server = gevent.wsgi.WSGIServer(('0.0.0.0', 4200), app)\n",
    "server.serve_forever()"
   ]
  },
  {
   "cell_type": "markdown",
   "metadata": {
    "slideshow": {
     "slide_type": "slide"
    }
   },
   "source": [
    "## gevent\n",
    "\n",
    "* Provides lightweight multitasking and an event loop\n",
    "* Not dissimilar to `asyncio`\n",
    "* Great for many IO-bound applications\n",
    "\n",
    "\n",
    "## links\n",
    "\n",
    "* Offical site: http://gevent.org/\n",
    "* Source: https://github.com/gevent/gevent\n",
    "* Tutorial: http://sdiehl.github.io/gevent-tutorial/"
   ]
  },
  {
   "cell_type": "code",
   "execution_count": null,
   "metadata": {
    "collapsed": true,
    "slideshow": {
     "slide_type": "skip"
    }
   },
   "outputs": [],
   "source": []
  }
 ],
 "metadata": {
  "celltoolbar": "Slideshow",
  "kernelspec": {
   "display_name": "IPython 2 w/gevent",
   "language": "python",
   "name": "gevent"
  },
  "language_info": {
   "codemirror_mode": {
    "name": "ipython",
    "version": 2
   },
   "file_extension": ".py",
   "mimetype": "text/x-python",
   "name": "python",
   "nbconvert_exporter": "python",
   "pygments_lexer": "ipython2",
   "version": "2.7.10"
  }
 },
 "nbformat": 4,
 "nbformat_minor": 0
}

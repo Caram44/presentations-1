{
 "cells": [
  {
   "cell_type": "markdown",
   "metadata": {
    "slideshow": {
     "slide_type": "slide"
    }
   },
   "source": [
    "<img src=\"python-logo-generic.svg\" alt=\"Python Logo\">\n",
    "\n",
    "# DesertPy - December 28th, 2016\n",
    "\n",
    "at UAT\n",
    "\n",
    "https://www.meetup.com/Phoenix-Python-Meetup-Group/events/235993352/"
   ]
  },
  {
   "cell_type": "markdown",
   "metadata": {
    "slideshow": {
     "slide_type": "subslide"
    }
   },
   "source": [
    "# Agenda\n",
    "\n",
    "* PyCon announcement by Michael Gilbert\n",
    "* Tentative Jupyter Notebook/JupyterLab talk by Brian Granger.\n",
    "* Intro to Python part II - Tools and Ecosystem"
   ]
  },
  {
   "cell_type": "markdown",
   "metadata": {
    "slideshow": {
     "slide_type": "subslide"
    }
   },
   "source": [
    "# DesertPy Info\n",
    "\n",
    "* Meetup Page - http://www.meetup.com/Phoenix-Python-Meetup-Group/\n",
    "* Website - http://desertpy.com\n",
    "* Github - https://github.com/desertpy\n",
    "* Twitter - https://twitter.com/desertpy"
   ]
  },
  {
   "cell_type": "markdown",
   "metadata": {
    "slideshow": {
     "slide_type": "subslide"
    }
   },
   "source": [
    "# Introductions\n",
    "\n",
    "* Number of attendees: "
   ]
  },
  {
   "cell_type": "markdown",
   "metadata": {
    "slideshow": {
     "slide_type": "subslide"
    }
   },
   "source": [
    "# Announcements\n",
    "\n",
    "* Saturday Morning Open Hack - January 14th, 2017 (unconfirmed)\n",
    "* Experimenting with meeting format in 2017\n",
    "* Still awaiting confirmation from UAT on regular time\n",
    "* Migrate website to Nikola - https://github.com/desertpy/desertpy-pelican/issues/10\n",
    "* Python 3.6 came out"
   ]
  },
  {
   "cell_type": "markdown",
   "metadata": {
    "slideshow": {
     "slide_type": "subslide"
    }
   },
   "source": [
    "# New Meeting Format\n",
    "\n",
    "* Show and Tell\n",
    "* Multiple Lightning Talks\n",
    "  * http://desertpy.com/pages/lightning.html\n",
    "* Fewer long talks by Austin"
   ]
  },
  {
   "cell_type": "markdown",
   "metadata": {
    "slideshow": {
     "slide_type": "subslide"
    }
   },
   "source": [
    "# Lightning Talks Wanted!\n",
    "\n",
    "* Python 3.6 features: `f-strings`, more?\n",
    "* Async Based Talks - `aiohttp`, `aiofiles`, `aiopg`"
   ]
  }
 ],
 "metadata": {
  "anaconda-cloud": {},
  "celltoolbar": "Slideshow",
  "kernelspec": {
   "display_name": "Python [conda env:desertpy_2016-12-26_v1]",
   "language": "python",
   "name": "conda-env-desertpy_2016-12-26_v1-py"
  },
  "language_info": {
   "codemirror_mode": {
    "name": "ipython",
    "version": 3
   },
   "file_extension": ".py",
   "mimetype": "text/x-python",
   "name": "python",
   "nbconvert_exporter": "python",
   "pygments_lexer": "ipython3",
   "version": "3.5.2"
  }
 },
 "nbformat": 4,
 "nbformat_minor": 2
}

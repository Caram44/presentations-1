{
 "cells": [
  {
   "cell_type": "markdown",
   "metadata": {
    "slideshow": {
     "slide_type": "slide"
    }
   },
   "source": [
    "# Win32com and Automating Outlook  \n",
    "@ftlphys  \n",
    "Michael Gilbert  \n",
    "3-23-16"
   ]
  },
  {
   "cell_type": "markdown",
   "metadata": {
    "slideshow": {
     "slide_type": "subslide"
    }
   },
   "source": [
    "### What does Win32com and pythoncom allow you to do?\n",
    "*  Hook into microsoft com system  (win32ole / win32api)\n",
    "    - control/access outlook\n",
    "    - control/access word & excel\n",
    "    - control/access internet explorer\n",
    "    - control/access some system services\n",
    "    - ...\n",
    "* Eliminate corporate \"email hell\" through automation (can even bypass certain annoyances in the group policy ;-) )!"
   ]
  },
  {
   "cell_type": "markdown",
   "metadata": {
    "slideshow": {
     "slide_type": "subslide"
    }
   },
   "source": [
    "### Getting everything Installed...\n",
    "* Installed from sourceforge website of the [Python for Windows Extension](https://sourceforge.net/projects/pywin32/)\n",
    "    -  PyPi does not have the latest version, so download the appropriate exe from sourceforge\n",
    "    -  If using Anaconda, it does have the the latest, use conda install pywin32 (build 220 as of this presentation)"
   ]
  },
  {
   "cell_type": "markdown",
   "metadata": {
    "slideshow": {
     "slide_type": "subslide"
    }
   },
   "source": [
    "### First a word about the documentation...\n",
    "* It is sparse...\n",
    "* [Active State Docs](http://docs.activestate.com/activepython/2.4/pywin32/html/com/win32com/HTML/QuickStartClientCom.html)\n",
    "    - it's old and does not cover all options, but has some simple examples and explains the general structure of the library\n",
    "* [Microsoft Outlook Iterop](https://msdn.microsoft.com/en-us/library/microsoft.office.interop.outlook.mailitem_properties.aspx)\n",
    "    - covers everything you can do with outlook\n",
    "    - written with examples in VBA and/or C#, so will require translation\n",
    "* Stack overflow is probably the best place to find information about using win32com"
   ]
  },
  {
   "cell_type": "markdown",
   "metadata": {
    "slideshow": {
     "slide_type": "subslide"
    }
   },
   "source": [
    "### Some considerations when interacting with Outlook...\n",
    "* win32com.client gives you access to hooking into outlook\n",
    "* pythoncom manages the communications (not always a required import), especially important in multithreaded/multiprocessed access to outlook\n",
    "    -  Outlook does not like multiple commands from multiple hooks occuring simultaneously and will freeze\n",
    "* pywintypes is needed to handle exceptions"
   ]
  },
  {
   "cell_type": "markdown",
   "metadata": {
    "slideshow": {
     "slide_type": "slide"
    }
   },
   "source": [
    "### Let's see some code and control Outlook!!"
   ]
  },
  {
   "cell_type": "code",
   "execution_count": 1,
   "metadata": {
    "collapsed": true,
    "slideshow": {
     "slide_type": "subslide"
    }
   },
   "outputs": [],
   "source": [
    "# Required imports to interact with outlook\n",
    "import win32com.client\n",
    "import pythoncom\n",
    "import pywintypes"
   ]
  },
  {
   "cell_type": "markdown",
   "metadata": {
    "slideshow": {
     "slide_type": "subslide"
    }
   },
   "source": [
    "### Using Dispatch to send an email..."
   ]
  },
  {
   "cell_type": "code",
   "execution_count": null,
   "metadata": {
    "collapsed": true,
    "slideshow": {
     "slide_type": "subslide"
    }
   },
   "outputs": [],
   "source": [
    "try:\n",
    "    # hook into outlook (may very depending upon your companies implementation of login credentials)\n",
    "    o = win32com.client.Dispatch(\"Outlook.Application\")\n",
    "\n",
    "    # create a new email message\n",
    "    Msg = o.CreateItem(0)\n",
    "\n",
    "    # fill in the necessary fields\n",
    "    Msg.To = 'joe@gmail.com'\n",
    "    Msg.Subject = \"Let's have lunch!\"\n",
    "    Msg.Body = 'How does Saturday at noon sound?'\n",
    "\n",
    "    # send it!\n",
    "    Msg.Send()\n",
    "except pywintypes.com_error as e:\n",
    "    # handle errors with the com ineraction\n",
    "    print(e)"
   ]
  },
  {
   "cell_type": "markdown",
   "metadata": {
    "slideshow": {
     "slide_type": "subslide"
    }
   },
   "source": [
    "### Using Dispatch if you have multiple hooks in outlook (multi-processed, multi-threaded, or multi-programs)..."
   ]
  },
  {
   "cell_type": "code",
   "execution_count": null,
   "metadata": {
    "collapsed": true,
    "slideshow": {
     "slide_type": "subslide"
    }
   },
   "outputs": [],
   "source": [
    "import os\n",
    "try:\n",
    "    # Initialize the pythoncom to support multiple threads/processes\n",
    "    pythoncom.CoInitialize()\n",
    "    # hook into outlook (may vary depending upon your companies implementation of login credentials)\n",
    "    o = win32com.client.Dispatch(\"Outlook.Application\")\n",
    "\n",
    "    # create a new email message\n",
    "    Msg = o.CreateItem(0)\n",
    "\n",
    "    # fill in the necessary fields\n",
    "    Msg.To = 'joe@gmail.com'\n",
    "    Msg.Subject = \"Funny picture\"\n",
    "    # let's send an html email with an embedded image attached\n",
    "    attachment1 = 'attachment.png'\n",
    "    attaching = Msg.Attachments.Add(attachment1, 1, 1, 'image_label')\n",
    "    \n",
    "    # imageCid and PropertyAccessor are only necessary if your outlook email has\n",
    "    # restrictions on ways of embedding images (particularly for view in certain apps)\n",
    "    # You can get the necessary properties by reading the html source of emails \n",
    "    # you send normally through outlook...\n",
    "    imageCid = os.path.basename('attachment_path') + '@123'\n",
    "    attaching.PropertyAccessor.SetProperty(\"http://schemas.microsoft.com/mapi/proptag/0x3712001E\", imageCid)\n",
    "    Msg.HTMLBody = '<html><body> ' + 'Funny picture' + \":<br /> <img src=\\\"cid:{0}\\\"></body></html>\".format(imageCid)\n",
    "\n",
    "    # send it!\n",
    "    Msg.Send()\n",
    "    # close the coinitialization to clean up threads\n",
    "    pythoncom.CoUninitialize()\n",
    "except pywintypes.com_error as e:\n",
    "    # handle errors with the com ineraction\n",
    "    print(e)"
   ]
  },
  {
   "cell_type": "markdown",
   "metadata": {
    "slideshow": {
     "slide_type": "slide"
    }
   },
   "source": [
    "### Accessing various folders..."
   ]
  },
  {
   "cell_type": "code",
   "execution_count": null,
   "metadata": {
    "collapsed": false,
    "slideshow": {
     "slide_type": "subslide"
    }
   },
   "outputs": [],
   "source": [
    "o = win32com.client.Dispatch(\"Outlook.Application\").GetNamespace(\"MAPI\")\n",
    "# The folder name may vary for your inbox, different numbers will correspond to different folders\n",
    "inbox = o.GetDefaultFolder(6)\n",
    "# Get all messages in the Inbox\n",
    "messages = reversed(inbox.Items)\n",
    "for i, f in enumerate(messages):\n",
    "    print(i, f.Subject)\n",
    "    if i == 10:\n",
    "        break"
   ]
  },
  {
   "cell_type": "markdown",
   "metadata": {
    "slideshow": {
     "slide_type": "slide"
    }
   },
   "source": [
    "### How about monitoring and/or responding to all incoming emails from a specific individual?\n",
    "* Use Dispath with Events\n",
    "* Create a pythoncom eventloop"
   ]
  },
  {
   "cell_type": "code",
   "execution_count": null,
   "metadata": {
    "collapsed": false,
    "slideshow": {
     "slide_type": "subslide"
    }
   },
   "outputs": [
    {
     "name": "stdout",
     "output_type": "stream",
     "text": [
      "Sent an Email!\n",
      "Hey!\n",
      "Recieved an Email!\n",
      "(u'Charles Gilbert', u'Hey!')\n"
     ]
    }
   ],
   "source": [
    "# imported sys only to deal with flushing print statement due to juypter notebook's issues with event loops\n",
    "import sys\n",
    "\n",
    "class EmailMonitor:\n",
    "    outlook_hook = None\n",
    "\n",
    "    # method name is recognized by dispatch with events for new incoming mail\n",
    "    def OnNewMailEx(self, receivedItemsIDs):\n",
    "        for ID in receivedItemsIDs.split(\",\"):\n",
    "            mail = EmailMonitor.outlook_hook.Session.GetItemFromID(ID)\n",
    "            subject = mail.Subject\n",
    "            sender = mail.SenderName\n",
    "            print('Recieved an Email!')\n",
    "            print(sender, subject)\n",
    "            sys.stdout.flush()\n",
    "\n",
    "    # method name is recognized by dispatch with events for sent mail\n",
    "    def OnItemSend(self, item, cancel):\n",
    "        print('Sent an Email!')\n",
    "        print(item.Subject)\n",
    "        sys.stdout.flush()\n",
    "\n",
    "\n",
    "def main():\n",
    "    # below 3 lines are only needed for compatability with pyinstaller or the\n",
    "    # genchache will not work when compiled to an executable with the lastest\n",
    "    # version of pyinstaller\n",
    "    sys.modules['win32com.gen_py.os'] = None\n",
    "    sys.modules['win32com.gen_py.pywintypes'] = None\n",
    "    sys.modules['win32com.gen_py.pythoncom'] = None\n",
    "    # hook into outlook to capture all events for example sent/recieved emails\n",
    "    outlook_hook = win32com.client.DispatchWithEvents(\"Outlook.Application\", EmailMonitor)\n",
    "    # optionally setting class attribute link to hook\n",
    "    EmailMonitor.outlook_hook=outlook_hook\n",
    "    # create pythoncom event loop\n",
    "    pythoncom.PumpMessages()\n",
    "    \n",
    "    \n",
    "main()"
   ]
  },
  {
   "cell_type": "markdown",
   "metadata": {
    "slideshow": {
     "slide_type": "slide"
    }
   },
   "source": [
    "### Looking for more ways to automate tasks and reduce redundancy?\n",
    "* [*Automate the Boring stuff with Python*](https://www.nostarch.com/automatestuff)\n",
    "    - GUI/form automation\n",
    "    - great regex tutorial\n",
    "    - accessing/creating excel documents automatically using openpyxl\n",
    "    - much more!!"
   ]
  }
 ],
 "metadata": {
  "celltoolbar": "Slideshow",
  "kernelspec": {
   "display_name": "Python 2",
   "language": "python",
   "name": "python2"
  },
  "language_info": {
   "codemirror_mode": {
    "name": "ipython",
    "version": 2
   },
   "file_extension": ".py",
   "mimetype": "text/x-python",
   "name": "python",
   "nbconvert_exporter": "python",
   "pygments_lexer": "ipython2",
   "version": "2.7.10"
  }
 },
 "nbformat": 4,
 "nbformat_minor": 0
}

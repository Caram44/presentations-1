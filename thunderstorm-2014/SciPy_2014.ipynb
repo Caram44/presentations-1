{
 "metadata": {
  "celltoolbar": "Slideshow",
  "name": "",
  "signature": "sha256:77d5d8738901a9dc60410ba565b186820517b609a7dd8bfd237fc337ddd4d892"
 },
 "nbformat": 3,
 "nbformat_minor": 0,
 "worksheets": [
  {
   "cells": [
    {
     "cell_type": "markdown",
     "metadata": {
      "slideshow": {
       "slide_type": "slide"
      }
     },
     "source": [
      "# SciPy 2014\n",
      "\n",
      "### Austin Godber\n",
      "#### @godber\n",
      "\n",
      "July 2014"
     ]
    },
    {
     "cell_type": "markdown",
     "metadata": {
      "slideshow": {
       "slide_type": "slide"
      }
     },
     "source": [
      "# IPython Notebook\n",
      "\n",
      "* Backend renamed to Jupyter to encourage language agnostic use\n",
      "* Python users will still just type `ipython notebook`\n",
      "* Vim integration (vim connects to IPython kernel to interact with notebook)\n",
      "* RISE - Live Editable Slideshows in the works\n",
      "* CoLaboratory - Storing IPython Notebooks in Google Drive, running in NaCl"
     ]
    },
    {
     "cell_type": "markdown",
     "metadata": {
      "slideshow": {
       "slide_type": "slide"
      }
     },
     "source": [
      "# Reproducability\n",
      "\n",
      "* Lots of talk and tools to help do reproducable science.\n",
      "* Persisting Data\n",
      "* Persisting Code - DOI\n",
      "* Long Term Archive - Outliving the PI.\n",
      "* Virtual Machines and Containers\n",
      "* Other tools - hashdist\n",
      "* DOE Shrink Wrapped Computer"
     ]
    },
    {
     "cell_type": "markdown",
     "metadata": {
      "slideshow": {
       "slide_type": "slide"
      }
     },
     "source": [
      "# Miscellaneous"
     ]
    },
    {
     "cell_type": "markdown",
     "metadata": {
      "slideshow": {
       "slide_type": "subslide"
      }
     },
     "source": [
      "# GeoPandas\n",
      "\n",
      "Geospatial Data Types in Pandas Series and DataFrames."
     ]
    },
    {
     "cell_type": "markdown",
     "metadata": {
      "slideshow": {
       "slide_type": "subslide"
      }
     },
     "source": [
      "# Blaze\n",
      "\n",
      "* Generalizing NumPy datastructures to utilize different backends\n",
      "* Multiple dispatch - Like PEP 443, but dispatches based on function signature rather than type alone"
     ]
    },
    {
     "cell_type": "markdown",
     "metadata": {
      "slideshow": {
       "slide_type": "slide"
      }
     },
     "source": [
      "# AstroPy\n",
      "\n",
      "* WCSAxes - Matplotlib Axes sub-class that handles plotting tics, labels and grids for arbitrary coordinate systems.\n",
      "* ginga - FITS image viewer, I sprinted on my own PDS viewer derived from ginga\n",
      "* ccdproc - CCD Camera calibration library, I sprinted on this as well\n",
      "* yt - volumetric visualization (loading data from 31TB file over web)"
     ]
    },
    {
     "cell_type": "markdown",
     "metadata": {
      "slideshow": {
       "slide_type": "slide"
      }
     },
     "source": [
      "# Packaging\n",
      "\n",
      "* conda"
     ]
    },
    {
     "cell_type": "markdown",
     "metadata": {
      "slideshow": {
       "slide_type": "fragment"
      }
     },
     "source": [
      "* conda"
     ]
    },
    {
     "cell_type": "markdown",
     "metadata": {
      "slideshow": {
       "slide_type": "fragment"
      }
     },
     "source": [
      "* conda"
     ]
    },
    {
     "cell_type": "markdown",
     "metadata": {
      "slideshow": {
       "slide_type": "slide"
      }
     },
     "source": [
      "# Visualization\n",
      "\n",
      "* Bokeh 0.5\n",
      "* mpld3\n",
      "* VNC like mpl backend"
     ]
    },
    {
     "cell_type": "markdown",
     "metadata": {
      "slideshow": {
       "slide_type": "slide"
      }
     },
     "source": [
      "# Lightning Talks\n",
      "\n",
      "* Waffles!"
     ]
    },
    {
     "cell_type": "markdown",
     "metadata": {
      "slideshow": {
       "slide_type": "slide"
      }
     },
     "source": [
      "# Final\n",
      "\n",
      "* Site - https://conference.scipy.org/scipy2014/schedule/\n",
      "* Videos - http://www.youtube.com/playlist?list=PLYx7XA2nY5GfuhCvStxgbynFNrxr3VFog"
     ]
    }
   ],
   "metadata": {}
  }
 ]
}
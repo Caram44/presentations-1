{
 "cells": [
  {
   "cell_type": "markdown",
   "metadata": {
    "collapsed": true,
    "slideshow": {
     "slide_type": "slide"
    }
   },
   "source": [
    "# Using Python in Amazon's AWS Lambda Service\n",
    "\n",
    "Austin Godber  \n",
    "@godber\n",
    "\n",
    "<img style=\"float: right\" src=\"lambda.png\">\n",
    "\n",
    "DesertPy - 5/25/2016"
   ]
  },
  {
   "cell_type": "markdown",
   "metadata": {
    "slideshow": {
     "slide_type": "subslide"
    }
   },
   "source": [
    "# What is AWS Lambda?\n",
    "\n",
    "\"AWS Lambda lets you run code without provisioning or managing servers. You pay only for the compute time you consume - there is no charge when your code is not running.\"\n",
    "\n",
    "\"You can set up your code to automatically trigger from other AWS services or call it directly from any web or mobile app.\"\n",
    "\n",
    "https://aws.amazon.com/lambda/"
   ]
  },
  {
   "cell_type": "markdown",
   "metadata": {
    "slideshow": {
     "slide_type": "subslide"
    }
   },
   "source": [
    "# Features\n",
    "\n",
    "* Extend other AWS services with custom logic\n",
    "* Build custom back-end services\n",
    "* Completely Automated Administration\n",
    "* Built-in Fault Tolerance\n",
    "* Automatic Scaling\n",
    "* Integrated Security Model\n",
    "* Bring Your Own Code\n",
    "* Pay Per Use"
   ]
  },
  {
   "cell_type": "markdown",
   "metadata": {
    "slideshow": {
     "slide_type": "subslide"
    }
   },
   "source": [
    "# How it works\n",
    "\n",
    "<img src=\"Lambda_HowItWorks.png\">"
   ]
  },
  {
   "cell_type": "markdown",
   "metadata": {
    "slideshow": {
     "slide_type": "subslide"
    }
   },
   "source": [
    "# Use Cases"
   ]
  },
  {
   "cell_type": "markdown",
   "metadata": {
    "slideshow": {
     "slide_type": "subslide"
    }
   },
   "source": [
    "# Real Time File Processing\n",
    "\n",
    "<img src=\"Lambda_FileProcessing.png\">"
   ]
  },
  {
   "cell_type": "markdown",
   "metadata": {
    "slideshow": {
     "slide_type": "subslide"
    }
   },
   "source": [
    "# Real Time Stream Processing\n",
    "\n",
    "<img src=\"Lambda_StreamProcessing.png\">"
   ]
  },
  {
   "cell_type": "markdown",
   "metadata": {
    "slideshow": {
     "slide_type": "subslide"
    }
   },
   "source": [
    "# Extract, Transform, Load\n",
    "\n",
    "<img src=\"Lambda_ETL.png\">"
   ]
  },
  {
   "cell_type": "markdown",
   "metadata": {
    "slideshow": {
     "slide_type": "subslide"
    }
   },
   "source": [
    "# Backend - IOT\n",
    "\n",
    "<img src=\"Lambda_IoT.png\">"
   ]
  },
  {
   "cell_type": "markdown",
   "metadata": {
    "slideshow": {
     "slide_type": "subslide"
    }
   },
   "source": [
    "# Backend - Mobile\n",
    "\n",
    "<img src=\"Lambda_MobileBackends.png\">"
   ]
  },
  {
   "cell_type": "markdown",
   "metadata": {
    "slideshow": {
     "slide_type": "subslide"
    }
   },
   "source": [
    "# Backend - Web\n",
    "\n",
    "<img src=\"Lambda_WebApplications.png\">"
   ]
  },
  {
   "cell_type": "markdown",
   "metadata": {
    "slideshow": {
     "slide_type": "slide"
    }
   },
   "source": [
    "# Let's consider a file processing example"
   ]
  },
  {
   "cell_type": "markdown",
   "metadata": {
    "slideshow": {
     "slide_type": "fragment"
    }
   },
   "source": [
    "<img src=\"Lambda_FileProcessing.png\">"
   ]
  },
  {
   "cell_type": "markdown",
   "metadata": {
    "slideshow": {
     "slide_type": "subslide"
    }
   },
   "source": [
    "# But let's mix it up a little bit."
   ]
  },
  {
   "cell_type": "markdown",
   "metadata": {
    "slideshow": {
     "slide_type": "fragment"
    }
   },
   "source": [
    "## Let's do something that requires external dependencies."
   ]
  },
  {
   "cell_type": "markdown",
   "metadata": {
    "slideshow": {
     "slide_type": "fragment"
    }
   },
   "source": [
    "We will follow the example of generating a GeoJSON outline\n",
    "\n",
    "http://www.perrygeo.com/running-python-with-compiled-code-on-aws-lambda.html"
   ]
  },
  {
   "cell_type": "markdown",
   "metadata": {},
   "source": [
    "# Launch EC2 Instance on which you will create code"
   ]
  },
  {
   "cell_type": "markdown",
   "metadata": {},
   "source": [
    "# Make The S3 Buckets\n",
    "\n",
    "* asg-python-lambda-source\n",
    "* asg-python-lambda-source-geojson\n",
    "\n",
    "Make sure your buckets and Lambda functions are all in the same AWS Region."
   ]
  },
  {
   "cell_type": "markdown",
   "metadata": {
    "slideshow": {
     "slide_type": "slide"
    }
   },
   "source": [
    "# Other File Processing Ideas\n",
    "\n",
    "* PDF Text/Image Extraction\n",
    "* Raw Text Data Cleanup/Munging\n",
    "* File encoding/conversions (WAV to mp3)\n",
    "\n",
    "Imagine long pipelines you drop raw data in and gradually build on over time."
   ]
  },
  {
   "cell_type": "code",
   "execution_count": null,
   "metadata": {
    "collapsed": true
   },
   "outputs": [],
   "source": []
  }
 ],
 "metadata": {
  "celltoolbar": "Slideshow",
  "kernelspec": {
   "display_name": "Python 3",
   "language": "python",
   "name": "python3"
  },
  "language_info": {
   "codemirror_mode": {
    "name": "ipython",
    "version": 3
   },
   "file_extension": ".py",
   "mimetype": "text/x-python",
   "name": "python",
   "nbconvert_exporter": "python",
   "pygments_lexer": "ipython3",
   "version": "3.5.1"
  }
 },
 "nbformat": 4,
 "nbformat_minor": 0
}
